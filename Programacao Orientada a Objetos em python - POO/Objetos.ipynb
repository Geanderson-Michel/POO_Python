{
 "cells": [
  {
   "cell_type": "markdown",
   "id": "4bb51d69",
   "metadata": {},
   "source": [
    "## Objetos"
   ]
  },
  {
   "cell_type": "markdown",
   "id": "dfffff23",
   "metadata": {},
   "source": [
    "**Definição**: São variáveis que receberão como valor a instância de uma classe."
   ]
  },
  {
   "cell_type": "code",
   "execution_count": 11,
   "id": "ebf92a30",
   "metadata": {},
   "outputs": [],
   "source": [
    "# Exemplo 1\n",
    "class Instancia:\n",
    "    \n",
    "    def __init__(self):\n",
    "        print(\"Classe Instanciada\")\n",
    "        \n",
    "    def metodo(self, msg):\n",
    "        print(msg)"
   ]
  },
  {
   "cell_type": "code",
   "execution_count": 12,
   "id": "6d9a8e07",
   "metadata": {},
   "outputs": [
    {
     "name": "stdout",
     "output_type": "stream",
     "text": [
      "Classe Instanciada\n"
     ]
    }
   ],
   "source": [
    "# Definindo um objeto\n",
    "objeto = Instancia()\n",
    "objeto;"
   ]
  },
  {
   "cell_type": "code",
   "execution_count": 14,
   "id": "b880133d",
   "metadata": {},
   "outputs": [
    {
     "name": "stdout",
     "output_type": "stream",
     "text": [
      "Mensagem de Teste\n"
     ]
    }
   ],
   "source": [
    "# Exibindo apenas a mensagem \"msg\" do metodo\n",
    "objeto.metodo('Mensagem de Teste')"
   ]
  }
 ],
 "metadata": {
  "kernelspec": {
   "display_name": "Python 3 (ipykernel)",
   "language": "python",
   "name": "python3"
  },
  "language_info": {
   "codemirror_mode": {
    "name": "ipython",
    "version": 3
   },
   "file_extension": ".py",
   "mimetype": "text/x-python",
   "name": "python",
   "nbconvert_exporter": "python",
   "pygments_lexer": "ipython3",
   "version": "3.9.12"
  }
 },
 "nbformat": 4,
 "nbformat_minor": 5
}
