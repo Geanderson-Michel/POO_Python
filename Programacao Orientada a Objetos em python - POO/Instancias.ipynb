{
 "cells": [
  {
   "cell_type": "markdown",
   "id": "b4d1e876",
   "metadata": {},
   "source": [
    "## Instâncias"
   ]
  },
  {
   "cell_type": "markdown",
   "id": "2f19c23a",
   "metadata": {},
   "source": [
    "**Definição**: São referências aos nomes das classes que promovem a sua execução."
   ]
  },
  {
   "cell_type": "code",
   "execution_count": 1,
   "id": "63c1243d",
   "metadata": {},
   "outputs": [],
   "source": [
    "# Exemplo 1\n",
    "class Classe:\n",
    "    def __init__(self):\n",
    "        print(\"Classe Instanciada\")\n",
    "    def metodo(self):\n",
    "        print(\"Método Executado\")"
   ]
  },
  {
   "cell_type": "code",
   "execution_count": 2,
   "id": "e47b2def",
   "metadata": {},
   "outputs": [
    {
     "name": "stdout",
     "output_type": "stream",
     "text": [
      "Classe Instanciada\n"
     ]
    }
   ],
   "source": [
    "# Instanciando a classe criada acima\n",
    "Classe();"
   ]
  },
  {
   "cell_type": "code",
   "execution_count": 3,
   "id": "a5f633fc",
   "metadata": {},
   "outputs": [
    {
     "name": "stdout",
     "output_type": "stream",
     "text": [
      "Classe Instanciada\n",
      "Método Executado\n"
     ]
    }
   ],
   "source": [
    "# Utilizando a instância da classe para executar o método construtor e o outro método criado\n",
    "Classe().metodo()"
   ]
  },
  {
   "cell_type": "code",
   "execution_count": 4,
   "id": "6d9f2ad8",
   "metadata": {},
   "outputs": [
    {
     "name": "stdout",
     "output_type": "stream",
     "text": [
      "Método Executado\n"
     ]
    }
   ],
   "source": [
    "# Forma de executar o método criado, sem executar o método construtor.\n",
    "# É necessário passar o argumento None dentro do argumento de metodo e não digitar os parênteses da Classe.\n",
    "Classe.metodo(None)"
   ]
  },
  {
   "cell_type": "code",
   "execution_count": 5,
   "id": "2df3e0c5",
   "metadata": {},
   "outputs": [
    {
     "name": "stdout",
     "output_type": "stream",
     "text": [
      "Classe Instanciada\n"
     ]
    }
   ],
   "source": [
    "# Instanciando a classe Classe() por meio da variável c\n",
    "c = Classe()"
   ]
  },
  {
   "cell_type": "code",
   "execution_count": 6,
   "id": "7ad9f2f0",
   "metadata": {},
   "outputs": [
    {
     "name": "stdout",
     "output_type": "stream",
     "text": [
      "Método Executado\n"
     ]
    }
   ],
   "source": [
    "# Executa o método\n",
    "c.metodo()"
   ]
  }
 ],
 "metadata": {
  "kernelspec": {
   "display_name": "Python 3 (ipykernel)",
   "language": "python",
   "name": "python3"
  },
  "language_info": {
   "codemirror_mode": {
    "name": "ipython",
    "version": 3
   },
   "file_extension": ".py",
   "mimetype": "text/x-python",
   "name": "python",
   "nbconvert_exporter": "python",
   "pygments_lexer": "ipython3",
   "version": "3.9.12"
  }
 },
 "nbformat": 4,
 "nbformat_minor": 5
}
