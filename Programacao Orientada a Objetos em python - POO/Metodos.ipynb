{
 "cells": [
  {
   "cell_type": "markdown",
   "id": "836eb531",
   "metadata": {},
   "source": [
    "## Métodos"
   ]
  },
  {
   "cell_type": "markdown",
   "id": "1e06850d",
   "metadata": {},
   "source": [
    "**Definição**: São subestruturas (conjunto de códigos) dentro da estrutura maior que é a classe. Essas subestruturas não executam qualquer tipo de retorno ao serem executadas (pois esse é o papel das funções)."
   ]
  },
  {
   "cell_type": "markdown",
   "id": "aa7dda72",
   "metadata": {},
   "source": [
    "## Criando Métodos"
   ]
  },
  {
   "cell_type": "code",
   "execution_count": 1,
   "id": "f18e5872",
   "metadata": {},
   "outputs": [],
   "source": [
    "# Exemplo 1\n",
    "class Classe:\n",
    "    \n",
    "    def metodo(self):\n",
    "        print('método executado')"
   ]
  },
  {
   "cell_type": "code",
   "execution_count": 2,
   "id": "c6ea3f14",
   "metadata": {},
   "outputs": [],
   "source": [
    "c = Classe()"
   ]
  },
  {
   "cell_type": "code",
   "execution_count": 3,
   "id": "03711199",
   "metadata": {},
   "outputs": [
    {
     "name": "stdout",
     "output_type": "stream",
     "text": [
      "método executado\n"
     ]
    }
   ],
   "source": [
    "c.metodo()"
   ]
  },
  {
   "cell_type": "code",
   "execution_count": 1,
   "id": "7e1e340f",
   "metadata": {},
   "outputs": [],
   "source": [
    "# Exemplo 2\n",
    "class Classe:\n",
    "    \n",
    "    # Método construtor    \n",
    "    def __init__(self):\n",
    "        print('Construtor executado')\n",
    "        \n",
    "    def metodo(self):\n",
    "        print('método executado')\n",
    "     \n",
    "    # Método destrutor\n",
    "    def __del__(self):\n",
    "        print('Destrutor executado')"
   ]
  },
  {
   "cell_type": "code",
   "execution_count": 2,
   "id": "0c48b296",
   "metadata": {},
   "outputs": [
    {
     "name": "stdout",
     "output_type": "stream",
     "text": [
      "Construtor executado\n"
     ]
    }
   ],
   "source": [
    "# Objeto c recebe a instancia da classe Classe\n",
    "c = Classe()"
   ]
  },
  {
   "cell_type": "code",
   "execution_count": 3,
   "id": "52d7eda7",
   "metadata": {},
   "outputs": [
    {
     "name": "stdout",
     "output_type": "stream",
     "text": [
      "método executado\n"
     ]
    }
   ],
   "source": [
    "c.metodo()"
   ]
  },
  {
   "cell_type": "code",
   "execution_count": 4,
   "id": "cce5c522",
   "metadata": {},
   "outputs": [
    {
     "name": "stdout",
     "output_type": "stream",
     "text": [
      "Destrutor executado\n"
     ]
    }
   ],
   "source": [
    "del c"
   ]
  },
  {
   "cell_type": "code",
   "execution_count": 10,
   "id": "0e52cd58",
   "metadata": {},
   "outputs": [],
   "source": [
    "# Exemplo 3\n",
    "class Classe:\n",
    "    \n",
    "    # Método construtor    \n",
    "    def __init__(self):\n",
    "        print('Construtor executado')\n",
    "        \n",
    "    def metodo(self):\n",
    "        print('Método executado')\n",
    "     \n",
    "    # Método destrutor\n",
    "    def __del__(self):\n",
    "        print('Destrutor executado')"
   ]
  },
  {
   "cell_type": "code",
   "execution_count": 13,
   "id": "9637e551",
   "metadata": {},
   "outputs": [
    {
     "name": "stdout",
     "output_type": "stream",
     "text": [
      "Método executado\n"
     ]
    }
   ],
   "source": [
    "# Ao executar a classe sem os parênteses, o método construtor não é acionado\n",
    "Classe.metodo(None)"
   ]
  },
  {
   "cell_type": "code",
   "execution_count": 14,
   "id": "6a448549",
   "metadata": {},
   "outputs": [
    {
     "name": "stdout",
     "output_type": "stream",
     "text": [
      "Destrutor executado\n"
     ]
    }
   ],
   "source": [
    "# Aciona o método destrutor de forma não-automática\n",
    "Classe.__del__(None)"
   ]
  },
  {
   "cell_type": "code",
   "execution_count": 15,
   "id": "5eba873d",
   "metadata": {},
   "outputs": [
    {
     "name": "stdout",
     "output_type": "stream",
     "text": [
      "Construtor executado\n"
     ]
    }
   ],
   "source": [
    "# Aciona o método construtor de forma não-automática\n",
    "Classe.__init__(None)"
   ]
  },
  {
   "cell_type": "code",
   "execution_count": 16,
   "id": "2725e28c",
   "metadata": {},
   "outputs": [],
   "source": [
    "# Exemplo 4\n",
    "class Classe:\n",
    "    \n",
    "    def metodo(self, msg):\n",
    "        print(msg)"
   ]
  },
  {
   "cell_type": "code",
   "execution_count": 17,
   "id": "f3e87e36",
   "metadata": {},
   "outputs": [],
   "source": [
    "c = Classe()"
   ]
  },
  {
   "cell_type": "code",
   "execution_count": 18,
   "id": "6d9f3132",
   "metadata": {},
   "outputs": [
    {
     "name": "stdout",
     "output_type": "stream",
     "text": [
      "Mensagem teste\n"
     ]
    }
   ],
   "source": [
    "c.metodo('Mensagem teste')"
   ]
  },
  {
   "cell_type": "code",
   "execution_count": 19,
   "id": "0c5dcd27",
   "metadata": {},
   "outputs": [],
   "source": [
    "# Exemplo 5\n",
    "class Classe:\n",
    "    \n",
    "    def metodo(self, msg1, msg2):\n",
    "        print(msg1)\n",
    "        print(msg2)"
   ]
  },
  {
   "cell_type": "code",
   "execution_count": 20,
   "id": "d93d316a",
   "metadata": {},
   "outputs": [],
   "source": [
    "c = Classe()"
   ]
  },
  {
   "cell_type": "code",
   "execution_count": 21,
   "id": "3d02373e",
   "metadata": {},
   "outputs": [
    {
     "name": "stdout",
     "output_type": "stream",
     "text": [
      "Mensagem 1\n",
      "Mensagem 2\n"
     ]
    }
   ],
   "source": [
    "# As strings foram fornecidas na ordem que os parâmetros msg1 e msg2 foram declarados no método\n",
    "c.metodo('Mensagem 1', 'Mensagem 2')"
   ]
  },
  {
   "cell_type": "code",
   "execution_count": 22,
   "id": "9808061e",
   "metadata": {},
   "outputs": [],
   "source": [
    "# Exemplo 6\n",
    "class Classe:\n",
    "    \n",
    "    def metodo(self, msg1, msg2):\n",
    "        print(msg1)\n",
    "        print(msg2)"
   ]
  },
  {
   "cell_type": "code",
   "execution_count": 23,
   "id": "2473d1a1",
   "metadata": {},
   "outputs": [],
   "source": [
    "c = Classe()"
   ]
  },
  {
   "cell_type": "code",
   "execution_count": 24,
   "id": "c35e876f",
   "metadata": {},
   "outputs": [
    {
     "name": "stdout",
     "output_type": "stream",
     "text": [
      "Mensagem 1\n",
      "Mensagem 2\n"
     ]
    }
   ],
   "source": [
    "# As strings foram fornecidas fora da ordem de declaração dos parâmetros msg1 e msg2, por isso, fez-se necessário\n",
    "# a declaração dos parâmetros dentro do método de forma explícita.\n",
    "c.metodo(msg2 = 'Mensagem 2', msg1 = 'Mensagem 1')"
   ]
  },
  {
   "cell_type": "markdown",
   "id": "c6ca3cd4",
   "metadata": {},
   "source": [
    "## Chamando métodos de dentro de métodos ou classes diferentes"
   ]
  },
  {
   "cell_type": "code",
   "execution_count": 36,
   "id": "5256bb19",
   "metadata": {},
   "outputs": [],
   "source": [
    "# Exemplo 7\n",
    "class Classe():\n",
    "    \n",
    "    def metodo1(self):        \n",
    "        print('Método 1')\n",
    "        \n",
    "    # Escrevendo self.metodo1 nos permite chamar o método 1 por meio da chamada do método 2\n",
    "    def metodo2(self):        \n",
    "        self.metodo1()\n",
    "        print('Método 2')"
   ]
  },
  {
   "cell_type": "code",
   "execution_count": 37,
   "id": "bbd9ecdd",
   "metadata": {},
   "outputs": [],
   "source": [
    "c = Classe()"
   ]
  },
  {
   "cell_type": "code",
   "execution_count": 38,
   "id": "2485af3e",
   "metadata": {},
   "outputs": [
    {
     "name": "stdout",
     "output_type": "stream",
     "text": [
      "Método 1\n",
      "Método 2\n"
     ]
    }
   ],
   "source": [
    "c.metodo2()"
   ]
  },
  {
   "cell_type": "code",
   "execution_count": 39,
   "id": "ae9e6ed8",
   "metadata": {},
   "outputs": [],
   "source": [
    "# Exemplo 8\n",
    "class Classe1():\n",
    "    \n",
    "    def metodo(self):        \n",
    "        print('Método da classe 1')\n",
    "\n",
    "class Classe2():\n",
    "    \n",
    "    def metodo(self):        \n",
    "        print('Método da classe 2')\n",
    "        \n",
    "    def metodo_principal(self):\n",
    "        Classe1().metodo() # Chama o método da classe 1\n",
    "        self.metodo() # Chama o método da classe 2"
   ]
  },
  {
   "cell_type": "code",
   "execution_count": 40,
   "id": "a93ede54",
   "metadata": {},
   "outputs": [],
   "source": [
    "c2 = Classe2()"
   ]
  },
  {
   "cell_type": "code",
   "execution_count": 41,
   "id": "7600e1c3",
   "metadata": {},
   "outputs": [
    {
     "name": "stdout",
     "output_type": "stream",
     "text": [
      "Método da classe 1\n",
      "Método da classe 2\n"
     ]
    }
   ],
   "source": [
    "c2.metodo_principal()"
   ]
  },
  {
   "cell_type": "code",
   "execution_count": 43,
   "id": "3a835c00",
   "metadata": {},
   "outputs": [],
   "source": [
    "# Exemplo 9\n",
    "class Classe1():\n",
    "    \n",
    "    def metodo(self):        \n",
    "        print('Método da classe 1')\n",
    "\n",
    "class Classe2():\n",
    "    \n",
    "    def metodo(self):        \n",
    "        print('Método da classe 2')\n",
    "        \n",
    "    def metodo_principal(self):\n",
    "        Classe1.metodo(self) # Outra forma de chamar o método da classe 1\n",
    "        self.metodo() # Chama o método da classe 2"
   ]
  },
  {
   "cell_type": "code",
   "execution_count": 44,
   "id": "f5f348cc",
   "metadata": {},
   "outputs": [],
   "source": [
    "c2 = Classe2()"
   ]
  },
  {
   "cell_type": "code",
   "execution_count": 45,
   "id": "2b83fd6b",
   "metadata": {},
   "outputs": [
    {
     "name": "stdout",
     "output_type": "stream",
     "text": [
      "Método da classe 1\n",
      "Método da classe 2\n"
     ]
    }
   ],
   "source": [
    "c2.metodo_principal()"
   ]
  },
  {
   "cell_type": "markdown",
   "id": "3d6a17a7",
   "metadata": {},
   "source": [
    "## Execução de métodos em cascata"
   ]
  },
  {
   "cell_type": "code",
   "execution_count": 53,
   "id": "bf8cf9bc",
   "metadata": {},
   "outputs": [],
   "source": [
    "# Exemplo 10\n",
    "class Classe:\n",
    "    def primeiro(self, msg):\n",
    "        print(msg)\n",
    "        \n",
    "    def segundo(self, msg1, msg2):\n",
    "        self.primeiro(msg1) # Chama o método primeiro\n",
    "        print(msg2)"
   ]
  },
  {
   "cell_type": "code",
   "execution_count": 54,
   "id": "2d816d8b",
   "metadata": {},
   "outputs": [],
   "source": [
    "c = Classe()"
   ]
  },
  {
   "cell_type": "code",
   "execution_count": 55,
   "id": "a61b265a",
   "metadata": {},
   "outputs": [
    {
     "name": "stdout",
     "output_type": "stream",
     "text": [
      "primeiro\n",
      "segundo\n"
     ]
    }
   ],
   "source": [
    "c.segundo('primeiro', 'segundo')"
   ]
  },
  {
   "cell_type": "code",
   "execution_count": 56,
   "id": "69c39d57",
   "metadata": {},
   "outputs": [],
   "source": [
    "# Exemplo 11\n",
    "class Classe:\n",
    "    def primeiro(self, msg):\n",
    "        print(msg)\n",
    "        \n",
    "    def segundo(self, msg1, msg2):\n",
    "        self.primeiro(msg1) # Chama o método primeiro\n",
    "        print(msg2)\n",
    "        \n",
    "    def terceiro(self, msg1, msg2, msg3):\n",
    "        self.segundo(msg1, msg2) # Chama o método segundo\n",
    "        print(msg3)"
   ]
  },
  {
   "cell_type": "code",
   "execution_count": 57,
   "id": "01589dc6",
   "metadata": {},
   "outputs": [],
   "source": [
    "c = Classe()"
   ]
  },
  {
   "cell_type": "code",
   "execution_count": 58,
   "id": "98e9c6dd",
   "metadata": {},
   "outputs": [
    {
     "name": "stdout",
     "output_type": "stream",
     "text": [
      "primeiro\n",
      "segundo\n",
      "terceiro\n"
     ]
    }
   ],
   "source": [
    "c.terceiro('primeiro', 'segundo', 'terceiro')"
   ]
  },
  {
   "cell_type": "markdown",
   "id": "979b8171",
   "metadata": {},
   "source": [
    "## Declaração de métodos dentro de método"
   ]
  },
  {
   "cell_type": "code",
   "execution_count": 66,
   "id": "1c377fda",
   "metadata": {},
   "outputs": [],
   "source": [
    "# Exemplo 12\n",
    "class Classe:\n",
    "    def metodo_principal(self, msg):\n",
    "        def metodo_secundario(msg):  # Em um método dentro de outro método, não é preciso passar o parâmetro obrigatório self\n",
    "            print(msg)\n",
    "        \n",
    "        metodo_secundario(msg) # Não é preciso passar o parâmetro self para chamar o metodo_secundario"
   ]
  },
  {
   "cell_type": "code",
   "execution_count": 67,
   "id": "e6d088d7",
   "metadata": {},
   "outputs": [],
   "source": [
    "c = Classe()"
   ]
  },
  {
   "cell_type": "code",
   "execution_count": 69,
   "id": "0d46ea93",
   "metadata": {},
   "outputs": [
    {
     "name": "stdout",
     "output_type": "stream",
     "text": [
      "Mensagem teste\n"
     ]
    }
   ],
   "source": [
    "c.metodo_principal('Mensagem teste')"
   ]
  },
  {
   "cell_type": "markdown",
   "id": "fb8131f9",
   "metadata": {},
   "source": [
    "## Parâmetro com valor default"
   ]
  },
  {
   "cell_type": "code",
   "execution_count": 70,
   "id": "4829fec3",
   "metadata": {},
   "outputs": [],
   "source": [
    "# Exemplo 13\n",
    "class Classe():\n",
    "    def metodo(self, msg = 'Valor padrão'): # Atribuindo um valor default para o parâmetro msg\n",
    "        print(msg)"
   ]
  },
  {
   "cell_type": "code",
   "execution_count": 71,
   "id": "24d16b6f",
   "metadata": {},
   "outputs": [],
   "source": [
    "c = Classe()"
   ]
  },
  {
   "cell_type": "code",
   "execution_count": 72,
   "id": "63ed63af",
   "metadata": {},
   "outputs": [
    {
     "name": "stdout",
     "output_type": "stream",
     "text": [
      "Valor padrão\n"
     ]
    }
   ],
   "source": [
    "# Sem passar qualquer parâmetro como argumento do método, a string 'Valor padrão' será printada na tela\n",
    "c.metodo()"
   ]
  },
  {
   "cell_type": "code",
   "execution_count": 75,
   "id": "4336e1cd",
   "metadata": {},
   "outputs": [
    {
     "name": "stdout",
     "output_type": "stream",
     "text": [
      "Valor sobreposto\n"
     ]
    }
   ],
   "source": [
    "# Ao passar uma string para o parâmetro msg, a string 'Valor padrão'(valor default para msg) será sobreposta.\n",
    "c.metodo('Valor sobreposto')"
   ]
  },
  {
   "cell_type": "code",
   "execution_count": null,
   "id": "d0e0914a",
   "metadata": {},
   "outputs": [],
   "source": []
  }
 ],
 "metadata": {
  "kernelspec": {
   "display_name": "Python 3 (ipykernel)",
   "language": "python",
   "name": "python3"
  },
  "language_info": {
   "codemirror_mode": {
    "name": "ipython",
    "version": 3
   },
   "file_extension": ".py",
   "mimetype": "text/x-python",
   "name": "python",
   "nbconvert_exporter": "python",
   "pygments_lexer": "ipython3",
   "version": "3.9.12"
  }
 },
 "nbformat": 4,
 "nbformat_minor": 5
}
