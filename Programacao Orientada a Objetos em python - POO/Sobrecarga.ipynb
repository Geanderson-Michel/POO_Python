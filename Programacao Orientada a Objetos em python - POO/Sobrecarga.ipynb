{
 "cells": [
  {
   "cell_type": "markdown",
   "id": "d9de616a",
   "metadata": {},
   "source": [
    "## Sobrecarga"
   ]
  },
  {
   "cell_type": "markdown",
   "id": "be2a6e0a",
   "metadata": {},
   "source": [
    "**Definição**: É a capacidade de executar métodos ou funções de forma diferente, a depender dos parâmetros"
   ]
  },
  {
   "cell_type": "code",
   "execution_count": 1,
   "id": "0f2c2d1d",
   "metadata": {},
   "outputs": [],
   "source": [
    "# Exemplo 1 - Haverá uma execução diferente a depender dos parâmetros que estivermos executando\n",
    "class Classe:\n",
    "    \n",
    "    def metodo(self, msg = ''): # Declarando um metodo\n",
    "        # Estrutura condicional\n",
    "        if len(msg.strip()) == 0: # Verifica se a string está vazia\n",
    "            print('Sem mensagem')\n",
    "            \n",
    "        else: # Caso a string tenha tamanho diferente de zero (não esteja vazia), o metodo mostrará a mensagem msg\n",
    "            print(f'Mensagem recebida: {msg}')"
   ]
  },
  {
   "cell_type": "code",
   "execution_count": 2,
   "id": "61573391",
   "metadata": {},
   "outputs": [],
   "source": [
    "# Definindo o objeto para instanciarmos a classe\n",
    "c = Classe()"
   ]
  },
  {
   "cell_type": "code",
   "execution_count": 3,
   "id": "5ce4e55d",
   "metadata": {},
   "outputs": [
    {
     "name": "stdout",
     "output_type": "stream",
     "text": [
      "Sem mensagem\n",
      "Mensagem recebida: Teste\n"
     ]
    }
   ],
   "source": [
    "c.metodo() # Executa o metodo, sem qualquer tipo de parâmetro\n",
    "c.metodo('Teste') # Executa o metodo, com uma mensagem sendo passada como parâmetro"
   ]
  },
  {
   "cell_type": "code",
   "execution_count": 4,
   "id": "d6bb13e7",
   "metadata": {},
   "outputs": [],
   "source": [
    "# Exemplo 2 - Haverá uma execução diferente a depender dos parâmetros que estivermos executando\n",
    "class Classe:\n",
    "    \n",
    "    def metodo(self, parametro = ''):\n",
    "        # Estrutura condicional\n",
    "        if type(parametro) == str: # Verifica se o parâmetro é uma string\n",
    "            print(f'O Parâmetro é uma string: {parametro}')\n",
    "            \n",
    "        else: # Caso o parâmetro não seja uma string, a seguinte mensagem será exibida\n",
    "            print(f'O Parâmetro não é uma string: {parametro}')"
   ]
  },
  {
   "cell_type": "code",
   "execution_count": 5,
   "id": "a7ce1a78",
   "metadata": {},
   "outputs": [],
   "source": [
    "c = Classe() # Definindo o objeto para instanciarmos a classe"
   ]
  },
  {
   "cell_type": "code",
   "execution_count": 6,
   "id": "f8018f6c",
   "metadata": {},
   "outputs": [
    {
     "name": "stdout",
     "output_type": "stream",
     "text": [
      "O Parâmetro é uma string: Texto\n",
      "O Parâmetro não é uma string: 5\n"
     ]
    }
   ],
   "source": [
    "c.metodo('Texto') # Executa o metodo, passando como parâmetro uma string\n",
    "c.metodo(5) # Executa o metodo, passando como parâmetro um inteiro"
   ]
  },
  {
   "cell_type": "code",
   "execution_count": 11,
   "id": "f981fd7e",
   "metadata": {},
   "outputs": [],
   "source": [
    "# Exemplo 3 - Haverá uma execução diferente a depender dos parâmetros que estivermos executando\n",
    "class Classe:\n",
    "    \n",
    "    def funcao(self, msg = ''): # Declarando uma funcao\n",
    "        # Estrutura condicional\n",
    "        if len(msg.strip()) == 0: # Verifica se a string está vazia\n",
    "            return 'Sem mensagem'\n",
    "            \n",
    "        else: # Caso o parâmetro não seja uma string, a seguinte mensagem será exibida\n",
    "            return f'Mensagem recebida: {msg}'"
   ]
  },
  {
   "cell_type": "code",
   "execution_count": 12,
   "id": "893f08c1",
   "metadata": {},
   "outputs": [],
   "source": [
    "c = Classe() # Definindo o objeto para instanciarmos a classe"
   ]
  },
  {
   "cell_type": "code",
   "execution_count": 13,
   "id": "145701a8",
   "metadata": {},
   "outputs": [
    {
     "name": "stdout",
     "output_type": "stream",
     "text": [
      "Sem mensagem\n",
      "Mensagem recebida: Teste\n"
     ]
    }
   ],
   "source": [
    "print(c.funcao()) # Executa o metodo, sem qualquer tipo de parâmetro\n",
    "print(c.funcao('Teste')) # Executa o metodo, com uma mensagem sendo passada como parâmetro"
   ]
  },
  {
   "cell_type": "code",
   "execution_count": 20,
   "id": "479ca90d",
   "metadata": {},
   "outputs": [],
   "source": [
    "# Exemplo 4 - Haverá uma execução diferente a depender dos parâmetros que estivermos executando\n",
    "class Divisao:\n",
    "    \n",
    "    def divisao(self, n1 = 0, n2 = 0):\n",
    "        \n",
    "        # Estrutura condicional        \n",
    "        if type(n1) == int or type(n1) == float: # Verifica se n1 é um número inteiro ou flutuante\n",
    "            \n",
    "            if type(n2) == int or type(n2) == float: # Verifica se n2 é um número inteiro ou flutuante\n",
    "                \n",
    "                if n2 == 0: # Verifica se n2 é zero\n",
    "                    print('Não é possível dividir por zero')\n",
    "                    \n",
    "                else: # Caso n2 seja diferente de 0, retorna o resultado da divisão\n",
    "                    print(f'{n1} / {n2} = {n1/n2}')\n",
    "                    \n",
    "            else: # Caso n2 não seja um número, essa condição retornará a seguinte mensagem \n",
    "                print('O segundo parâmetro precisa ser um número')\n",
    "                \n",
    "        else: # Caso n1 não seja um número, essa condição retornará a seguinte mensagem\n",
    "            print('O primeiro parâmetro precisa ser um número')"
   ]
  },
  {
   "cell_type": "code",
   "execution_count": 21,
   "id": "d9800eec",
   "metadata": {},
   "outputs": [],
   "source": [
    "d = Divisao() # Definindo o objeto d para instanciarmos a classe Divisao"
   ]
  },
  {
   "cell_type": "code",
   "execution_count": 22,
   "id": "93bfc678",
   "metadata": {},
   "outputs": [
    {
     "name": "stdout",
     "output_type": "stream",
     "text": [
      "Não é possível dividir por zero\n",
      "Não é possível dividir por zero\n",
      "0 / 2 = 0.0\n",
      "O primeiro parâmetro precisa ser um número\n",
      "O segundo parâmetro precisa ser um número\n",
      "O primeiro parâmetro precisa ser um número\n",
      "10 / 2 = 5.0\n"
     ]
    }
   ],
   "source": [
    "# Exibindo alguns resultados gerados pelas variações dos parâmetros no metodo divisao\n",
    "d.divisao()\n",
    "d.divisao(n1 = 10)\n",
    "d.divisao(n2 = 2)\n",
    "d.divisao(n1 = 'Texto', n2 = 2)\n",
    "d.divisao(n1 = 10, n2 = 'Texto')\n",
    "d.divisao('Texto', 'Texto')\n",
    "d.divisao(n1 = 10, n2 = 2)"
   ]
  },
  {
   "cell_type": "markdown",
   "id": "1e6fbf17",
   "metadata": {},
   "source": [
    "## Sobrecarga com Polimorfismo"
   ]
  },
  {
   "cell_type": "code",
   "execution_count": 31,
   "id": "5c4f2f37",
   "metadata": {},
   "outputs": [],
   "source": [
    "# Exemplo 5\n",
    "class Classe1:\n",
    "    \n",
    "    def metodo(self):\n",
    "        print('Sem mensagem')\n",
    "        \n",
    "\n",
    "class Classe2(Classe1):\n",
    "    \n",
    "    def metodo(self, msg = ''): # Declarando um metodo\n",
    "        # Estrutura condicional\n",
    "        if len(msg.strip()) == 0: # Verifica se a string está vazia\n",
    "            super().metodo()\n",
    "            \n",
    "        else: # Caso a string tenha tamanho diferente de zero (não esteja vazia), o metodo mostrará a mensagem msg\n",
    "            print(f'Mensagem recebida: {msg}')"
   ]
  },
  {
   "cell_type": "code",
   "execution_count": 32,
   "id": "db1c7310",
   "metadata": {},
   "outputs": [],
   "source": [
    "c = Classe2()"
   ]
  },
  {
   "cell_type": "code",
   "execution_count": 34,
   "id": "9b11807e",
   "metadata": {},
   "outputs": [
    {
     "name": "stdout",
     "output_type": "stream",
     "text": [
      "Sem mensagem\n",
      "Mensagem recebida: Teste\n"
     ]
    }
   ],
   "source": [
    "c.metodo() # o código super().metodo() funcionará na execução desse método, retornando a mensagem do metodo da classe Classe1\n",
    "c.metodo('Teste') # o else do metodo da classe Classe2 funcionará na execução desse método"
   ]
  },
  {
   "cell_type": "code",
   "execution_count": 35,
   "id": "a46c65f4",
   "metadata": {},
   "outputs": [],
   "source": [
    "# Exemplo 6\n",
    "class Classe1:\n",
    "    def metodo(self, string = ''):\n",
    "        print(f'O parâmetro é uma string: {string}')\n",
    "\n",
    "class Classe2(Classe1):\n",
    "    \n",
    "    def metodo(self, parametro = ''):\n",
    "        # Estrutura condicional\n",
    "        if type(parametro) == str: # Verifica se o parâmetro é uma string\n",
    "            super().metodo(parametro)\n",
    "            \n",
    "        else: # Caso o parâmetro não seja uma string, a seguinte mensagem será exibida\n",
    "            print(f'O parâmetro não é uma string: {parametro}')"
   ]
  },
  {
   "cell_type": "code",
   "execution_count": 36,
   "id": "70f22382",
   "metadata": {},
   "outputs": [],
   "source": [
    "c = Classe2()"
   ]
  },
  {
   "cell_type": "code",
   "execution_count": 37,
   "id": "95eab5d7",
   "metadata": {},
   "outputs": [
    {
     "name": "stdout",
     "output_type": "stream",
     "text": [
      "O parâmetro é uma string: Texto\n",
      "O parâmetro não é uma string: 5\n"
     ]
    }
   ],
   "source": [
    "c.metodo('Texto') # o código super().metodo(parametro) funcionará na execução desse método\n",
    "c.metodo(5) # o else do metodo da classe Classe2 funcionará na execução desse método"
   ]
  },
  {
   "cell_type": "code",
   "execution_count": 41,
   "id": "5d21895a",
   "metadata": {},
   "outputs": [],
   "source": [
    "# Exemplo 7\n",
    "class Classe1:\n",
    "    \n",
    "    def funcao(self):\n",
    "        return 'Sem mensagem'\n",
    "\n",
    "class Classe2(Classe1):\n",
    "    \n",
    "    def funcao(self, msg = ''): # Declarando uma funcao\n",
    "        # Estrutura condicional\n",
    "        if len(msg.strip()) == 0: # Verifica se a string está vazia\n",
    "            return super().funcao() # retorna a mensagem na funcao da classe Classe1\n",
    "            \n",
    "        else: # Caso o parâmetro não seja uma string, a seguinte mensagem será exibida\n",
    "            return f'Mensagem recebida: {msg}'"
   ]
  },
  {
   "cell_type": "code",
   "execution_count": 42,
   "id": "e96510f2",
   "metadata": {},
   "outputs": [],
   "source": [
    "c = Classe2()"
   ]
  },
  {
   "cell_type": "code",
   "execution_count": 43,
   "id": "a9236bf0",
   "metadata": {},
   "outputs": [
    {
     "name": "stdout",
     "output_type": "stream",
     "text": [
      "Sem mensagem\n",
      "Mensagem recebida: Teste\n"
     ]
    }
   ],
   "source": [
    "print(c.funcao())\n",
    "print(c.funcao('Teste'))"
   ]
  },
  {
   "cell_type": "markdown",
   "id": "52d5fc74",
   "metadata": {},
   "source": [
    "## Sobrecarga de Operadores Matemáticos"
   ]
  },
  {
   "cell_type": "markdown",
   "id": "9bcc9e71",
   "metadata": {},
   "source": [
    "**Definição**: Permite definir o comportamento de vários operadores matemáticos da linguagem para novos tipos de dados. É apenas uma forma conveniente de escrever operações com objetos p1 e p2 como p1 + p2, ao invés de p1.soma(p2), ou ainda, p1 == p2, ao invés de p1.igual(p2), onde soma() e igual() são funções definidas manualmente pelo programador."
   ]
  },
  {
   "cell_type": "code",
   "execution_count": 1,
   "id": "367adbf4",
   "metadata": {},
   "outputs": [],
   "source": [
    "# Exemplo 8\n",
    "class Sobrecarga:\n",
    "    def __init__(self, numero):\n",
    "        self.numero = numero # Valor que fica a esquerda da operação matemática\n",
    "    \n",
    "    def __add__(self, outro_numero):\n",
    "        return self.numero + outro_numero.numero # outro_valor = Valor que fica a direita da operação matemática\n",
    "    \n",
    "    def __sub__(self, outro_numero):\n",
    "        return self.numero - outro_numero.numero\n",
    "    \n",
    "    def __truediv__(self, outro_numero):\n",
    "        return self.numero / outro_numero.numero\n",
    "    \n",
    "    def __mul__(self, outro_numero):\n",
    "        return self.numero * outro_numero.numero\n",
    "    \n",
    "    def __mod__(self, outro_numero):\n",
    "        return self.numero % outro_numero.numero"
   ]
  },
  {
   "cell_type": "code",
   "execution_count": 2,
   "id": "fdf0c14c",
   "metadata": {},
   "outputs": [],
   "source": [
    "s1 = Sobrecarga(4)\n",
    "s2 = Sobrecarga(2)"
   ]
  },
  {
   "cell_type": "code",
   "execution_count": 4,
   "id": "36321ce9",
   "metadata": {},
   "outputs": [],
   "source": [
    "add = s1 + s2\n",
    "sub = s1 - s2\n",
    "div = s1 / s2\n",
    "mul = s1 * s2\n",
    "mod = s1 % s2"
   ]
  },
  {
   "cell_type": "code",
   "execution_count": 5,
   "id": "13fe8408",
   "metadata": {},
   "outputs": [
    {
     "name": "stdout",
     "output_type": "stream",
     "text": [
      "4 + 2 = 6\n",
      "4 - 2 = 2\n",
      "4 / 2 = 2.0\n",
      "4 * 2 = 8\n",
      "4 % 2 = 0\n"
     ]
    }
   ],
   "source": [
    "print(f'4 + 2 = {add}')\n",
    "print(f'4 - 2 = {sub}')\n",
    "print(f'4 / 2 = {div}')\n",
    "print(f'4 * 2 = {mul}')\n",
    "print(f'4 % 2 = {mod}')"
   ]
  }
 ],
 "metadata": {
  "kernelspec": {
   "display_name": "Python 3 (ipykernel)",
   "language": "python",
   "name": "python3"
  },
  "language_info": {
   "codemirror_mode": {
    "name": "ipython",
    "version": 3
   },
   "file_extension": ".py",
   "mimetype": "text/x-python",
   "name": "python",
   "nbconvert_exporter": "python",
   "pygments_lexer": "ipython3",
   "version": "3.9.12"
  }
 },
 "nbformat": 4,
 "nbformat_minor": 5
}
