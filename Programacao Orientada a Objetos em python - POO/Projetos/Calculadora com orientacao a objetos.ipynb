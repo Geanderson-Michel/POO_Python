{
 "cells": [
  {
   "cell_type": "markdown",
   "id": "ebbe8fd2",
   "metadata": {},
   "source": [
    "**Projeto**: Criar uma calculadora envolvendo conhecimento de programação orientada a objetos que rejeite valores string (como entrada) para os cálculos e rejeite opções diferentes das compreendidas entre 0 e 4.\n",
    "\n",
    "Opções:\n",
    "* 0 --> Sair da calculadora\n",
    "* 1 --> Somar\n",
    "* 2 --> Subtrair\n",
    "* 3 --> Multiplicar\n",
    "* 4 --> Dividir"
   ]
  },
  {
   "cell_type": "code",
   "execution_count": 1,
   "id": "e2618aa3",
   "metadata": {},
   "outputs": [],
   "source": [
    "# Definição da classe Calculadora\n",
    "class Calculadora:\n",
    "    \n",
    "    # Definição do método construtor\n",
    "    def __init__(self):\n",
    "        \n",
    "        # Exibe a mensagem toda vez que a classe for instanciada\n",
    "        print('CALCULADORA')\n",
    "    \n",
    "    # Definindo as funções para as 4 principais operações matemáticas\n",
    "    def soma(self, n1 = 0, n2 = 0): return n1 + n2\n",
    "    def subtracao(self, n1 = 0, n2 = 0): return n1 - n2\n",
    "    def multiplicacao(self, n1 = 0, n2 = 0): return n1 * n2\n",
    "    def divisao(self, n1 = 0, n2 = 0): return n1 / n2\n",
    "    \n",
    "    # Definindo um método que executa a calculadora de forma interativa\n",
    "    def executar(self):\n",
    "        \n",
    "        opcao = 1 # Atributo opcao inicia com valor igual a 1            \n",
    "        \n",
    "        # Enquanto opcao estiver no intervalo de 1 a 4...\n",
    "        while opcao > 0 and opcao <= 4:\n",
    "            \n",
    "            # Exibe algumas opções para serem digitadas interativamente             \n",
    "            print('Digite uma das opções:\\n(1) - Somar\\n(2) - Subtrair\\n(3) - Multiplicar\\n(4) - Dividir\\n(0) - Sair\\n')\n",
    "            opcao = input('Opção: ') # Pede para digitar um novo valor para a opcao\n",
    "            \n",
    "            # Tenta transformar o valor passado em inteiro, caso contrário, não faz nada com o atributo opcao\n",
    "            try: opcao = int(opcao)\n",
    "            except: pass\n",
    "            \n",
    "            # Enquanto o valor passado para opcao for uma string ou estiver fora do intervalo de 1 a 4...\n",
    "            while (type(opcao) == str) or opcao < 0 or opcao > 4:\n",
    "            \n",
    "                # Exibe algumas opções para serem digitadas interativamente \n",
    "                print('Opção inválida. Tente novamente:\\n(1) - Somar\\n(2) - Subtrair\\n(3) - Multiplicar\\n(4) - Dividir\\n(0) - Sair\\n')                \n",
    "                opcao = input('Opção: ') # Pede para digitar um novo valor para a opcao\n",
    "                \n",
    "                # Tenta transformar o valor passado em inteiro, caso contrário, não faz nada com o atributo opcao\n",
    "                try: opcao = int(opcao)\n",
    "                except: pass\n",
    "                    \n",
    "            # Se opção for igual a zero, exibe a mensagem abaixo e encerra o looping while\n",
    "            if opcao == 0: \n",
    "                \n",
    "                print('Encerrado.')\n",
    "            \n",
    "            # Caso contrário...\n",
    "            else:\n",
    "                \n",
    "                # Pede para digitar um valor para n1. Caso não seja digitado nada, n1 será igual a 1\n",
    "                try: n1 = float(input('Número 1: '))  \n",
    "                except: n1 = 1.0\n",
    "                    \n",
    "                # Pede para digitar um valor para n2. Caso não seja digitado nada, n2 será igual a 1\n",
    "                try: n2 = float(input('Número 2: '))\n",
    "                except: n2 = 1.0\n",
    "            \n",
    "                # Dependendo da opção digitada, uma operação é executada            \n",
    "                if opcao == 1: print(f'{n1} + {n2} = {self.soma(n1, n2)}\\n')\n",
    "                elif opcao == 2: print(f'{n1} - {n2} = {self.subtracao(n1, n2)}\\n')\n",
    "                elif opcao == 3: print(f'{n1} * {n2} = {self.multiplicacao(n1, n2)}\\n')\n",
    "                elif opcao == 4: print(f'{n1} / {n2} = {self.divisao(n1, n2)}\\n')"
   ]
  },
  {
   "cell_type": "code",
   "execution_count": 2,
   "id": "e862180d",
   "metadata": {},
   "outputs": [
    {
     "name": "stdout",
     "output_type": "stream",
     "text": [
      "CALCULADORA\n"
     ]
    }
   ],
   "source": [
    "# Definindo um objeto c para instanciação da classe Calculadora\n",
    "c = Calculadora()"
   ]
  },
  {
   "cell_type": "code",
   "execution_count": null,
   "id": "506870e1",
   "metadata": {},
   "outputs": [],
   "source": [
    "# Executa o método da classe Calculadora \n",
    "c.executar()"
   ]
  }
 ],
 "metadata": {
  "kernelspec": {
   "display_name": "Python 3 (ipykernel)",
   "language": "python",
   "name": "python3"
  },
  "language_info": {
   "codemirror_mode": {
    "name": "ipython",
    "version": 3
   },
   "file_extension": ".py",
   "mimetype": "text/x-python",
   "name": "python",
   "nbconvert_exporter": "python",
   "pygments_lexer": "ipython3",
   "version": "3.9.12"
  }
 },
 "nbformat": 4,
 "nbformat_minor": 5
}
