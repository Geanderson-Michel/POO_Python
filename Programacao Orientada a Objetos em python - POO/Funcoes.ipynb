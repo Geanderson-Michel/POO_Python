{
 "cells": [
  {
   "cell_type": "markdown",
   "id": "fe6bf9b4",
   "metadata": {},
   "source": [
    "## Funções"
   ]
  },
  {
   "cell_type": "markdown",
   "id": "984972b0",
   "metadata": {},
   "source": [
    "**Definição**: São subestruturas de códigos da estrutura maior que são as classes. As funções possuem retorno na sua execução, diferentemente dos métodos que não possuem retorno."
   ]
  },
  {
   "cell_type": "markdown",
   "id": "ad4e88dd",
   "metadata": {},
   "source": [
    "## Criando funções"
   ]
  },
  {
   "cell_type": "code",
   "execution_count": 4,
   "id": "31bdbe3e",
   "metadata": {},
   "outputs": [],
   "source": [
    "# Exemplo 1\n",
    "class Classe:\n",
    "    def funcao(self):\n",
    "        return 'Retorno'"
   ]
  },
  {
   "cell_type": "code",
   "execution_count": 5,
   "id": "607e84c8",
   "metadata": {},
   "outputs": [],
   "source": [
    "c = Classe()"
   ]
  },
  {
   "cell_type": "code",
   "execution_count": 6,
   "id": "5154d320",
   "metadata": {},
   "outputs": [],
   "source": [
    "retorno = c.funcao()"
   ]
  },
  {
   "cell_type": "code",
   "execution_count": 7,
   "id": "4d1a8401",
   "metadata": {},
   "outputs": [
    {
     "name": "stdout",
     "output_type": "stream",
     "text": [
      "Retorno\n"
     ]
    }
   ],
   "source": [
    "print(retorno)"
   ]
  },
  {
   "cell_type": "code",
   "execution_count": 8,
   "id": "01066417",
   "metadata": {},
   "outputs": [],
   "source": [
    "# Exemplo 2\n",
    "class Classe:\n",
    "    def funcao(self):\n",
    "        return 'Retorno'"
   ]
  },
  {
   "cell_type": "code",
   "execution_count": 10,
   "id": "9cd50628",
   "metadata": {},
   "outputs": [],
   "source": [
    "retorno = Classe.funcao(None)"
   ]
  },
  {
   "cell_type": "code",
   "execution_count": 11,
   "id": "25548b61",
   "metadata": {},
   "outputs": [
    {
     "name": "stdout",
     "output_type": "stream",
     "text": [
      "Retorno\n"
     ]
    }
   ],
   "source": [
    "print(retorno)"
   ]
  },
  {
   "cell_type": "code",
   "execution_count": 12,
   "id": "50113e0e",
   "metadata": {},
   "outputs": [],
   "source": [
    "# Exemplo 3\n",
    "class Soma:\n",
    "    def somar(self, n1, n2):\n",
    "        resultado = n1 + n2\n",
    "        return resultado"
   ]
  },
  {
   "cell_type": "code",
   "execution_count": 13,
   "id": "c8f321cc",
   "metadata": {},
   "outputs": [],
   "source": [
    "s = Soma()"
   ]
  },
  {
   "cell_type": "code",
   "execution_count": 15,
   "id": "7b54e4c5",
   "metadata": {},
   "outputs": [
    {
     "name": "stdout",
     "output_type": "stream",
     "text": [
      " 2 + 3 = 5\n"
     ]
    }
   ],
   "source": [
    "print(f' 2 + 3 = {s.somar(2, 3)}')"
   ]
  },
  {
   "cell_type": "code",
   "execution_count": 16,
   "id": "7ef4a761",
   "metadata": {},
   "outputs": [],
   "source": [
    "# Exemplo 4\n",
    "class Subtracao:\n",
    "    def subtrair(self, n1, n2):\n",
    "        resultado = n1 - n2\n",
    "        return resultado"
   ]
  },
  {
   "cell_type": "code",
   "execution_count": 18,
   "id": "9c43f475",
   "metadata": {},
   "outputs": [],
   "source": [
    "s = Subtracao()"
   ]
  },
  {
   "cell_type": "code",
   "execution_count": 20,
   "id": "80d05adf",
   "metadata": {},
   "outputs": [
    {
     "name": "stdout",
     "output_type": "stream",
     "text": [
      "5 - 2 = 3\n"
     ]
    }
   ],
   "source": [
    "print('5 - 2 = ' + str(s.subtrair(5, 2)))"
   ]
  },
  {
   "cell_type": "code",
   "execution_count": 22,
   "id": "aeae668a",
   "metadata": {},
   "outputs": [],
   "source": [
    "# Exemplo 5\n",
    "class Calculos:\n",
    "    def somar(self, n1, n2): return n1 + n2 # Podemos escrever o return dessa forma\n",
    "    \n",
    "    def subtrair(self, n1, n2): return n1 - n2\n",
    "    \n",
    "    def dividir(self, n1, n2): return n1 / n2\n",
    "    \n",
    "    def multiplicar(self, n1, n2): return n1 * n2"
   ]
  },
  {
   "cell_type": "code",
   "execution_count": 24,
   "id": "c7b98bfc",
   "metadata": {},
   "outputs": [],
   "source": [
    "c = Calculos()"
   ]
  },
  {
   "cell_type": "code",
   "execution_count": 25,
   "id": "e2109f02",
   "metadata": {},
   "outputs": [],
   "source": [
    "numero1 = 10\n",
    "numero2 = 2"
   ]
  },
  {
   "cell_type": "code",
   "execution_count": 26,
   "id": "e9ca60cc",
   "metadata": {},
   "outputs": [],
   "source": [
    "soma = c.somar(numero1, numero2)"
   ]
  },
  {
   "cell_type": "code",
   "execution_count": 27,
   "id": "b32d7732",
   "metadata": {},
   "outputs": [],
   "source": [
    "subtracao = c.subtrair(numero1, numero2)"
   ]
  },
  {
   "cell_type": "code",
   "execution_count": 28,
   "id": "7ef3dacd",
   "metadata": {},
   "outputs": [],
   "source": [
    "divisao = c.dividir(numero1, numero2)"
   ]
  },
  {
   "cell_type": "code",
   "execution_count": 29,
   "id": "1ae532e0",
   "metadata": {},
   "outputs": [],
   "source": [
    "multiplicacao = c.multiplicar(numero1, numero2)"
   ]
  },
  {
   "cell_type": "code",
   "execution_count": 34,
   "id": "ecb369b3",
   "metadata": {},
   "outputs": [
    {
     "name": "stdout",
     "output_type": "stream",
     "text": [
      "10 + 2 =  12\n",
      "10 - 2 =  8\n",
      "10 / 2 =  5.0\n",
      "10 * 2 =  20\n"
     ]
    }
   ],
   "source": [
    "print(f'{numero1} + {numero2} = ', soma)\n",
    "print(f'{numero1} - {numero2} = ', subtracao)\n",
    "print(f'{numero1} / {numero2} = ', divisao)\n",
    "print(f'{numero1} * {numero2} = ', multiplicacao)"
   ]
  },
  {
   "cell_type": "markdown",
   "id": "9db1eb8f",
   "metadata": {},
   "source": [
    "## Chamando funções dentro de funções"
   ]
  },
  {
   "cell_type": "code",
   "execution_count": 42,
   "id": "bf9edeaa",
   "metadata": {},
   "outputs": [],
   "source": [
    "# Exemplo 2\n",
    "class Classe:\n",
    "    def funcao1(self):\n",
    "        return 'Retorno 1'\n",
    "    \n",
    "    def funcao2(self):\n",
    "        return self.funcao1()"
   ]
  },
  {
   "cell_type": "code",
   "execution_count": 43,
   "id": "aaef9d03",
   "metadata": {},
   "outputs": [],
   "source": [
    "c = Classe()"
   ]
  },
  {
   "cell_type": "code",
   "execution_count": 44,
   "id": "8ed271da",
   "metadata": {},
   "outputs": [
    {
     "name": "stdout",
     "output_type": "stream",
     "text": [
      "Retorno 1\n"
     ]
    }
   ],
   "source": [
    "print(c.funcao2())"
   ]
  },
  {
   "cell_type": "code",
   "execution_count": 46,
   "id": "94f92423",
   "metadata": {},
   "outputs": [],
   "source": [
    "# Exemplo 2\n",
    "class Classe:\n",
    "    def funcao1(self, msg):\n",
    "        return 'Mensagem recebida: ' + msg\n",
    "    \n",
    "    def funcao2(self, msg):\n",
    "        return self.funcao1(msg)"
   ]
  },
  {
   "cell_type": "code",
   "execution_count": 47,
   "id": "ab11c6fe",
   "metadata": {},
   "outputs": [],
   "source": [
    "c = Classe()"
   ]
  },
  {
   "cell_type": "code",
   "execution_count": 48,
   "id": "a1450834",
   "metadata": {},
   "outputs": [
    {
     "name": "stdout",
     "output_type": "stream",
     "text": [
      "Mensagem recebida: Valor de teste\n"
     ]
    }
   ],
   "source": [
    "print(c.funcao2('Valor de teste'))"
   ]
  },
  {
   "cell_type": "code",
   "execution_count": 49,
   "id": "946cb9f5",
   "metadata": {},
   "outputs": [],
   "source": [
    "# Exemplo 3\n",
    "class Classe1:\n",
    "    def funcao(self):\n",
    "        return 'Funcao da Classe 1'\n",
    "    \n",
    "class Classe2:\n",
    "    def funcao(self):\n",
    "        return Classe1().funcao()"
   ]
  },
  {
   "cell_type": "code",
   "execution_count": 50,
   "id": "a27d595a",
   "metadata": {},
   "outputs": [],
   "source": [
    "c2 = Classe2()"
   ]
  },
  {
   "cell_type": "code",
   "execution_count": 52,
   "id": "d7afb7f8",
   "metadata": {},
   "outputs": [
    {
     "name": "stdout",
     "output_type": "stream",
     "text": [
      "Funcao da Classe 1\n"
     ]
    }
   ],
   "source": [
    "# Printa o retorno da funcao da classe 1\n",
    "print(c2.funcao())"
   ]
  },
  {
   "cell_type": "code",
   "execution_count": 57,
   "id": "465be58a",
   "metadata": {},
   "outputs": [],
   "source": [
    "# Exemplo 4\n",
    "class Classe1:\n",
    "    def funcao(self):\n",
    "        return 'Funcao da Classe 1'\n",
    "    \n",
    "class Classe2:\n",
    "    def funcao(self):\n",
    "        return Classe1.funcao(self) # Outra forma de chamar o retorno da função da classe 1"
   ]
  },
  {
   "cell_type": "code",
   "execution_count": 58,
   "id": "7f7ce028",
   "metadata": {},
   "outputs": [],
   "source": [
    "c2 = Classe2()"
   ]
  },
  {
   "cell_type": "code",
   "execution_count": 59,
   "id": "34109289",
   "metadata": {},
   "outputs": [
    {
     "name": "stdout",
     "output_type": "stream",
     "text": [
      "Funcao da Classe 1\n"
     ]
    }
   ],
   "source": [
    "# Printa o retorno da funcao da classe 1\n",
    "print(c2.funcao())"
   ]
  },
  {
   "cell_type": "markdown",
   "id": "4a882d00",
   "metadata": {},
   "source": [
    "## Execução de funções em cascata"
   ]
  },
  {
   "cell_type": "code",
   "execution_count": 1,
   "id": "f3fd158c",
   "metadata": {},
   "outputs": [],
   "source": [
    "# Exemplo 5\n",
    "class Classe:\n",
    "    def funcao1(self):\n",
    "        return 'retorno da primeira funcao'\n",
    "    \n",
    "    def funcao2(self):\n",
    "        return self.funcao1()\n",
    "    \n",
    "    def funcao3(self):\n",
    "        return self.funcao2()"
   ]
  },
  {
   "cell_type": "code",
   "execution_count": 2,
   "id": "a34f7c67",
   "metadata": {},
   "outputs": [],
   "source": [
    "c = Classe()"
   ]
  },
  {
   "cell_type": "code",
   "execution_count": 3,
   "id": "017c9b8b",
   "metadata": {},
   "outputs": [
    {
     "name": "stdout",
     "output_type": "stream",
     "text": [
      "retorno da primeira funcao\n"
     ]
    }
   ],
   "source": [
    "print(c.funcao3())"
   ]
  },
  {
   "cell_type": "code",
   "execution_count": 8,
   "id": "84ea72ab",
   "metadata": {},
   "outputs": [],
   "source": [
    "# Exemplo 6\n",
    "class Classe:\n",
    "    def funcao1(self, msg):\n",
    "        return msg\n",
    "    \n",
    "    def funcao2(self, msg):\n",
    "        return self.funcao1(msg)\n",
    "    \n",
    "    def funcao3(self, msg):\n",
    "        return self.funcao2(msg)"
   ]
  },
  {
   "cell_type": "code",
   "execution_count": 9,
   "id": "7fabd1fd",
   "metadata": {},
   "outputs": [],
   "source": [
    "c = Classe()"
   ]
  },
  {
   "cell_type": "code",
   "execution_count": 10,
   "id": "f274d008",
   "metadata": {},
   "outputs": [
    {
     "name": "stdout",
     "output_type": "stream",
     "text": [
      "retorno da primeira funcao\n"
     ]
    }
   ],
   "source": [
    "print(c.funcao3('retorno da primeira funcao'))"
   ]
  },
  {
   "cell_type": "markdown",
   "id": "dc252a78",
   "metadata": {},
   "source": [
    "## Declaração de função dentro de função"
   ]
  },
  {
   "cell_type": "code",
   "execution_count": 14,
   "id": "3795cb01",
   "metadata": {},
   "outputs": [],
   "source": [
    "# Exemplo 7\n",
    "class Classe:\n",
    "    def funcao_principal(self, msg): # O parâmetro self só é obrigatório para funções externas\n",
    "        def funcao_secundaria(msg):\n",
    "            return msg\n",
    "        \n",
    "        return funcao_secundaria(msg)"
   ]
  },
  {
   "cell_type": "code",
   "execution_count": 15,
   "id": "d2781357",
   "metadata": {},
   "outputs": [],
   "source": [
    "c = Classe()"
   ]
  },
  {
   "cell_type": "code",
   "execution_count": 16,
   "id": "e17cbeb4",
   "metadata": {},
   "outputs": [
    {
     "name": "stdout",
     "output_type": "stream",
     "text": [
      "Valor de teste\n"
     ]
    }
   ],
   "source": [
    "print(c.funcao_principal('Valor de teste'))"
   ]
  },
  {
   "cell_type": "code",
   "execution_count": 20,
   "id": "65a5d710",
   "metadata": {},
   "outputs": [],
   "source": [
    "# Exemplo 8\n",
    "class Classe:\n",
    "    def funcao_principal(self, msg): # O parâmetro self só é obrigatório para funções externas\n",
    "        def funcao_secundaria(msg):\n",
    "            def funcao(msg):\n",
    "                return msg\n",
    "            \n",
    "            return funcao(msg)\n",
    "        \n",
    "        return funcao_secundaria(msg)"
   ]
  },
  {
   "cell_type": "code",
   "execution_count": 21,
   "id": "6b0b23af",
   "metadata": {},
   "outputs": [],
   "source": [
    "c = Classe()"
   ]
  },
  {
   "cell_type": "code",
   "execution_count": 22,
   "id": "378cd7a5",
   "metadata": {},
   "outputs": [
    {
     "name": "stdout",
     "output_type": "stream",
     "text": [
      "Valor de teste\n"
     ]
    }
   ],
   "source": [
    "print(c.funcao_principal('Valor de teste'))"
   ]
  },
  {
   "cell_type": "markdown",
   "id": "a7aaf26a",
   "metadata": {},
   "source": [
    "## Parâmetro com valor default"
   ]
  },
  {
   "cell_type": "code",
   "execution_count": 23,
   "id": "8f27a854",
   "metadata": {},
   "outputs": [],
   "source": [
    "# Exemplo 9\n",
    "class Adicao():\n",
    "    def add(self, n1 = 0, n2 = 0):\n",
    "        return n1 + n2"
   ]
  },
  {
   "cell_type": "code",
   "execution_count": 24,
   "id": "b799f87f",
   "metadata": {},
   "outputs": [],
   "source": [
    "a = Adicao()"
   ]
  },
  {
   "cell_type": "code",
   "execution_count": 33,
   "id": "75b76f22",
   "metadata": {},
   "outputs": [
    {
     "name": "stdout",
     "output_type": "stream",
     "text": [
      "5\n"
     ]
    }
   ],
   "source": [
    "print(a.add(2, 3)) # Obtem-se a soma de 2 (valor passado para n1) com 3 (valor passado de n2)"
   ]
  },
  {
   "cell_type": "code",
   "execution_count": 32,
   "id": "b68a854e",
   "metadata": {},
   "outputs": [
    {
     "name": "stdout",
     "output_type": "stream",
     "text": [
      "2\n"
     ]
    }
   ],
   "source": [
    "print(a.add(2)) # Obtem-se a soma de 2 (valor passado para n1) com 0 (valor padrão de n2)"
   ]
  },
  {
   "cell_type": "code",
   "execution_count": 30,
   "id": "7ef8ce0b",
   "metadata": {},
   "outputs": [
    {
     "name": "stdout",
     "output_type": "stream",
     "text": [
      "2\n"
     ]
    }
   ],
   "source": [
    "print(a.add(n2 = 2)) # Obtem-se a soma de 0 (valor padrão de n1) com 2 (valor passado para n2)"
   ]
  },
  {
   "cell_type": "code",
   "execution_count": 31,
   "id": "b2a47946",
   "metadata": {},
   "outputs": [
    {
     "name": "stdout",
     "output_type": "stream",
     "text": [
      "0\n"
     ]
    }
   ],
   "source": [
    "print(a.add()) # Obtem-se a soma de 0 com 0, ou seja, a soma dos valores padrões"
   ]
  }
 ],
 "metadata": {
  "kernelspec": {
   "display_name": "Python 3 (ipykernel)",
   "language": "python",
   "name": "python3"
  },
  "language_info": {
   "codemirror_mode": {
    "name": "ipython",
    "version": 3
   },
   "file_extension": ".py",
   "mimetype": "text/x-python",
   "name": "python",
   "nbconvert_exporter": "python",
   "pygments_lexer": "ipython3",
   "version": "3.9.12"
  }
 },
 "nbformat": 4,
 "nbformat_minor": 5
}
