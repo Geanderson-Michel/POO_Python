{
 "cells": [
  {
   "cell_type": "markdown",
   "id": "d0fac85e",
   "metadata": {},
   "source": [
    "## Atributos"
   ]
  },
  {
   "cell_type": "markdown",
   "id": "eb6e9002",
   "metadata": {},
   "source": [
    "**Definição**: São variáveis declaradas no escopo global das classes"
   ]
  },
  {
   "cell_type": "code",
   "execution_count": 2,
   "id": "e17a86cd",
   "metadata": {},
   "outputs": [],
   "source": [
    "# Exemplo 1\n",
    "class Classe:\n",
    "    # Declarando um atributo no escopo global\n",
    "    atributo = 'valor padrão'"
   ]
  },
  {
   "cell_type": "code",
   "execution_count": 3,
   "id": "2bc524fe",
   "metadata": {},
   "outputs": [],
   "source": [
    "# Criando um objeto c para instanciar a classe Classe\n",
    "c = Classe()"
   ]
  },
  {
   "cell_type": "code",
   "execution_count": 10,
   "id": "84871883",
   "metadata": {},
   "outputs": [
    {
     "name": "stdout",
     "output_type": "stream",
     "text": [
      "valor padrão\n"
     ]
    }
   ],
   "source": [
    "# Printando o valor do atributo\n",
    "print(c.atributo)"
   ]
  },
  {
   "cell_type": "code",
   "execution_count": 11,
   "id": "e2b3bea0",
   "metadata": {},
   "outputs": [],
   "source": [
    "# Exemplo 2\n",
    "class Classe:\n",
    "    # Pode-se também definir um atributo dentro do método construtor, utilizando o parâmetro self\n",
    "    def __init__(self):\n",
    "        self.atributo = 'Valor padrão'"
   ]
  },
  {
   "cell_type": "code",
   "execution_count": 12,
   "id": "a6c0d9d6",
   "metadata": {},
   "outputs": [],
   "source": [
    "c = Classe()"
   ]
  },
  {
   "cell_type": "code",
   "execution_count": 15,
   "id": "720e34a3",
   "metadata": {},
   "outputs": [
    {
     "name": "stdout",
     "output_type": "stream",
     "text": [
      "Valor padrão\n"
     ]
    }
   ],
   "source": [
    "# Gera o mesmo print do exemplo 1\n",
    "print(c.atributo)"
   ]
  },
  {
   "cell_type": "code",
   "execution_count": 16,
   "id": "6fafd7d6",
   "metadata": {},
   "outputs": [],
   "source": [
    "# Exemplo 3\n",
    "class Classe:\n",
    "    atributo = 'valor padrão'\n",
    "    \n",
    "    def __init__(self):\n",
    "        self.atributo = 'Outro valor'"
   ]
  },
  {
   "cell_type": "code",
   "execution_count": 17,
   "id": "e0d415ea",
   "metadata": {},
   "outputs": [],
   "source": [
    "c = Classe()"
   ]
  },
  {
   "cell_type": "code",
   "execution_count": 19,
   "id": "918d3a4c",
   "metadata": {},
   "outputs": [
    {
     "name": "stdout",
     "output_type": "stream",
     "text": [
      "Outro valor\n"
     ]
    }
   ],
   "source": [
    "# O atributo criado dentro do método construtor sobrescreve o atributo declarado no escopo global da classe\n",
    "print(c.atributo)"
   ]
  },
  {
   "cell_type": "code",
   "execution_count": 54,
   "id": "df28fff1",
   "metadata": {},
   "outputs": [],
   "source": [
    "class Classe:\n",
    "    # Pode-se também definir um atributo dentro do métdo construtor, utilizando o parâmetro self\n",
    "    def __init__(self):\n",
    "        self.atributo = 'Valor padrão'\n",
    "    \n",
    "    # Para acessar atributos por meio de funções ou métodos, deve-se utilizar o self dessas funções ou métodos\n",
    "    def funcao(self):\n",
    "        self.atributo = 'valor atualizado'\n",
    "        return self.atributo\n",
    "    \n",
    "    def metodo(self):\n",
    "        print(self.atributo)"
   ]
  },
  {
   "cell_type": "code",
   "execution_count": 55,
   "id": "b822093f",
   "metadata": {},
   "outputs": [],
   "source": [
    "c = Classe()"
   ]
  },
  {
   "cell_type": "code",
   "execution_count": 56,
   "id": "d1bb6fbb",
   "metadata": {},
   "outputs": [
    {
     "name": "stdout",
     "output_type": "stream",
     "text": [
      "Valor padrão\n"
     ]
    }
   ],
   "source": [
    "# O valor 'Valor padrão' foi acionado porque não acionamos nem a função nem o método presente na classe\n",
    "# O atributo exibido é referente ao método construtor\n",
    "print(c.atributo)"
   ]
  },
  {
   "cell_type": "code",
   "execution_count": 57,
   "id": "01949236",
   "metadata": {},
   "outputs": [],
   "source": [
    "# O atributo exibido é referente à função\n",
    "func = c.funcao()"
   ]
  },
  {
   "cell_type": "code",
   "execution_count": 62,
   "id": "aabc7599",
   "metadata": {},
   "outputs": [
    {
     "data": {
      "text/plain": [
       "'valor atualizado'"
      ]
     },
     "execution_count": 62,
     "metadata": {},
     "output_type": "execute_result"
    }
   ],
   "source": [
    "func"
   ]
  },
  {
   "cell_type": "code",
   "execution_count": 67,
   "id": "26dd9475",
   "metadata": {},
   "outputs": [
    {
     "name": "stdout",
     "output_type": "stream",
     "text": [
      "valor atualizado\n"
     ]
    }
   ],
   "source": [
    "# O atributo exibido é referente ao método\n",
    "# O valor do atributo do método é igual ao da função porque o atributo foi atualizado dentro da função\n",
    "c.metodo()"
   ]
  }
 ],
 "metadata": {
  "kernelspec": {
   "display_name": "Python 3 (ipykernel)",
   "language": "python",
   "name": "python3"
  },
  "language_info": {
   "codemirror_mode": {
    "name": "ipython",
    "version": 3
   },
   "file_extension": ".py",
   "mimetype": "text/x-python",
   "name": "python",
   "nbconvert_exporter": "python",
   "pygments_lexer": "ipython3",
   "version": "3.9.12"
  }
 },
 "nbformat": 4,
 "nbformat_minor": 5
}
