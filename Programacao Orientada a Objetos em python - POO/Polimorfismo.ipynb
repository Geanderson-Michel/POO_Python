{
 "cells": [
  {
   "cell_type": "markdown",
   "id": "e1278e4c",
   "metadata": {},
   "source": [
    "## Polimorfismo"
   ]
  },
  {
   "cell_type": "markdown",
   "id": "426603ab",
   "metadata": {},
   "source": [
    "**Definição**: É a possibilidade de escolher qual o recurso de mesmo nome distribuído entre classes diferentes serão utilizados. Nesse caso, haverá, pelo menos, uma classe pai e uma classe filha."
   ]
  },
  {
   "cell_type": "code",
   "execution_count": 1,
   "id": "70f62c1f",
   "metadata": {},
   "outputs": [],
   "source": [
    "# Exemplo 1\n",
    "class Base:\n",
    "    atributo = 'Atributo da base'\n",
    "    \n",
    "    def __init__(self):\n",
    "        print('Construtor da base')\n",
    "        \n",
    "    def metodo(self):\n",
    "        print('Metodo da base')\n",
    "        \n",
    "    def funcao(self):\n",
    "        return 'Funcao da base'\n",
    "    \n",
    "    def __del__(self):\n",
    "        print('Destrutor da base')\n",
    "        \n",
    "class Derivada(Base):\n",
    "    atributo = Base.atributo\n",
    "    \n",
    "    def __init__(self):\n",
    "        super().__init__() # A palavra reservada super() servirá para referenciar o recurso de mesmo nome do método construtor da base\n",
    "        print('Construtor da derivada')\n",
    "        \n",
    "    def metodo(self):\n",
    "        super().metodo() # A palavra reservada super() servirá para referenciar o recurso de mesmo nome do método da base\n",
    "        print('Metodo da derivada')\n",
    "        \n",
    "    def funcao(self):\n",
    "        print(super().funcao()) # A palavra reservada super() servirá para referenciar o recurso de mesmo nome da função da base\n",
    "        return 'Funcao da derivada'\n",
    "    \n",
    "    def __del__(self):\n",
    "        super().__del__() # A palavra reservada super() servirá para referenciar o recurso de mesmo nome do método destrutor da base\n",
    "        print('Destrutor da derivada')"
   ]
  },
  {
   "cell_type": "code",
   "execution_count": 2,
   "id": "a9486510",
   "metadata": {},
   "outputs": [
    {
     "name": "stdout",
     "output_type": "stream",
     "text": [
      "Construtor da base\n",
      "Construtor da derivada\n"
     ]
    }
   ],
   "source": [
    "# Definindo objeto d para instanciar a classe Derivada\n",
    "d = Derivada()"
   ]
  },
  {
   "cell_type": "code",
   "execution_count": 3,
   "id": "0c0cb987",
   "metadata": {},
   "outputs": [
    {
     "name": "stdout",
     "output_type": "stream",
     "text": [
      "Atributo da base\n",
      "Metodo da base\n",
      "Metodo da derivada\n",
      "Funcao da base\n",
      "Funcao da derivada\n",
      "Destrutor da base\n",
      "Destrutor da derivada\n"
     ]
    }
   ],
   "source": [
    "print(d.atributo) # Exibe o valor do atributo da classe base\n",
    "d.metodo() # Exibe o valor do metodo da classe derivada e da classe base\n",
    "print(d.funcao()) # Exibe o valor da função da classe derivada da classe derivada e da classe base\n",
    "del d # Deleta o objeto d e exibe o valor do método destrutor da classe derivada e da classe base"
   ]
  },
  {
   "cell_type": "code",
   "execution_count": 4,
   "id": "1d21c114",
   "metadata": {},
   "outputs": [],
   "source": [
    "# Exemplo 2\n",
    "class Pai:\n",
    "    def metodo(self):\n",
    "        print('Metodo do Pai')\n",
    "        \n",
    "class Filho(Pai):\n",
    "    def metodo(self):\n",
    "        print('Metodo do filho')\n",
    "        \n",
    "    def metodo_principal(self):\n",
    "        super().metodo() # Retorna o valor do método da classe pai\n",
    "        self.metodo() # Retorna o valor do método da classe filho"
   ]
  },
  {
   "cell_type": "code",
   "execution_count": 5,
   "id": "7f1de00e",
   "metadata": {},
   "outputs": [],
   "source": [
    "f = Filho() # Objeto f instancia a classe filho"
   ]
  },
  {
   "cell_type": "code",
   "execution_count": 6,
   "id": "c9c1b561",
   "metadata": {},
   "outputs": [
    {
     "name": "stdout",
     "output_type": "stream",
     "text": [
      "Metodo do Pai\n",
      "Metodo do filho\n"
     ]
    }
   ],
   "source": [
    "f.metodo_principal() # Executa o método da classe pai e o método da classe filho"
   ]
  },
  {
   "cell_type": "code",
   "execution_count": 16,
   "id": "e1cd8a22",
   "metadata": {},
   "outputs": [],
   "source": [
    "# Exemplo 3\n",
    "class Pai:\n",
    "    atributo = 'Atributo do pai'\n",
    "    \n",
    "    def metodo(self):\n",
    "        print('Metodo do Pai')\n",
    "        \n",
    "    def funcao(self):\n",
    "        return 'Funcao do pai'\n",
    "        \n",
    "class Filho(Pai):\n",
    "    atributo = Pai.atributo\n",
    "    \n",
    "    def metodo(self):\n",
    "        super().metodo() # Retorna o valor do método da classe pai \n",
    "        \n",
    "    def funcao(self):\n",
    "        return super().funcao() # Retorna o valor da função da classe pai"
   ]
  },
  {
   "cell_type": "code",
   "execution_count": 17,
   "id": "fcbb13a7",
   "metadata": {},
   "outputs": [],
   "source": [
    "f = Filho()"
   ]
  },
  {
   "cell_type": "code",
   "execution_count": 18,
   "id": "9e0c0e72",
   "metadata": {},
   "outputs": [
    {
     "name": "stdout",
     "output_type": "stream",
     "text": [
      "Atributo do pai\n",
      "Metodo do Pai\n",
      "Funcao do pai\n"
     ]
    }
   ],
   "source": [
    "print(f.atributo)\n",
    "f.metodo()\n",
    "print(f.funcao())"
   ]
  },
  {
   "cell_type": "code",
   "execution_count": 19,
   "id": "121ac249",
   "metadata": {},
   "outputs": [],
   "source": [
    "# Exemplo 4\n",
    "class Pai:\n",
    "    atributo = 'Atributo do pai'\n",
    "    \n",
    "    def metodo(self):\n",
    "        print('Metodo do Pai')\n",
    "        \n",
    "    def funcao(self):\n",
    "        return 'Funcao do pai'\n",
    "        \n",
    "class Filho(Pai):\n",
    "    \n",
    "    def metodo(self):\n",
    "        print(self.atributo)\n",
    "        super().metodo() # Retorna o valor do método da classe pai \n",
    "        \n",
    "    def funcao(self):\n",
    "        return super().funcao() # Retorna o valor da função da classe pai"
   ]
  },
  {
   "cell_type": "code",
   "execution_count": 20,
   "id": "b784af5a",
   "metadata": {},
   "outputs": [],
   "source": [
    "f = Filho()"
   ]
  },
  {
   "cell_type": "code",
   "execution_count": 21,
   "id": "3dcfed5d",
   "metadata": {},
   "outputs": [
    {
     "name": "stdout",
     "output_type": "stream",
     "text": [
      "Atributo do pai\n",
      "Metodo do Pai\n",
      "Funcao do pai\n"
     ]
    }
   ],
   "source": [
    "f.metodo()\n",
    "print(f.funcao())"
   ]
  }
 ],
 "metadata": {
  "kernelspec": {
   "display_name": "Python 3 (ipykernel)",
   "language": "python",
   "name": "python3"
  },
  "language_info": {
   "codemirror_mode": {
    "name": "ipython",
    "version": 3
   },
   "file_extension": ".py",
   "mimetype": "text/x-python",
   "name": "python",
   "nbconvert_exporter": "python",
   "pygments_lexer": "ipython3",
   "version": "3.9.12"
  }
 },
 "nbformat": 4,
 "nbformat_minor": 5
}
