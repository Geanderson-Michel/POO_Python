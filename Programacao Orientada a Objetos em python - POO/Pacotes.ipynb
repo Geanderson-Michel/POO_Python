{
 "cells": [
  {
   "cell_type": "markdown",
   "id": "1110d4b7",
   "metadata": {},
   "source": [
    "## Pacotes"
   ]
  },
  {
   "cell_type": "markdown",
   "id": "04a5feef",
   "metadata": {},
   "source": [
    "**Definição**: São diretórios utilizados para organizar os módulos. São pastas para separar os arquivos Python (.py)"
   ]
  },
  {
   "cell_type": "code",
   "execution_count": 2,
   "id": "2e95eff6",
   "metadata": {},
   "outputs": [
    {
     "name": "stdout",
     "output_type": "stream",
     "text": [
      "C:\\Users\\Geanderson.GEANDERSON-MICH\\Documents\\Curso - Programacao Orientada a Objetos\n"
     ]
    }
   ],
   "source": [
    "# Exemplo 1\n",
    "# importando classe pertencente a um módulo salvo em um pacote criado\n",
    "# Esse script que importará uma classe do módulo deverá estar no mesmo diretório de Pacotes\n",
    "from Pacote01.Modulo01 import Classe"
   ]
  },
  {
   "cell_type": "code",
   "execution_count": 3,
   "id": "30df9afd",
   "metadata": {},
   "outputs": [],
   "source": [
    "c = Classe() # Instanciando a classe"
   ]
  },
  {
   "cell_type": "code",
   "execution_count": 4,
   "id": "8bc047f7",
   "metadata": {},
   "outputs": [
    {
     "name": "stdout",
     "output_type": "stream",
     "text": [
      "Método executado\n"
     ]
    }
   ],
   "source": [
    "c.metodo() # Executando o método pertencente à classe"
   ]
  },
  {
   "cell_type": "code",
   "execution_count": 5,
   "id": "16fdad75",
   "metadata": {},
   "outputs": [],
   "source": [
    "# Exemplo 2\n",
    "from Pacote01.Modulo02 import *"
   ]
  },
  {
   "cell_type": "code",
   "execution_count": 6,
   "id": "600d5929",
   "metadata": {},
   "outputs": [],
   "source": [
    "# Instanciando as classes\n",
    "c1 = Classe1()\n",
    "c2 = Classe2()\n",
    "c3 = Classe3()"
   ]
  },
  {
   "cell_type": "code",
   "execution_count": 7,
   "id": "c62e168b",
   "metadata": {},
   "outputs": [
    {
     "name": "stdout",
     "output_type": "stream",
     "text": [
      "Método da Classe1\n",
      "Método da Classe2\n",
      "Método da Classe3\n"
     ]
    }
   ],
   "source": [
    "# Invocando os métodos\n",
    "c1.metodo1()\n",
    "c2.metodo2()\n",
    "c3.metodo3()"
   ]
  },
  {
   "cell_type": "code",
   "execution_count": 5,
   "id": "726d1ca7",
   "metadata": {},
   "outputs": [
    {
     "name": "stdout",
     "output_type": "stream",
     "text": [
      "Módulo 03 do Pacote 01 importado\n"
     ]
    }
   ],
   "source": [
    "# Exemplo 3 - Como só há o código print('Módulo 03 do Pacote 01 importado') dentro do módulo, o import exibe direto a mensagem\n",
    "import Pacote01.Modulo03"
   ]
  },
  {
   "cell_type": "code",
   "execution_count": 1,
   "id": "cc7a0c55",
   "metadata": {},
   "outputs": [
    {
     "name": "stdout",
     "output_type": "stream",
     "text": [
      "Pacote sendo importado - arquivo construtor\n"
     ]
    }
   ],
   "source": [
    "# Exemplo 4 - Quando o interpretador verifica o conteúdo do pacote sendo importado, o print do arquivo __init__.py é executado automaticamente\n",
    "from Pacote02.Modulo01 import Classe"
   ]
  },
  {
   "cell_type": "code",
   "execution_count": 2,
   "id": "424cf293",
   "metadata": {},
   "outputs": [],
   "source": [
    "c = Classe() # Instanciando a classe"
   ]
  },
  {
   "cell_type": "code",
   "execution_count": 3,
   "id": "ef51f8db",
   "metadata": {},
   "outputs": [
    {
     "name": "stdout",
     "output_type": "stream",
     "text": [
      "Método executado\n"
     ]
    }
   ],
   "source": [
    "c.metodo() # Executando o método"
   ]
  },
  {
   "cell_type": "code",
   "execution_count": 4,
   "id": "e0eaf061",
   "metadata": {},
   "outputs": [
    {
     "name": "stdout",
     "output_type": "stream",
     "text": [
      "Módulo 02 do Pacote 02 importado\n"
     ]
    }
   ],
   "source": [
    "# Exemplo 5 - Como só há o código print('Módulo 02 do Pacote 02 importado') dentro do módulo, o import exibe direto a mensagem\n",
    "import Pacote02.Modulo02"
   ]
  },
  {
   "cell_type": "markdown",
   "id": "cee893c1",
   "metadata": {},
   "source": [
    "## Pacotes dentro de pacotes"
   ]
  },
  {
   "cell_type": "code",
   "execution_count": 6,
   "id": "a139dd92",
   "metadata": {},
   "outputs": [
    {
     "name": "stdout",
     "output_type": "stream",
     "text": [
      "Módulo 01 do Pacote 04 que está dentro do Pacote 03 executado\n"
     ]
    }
   ],
   "source": [
    "# Exemplo 6 - Importando o módulo 01, acessando 2 pacotes um dentro do outro.\n",
    "import Pacote03.Pacote04.Modulo01"
   ]
  },
  {
   "cell_type": "code",
   "execution_count": 7,
   "id": "f428b822",
   "metadata": {},
   "outputs": [],
   "source": [
    "# Exemplo 7 - Importando a classe do módulo 02, acessando 2 pacotes um dentro do outro.\n",
    "from Pacote03.Pacote04.Modulo02 import Classe"
   ]
  },
  {
   "cell_type": "code",
   "execution_count": 8,
   "id": "c05ed904",
   "metadata": {},
   "outputs": [],
   "source": [
    "c = Classe() # Instanciando a classe"
   ]
  },
  {
   "cell_type": "code",
   "execution_count": 9,
   "id": "8efe5235",
   "metadata": {},
   "outputs": [
    {
     "name": "stdout",
     "output_type": "stream",
     "text": [
      "Módulo 02 do Pacote 04 que está dentro do Pacote 03 executado\n"
     ]
    }
   ],
   "source": [
    "c.metodo() # Executando o método"
   ]
  }
 ],
 "metadata": {
  "kernelspec": {
   "display_name": "Python 3 (ipykernel)",
   "language": "python",
   "name": "python3"
  },
  "language_info": {
   "codemirror_mode": {
    "name": "ipython",
    "version": 3
   },
   "file_extension": ".py",
   "mimetype": "text/x-python",
   "name": "python",
   "nbconvert_exporter": "python",
   "pygments_lexer": "ipython3",
   "version": "3.9.12"
  }
 },
 "nbformat": 4,
 "nbformat_minor": 5
}
