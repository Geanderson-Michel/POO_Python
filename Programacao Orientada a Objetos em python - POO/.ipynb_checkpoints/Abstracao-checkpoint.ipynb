{
 "cells": [
  {
   "cell_type": "markdown",
   "id": "254d53dc",
   "metadata": {},
   "source": [
    "## Abstração"
   ]
  },
  {
   "cell_type": "markdown",
   "id": "974f98f2",
   "metadata": {},
   "source": [
    "**Definição**: É a capacidade de extraírmos as características de uma classe por meio de um objeto. Isso significa que podemos acessar os recursos de uma classe que poderão ser tanto os métodos, funções ou atributos por meio de um objeto criado pela instanciação dessa classe. "
   ]
  },
  {
   "cell_type": "code",
   "execution_count": 3,
   "id": "21555c43",
   "metadata": {},
   "outputs": [],
   "source": [
    "# Exemplo 1\n",
    "# Há 3 recursos dentro da classe Abstrair\n",
    "class Abstrair:\n",
    "    \n",
    "    atributo = 'Atributo abstraído'\n",
    "    \n",
    "    def metodo(self):\n",
    "        print('Método abstraído')\n",
    "        \n",
    "    def funcao(self):\n",
    "        return 'Função abstraída'"
   ]
  },
  {
   "cell_type": "code",
   "execution_count": 14,
   "id": "41759f33",
   "metadata": {},
   "outputs": [],
   "source": [
    "# Definição do objeto abstracao para instanciar a classe Abstrair\n",
    "abstracao = Abstrair()"
   ]
  },
  {
   "cell_type": "code",
   "execution_count": 16,
   "id": "f0975276",
   "metadata": {},
   "outputs": [
    {
     "name": "stdout",
     "output_type": "stream",
     "text": [
      "Atributo abstraído\n"
     ]
    }
   ],
   "source": [
    "# Abstraindo o atributo da classe e printando seu valor na tela\n",
    "print(abstracao.atributo)"
   ]
  },
  {
   "cell_type": "code",
   "execution_count": 22,
   "id": "2dd524f1",
   "metadata": {},
   "outputs": [
    {
     "name": "stdout",
     "output_type": "stream",
     "text": [
      "Método abstraído\n"
     ]
    }
   ],
   "source": [
    "# Abstraindo o metodo da classe e printando seu valor na tela\n",
    "abstracao.metodo()"
   ]
  },
  {
   "cell_type": "code",
   "execution_count": 23,
   "id": "06c112f3",
   "metadata": {},
   "outputs": [
    {
     "name": "stdout",
     "output_type": "stream",
     "text": [
      "Função abstraída\n"
     ]
    }
   ],
   "source": [
    "# Abstraindo a função da classe e printando seu valor na tela\n",
    "print(abstracao.funcao())"
   ]
  }
 ],
 "metadata": {
  "kernelspec": {
   "display_name": "Python 3 (ipykernel)",
   "language": "python",
   "name": "python3"
  },
  "language_info": {
   "codemirror_mode": {
    "name": "ipython",
    "version": 3
   },
   "file_extension": ".py",
   "mimetype": "text/x-python",
   "name": "python",
   "nbconvert_exporter": "python",
   "pygments_lexer": "ipython3",
   "version": "3.9.12"
  }
 },
 "nbformat": 4,
 "nbformat_minor": 5
}
