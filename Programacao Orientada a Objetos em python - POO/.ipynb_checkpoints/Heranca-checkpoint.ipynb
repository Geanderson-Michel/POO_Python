{
 "cells": [
  {
   "cell_type": "markdown",
   "id": "7c1a4a92",
   "metadata": {},
   "source": [
    "## Herança"
   ]
  },
  {
   "cell_type": "markdown",
   "id": "36698062",
   "metadata": {},
   "source": [
    "**Definição**: É a capacidade de uma classe de herdar características de uma outra classe. As características são recursos como atributos, métodos e funções."
   ]
  },
  {
   "cell_type": "code",
   "execution_count": 3,
   "id": "7209b682",
   "metadata": {},
   "outputs": [],
   "source": [
    "# Exemplo 1\n",
    "# Classe Pai\n",
    "class Classe1:\n",
    "    \n",
    "    atributo1 = 'Atributo da Classe1'\n",
    "    \n",
    "    def metodo1(self):\n",
    "        print('Método da Classe1')\n",
    "        \n",
    "    def funcao1(self):\n",
    "        return 'Função da Classe1'\n",
    "\n",
    "# Classe Filha\n",
    "class Classe2(Classe1): # Classe filha herda as características da Classe pai quando criamos a Classe2 dessa forma\n",
    "    \n",
    "    atributo2 = 'Atributo da Classe2'\n",
    "    \n",
    "    def metodo2(self):\n",
    "        print('Método da Classe2')\n",
    "        \n",
    "    def funcao2(self):\n",
    "        return 'Função da Classe2'"
   ]
  },
  {
   "cell_type": "code",
   "execution_count": 25,
   "id": "844da1ac",
   "metadata": {},
   "outputs": [],
   "source": [
    "# O objeto c2 instancia a classe filha Classe2\n",
    "c2 = Classe2()"
   ]
  },
  {
   "cell_type": "code",
   "execution_count": 26,
   "id": "d9e89fac",
   "metadata": {},
   "outputs": [
    {
     "name": "stdout",
     "output_type": "stream",
     "text": [
      "Atributo da Classe2\n"
     ]
    }
   ],
   "source": [
    "# Acessa o atributo2 da Classe2\n",
    "print(c2.atributo2)"
   ]
  },
  {
   "cell_type": "code",
   "execution_count": 27,
   "id": "32a80eb6",
   "metadata": {},
   "outputs": [
    {
     "name": "stdout",
     "output_type": "stream",
     "text": [
      "Método da Classe2\n"
     ]
    }
   ],
   "source": [
    "# Acessa o metodo2 da Classe2\n",
    "c2.metodo2()"
   ]
  },
  {
   "cell_type": "code",
   "execution_count": 28,
   "id": "b00a28e6",
   "metadata": {},
   "outputs": [
    {
     "name": "stdout",
     "output_type": "stream",
     "text": [
      "Função da Classe2\n"
     ]
    }
   ],
   "source": [
    "# Acessa o funcao2 da Classe2\n",
    "print(c2.funcao2())"
   ]
  },
  {
   "cell_type": "code",
   "execution_count": 29,
   "id": "88e97ddd",
   "metadata": {},
   "outputs": [
    {
     "name": "stdout",
     "output_type": "stream",
     "text": [
      "Atributo da Classe1\n"
     ]
    }
   ],
   "source": [
    "# Por meio da Classe2, consegue-se acessar o atributo1 da Classe1\n",
    "print(c2.atributo1)"
   ]
  },
  {
   "cell_type": "code",
   "execution_count": 30,
   "id": "0167950c",
   "metadata": {},
   "outputs": [
    {
     "name": "stdout",
     "output_type": "stream",
     "text": [
      "Método da Classe1\n"
     ]
    }
   ],
   "source": [
    "# Acessa o metodo1 da Classe1\n",
    "c2.metodo1()"
   ]
  },
  {
   "cell_type": "code",
   "execution_count": 31,
   "id": "afb02de5",
   "metadata": {},
   "outputs": [
    {
     "name": "stdout",
     "output_type": "stream",
     "text": [
      "Função da Classe1\n"
     ]
    }
   ],
   "source": [
    "# Acessa o funcao1 da Classe1\n",
    "print(c2.funcao1())"
   ]
  },
  {
   "cell_type": "code",
   "execution_count": 37,
   "id": "bdfa2779",
   "metadata": {},
   "outputs": [],
   "source": [
    "# Exemplo 2 --> Nesse exemplo, os recursos da classe filha vão sobrescever os recursos da classe pai\n",
    "class Pai:\n",
    "    \n",
    "    atributo = 'Atributo da classe pai'\n",
    "    \n",
    "    def metodo(self):\n",
    "        print('Método da classe pai')\n",
    "    \n",
    "    def funcao(self):\n",
    "        return 'Função da classe pai'\n",
    "    \n",
    "class Filha(Pai):\n",
    "    \n",
    "    atributo = 'Atributo da classe filha'\n",
    "    \n",
    "    def metodo(self):\n",
    "        print('Método da classe filha')\n",
    "    \n",
    "    def funcao(self):\n",
    "        return 'Função da classe filha'"
   ]
  },
  {
   "cell_type": "code",
   "execution_count": 38,
   "id": "08dc282b",
   "metadata": {},
   "outputs": [],
   "source": [
    "# Definindo um objeto f para instanciar a classe Filha\n",
    "f = Filha()"
   ]
  },
  {
   "cell_type": "code",
   "execution_count": 39,
   "id": "0af518a9",
   "metadata": {},
   "outputs": [
    {
     "name": "stdout",
     "output_type": "stream",
     "text": [
      "Atributo da classe filha\n"
     ]
    }
   ],
   "source": [
    "print(f.atributo)"
   ]
  },
  {
   "cell_type": "code",
   "execution_count": 40,
   "id": "fc206a42",
   "metadata": {},
   "outputs": [
    {
     "name": "stdout",
     "output_type": "stream",
     "text": [
      "Método da classe filha\n"
     ]
    }
   ],
   "source": [
    "f.metodo()"
   ]
  },
  {
   "cell_type": "code",
   "execution_count": 41,
   "id": "61352d4b",
   "metadata": {},
   "outputs": [
    {
     "name": "stdout",
     "output_type": "stream",
     "text": [
      "Função da classe filha\n"
     ]
    }
   ],
   "source": [
    "print(f.funcao())"
   ]
  },
  {
   "cell_type": "code",
   "execution_count": 47,
   "id": "3cf13af2",
   "metadata": {},
   "outputs": [],
   "source": [
    "# Exemplo 3 --> Heranças em cadeia\n",
    "class Classe1:\n",
    "    def metodo1(self):\n",
    "        print('Método da classe 1')\n",
    "\n",
    "class Classe2(Classe1):\n",
    "    def metodo2(self):\n",
    "        print('Método da classe 2')\n",
    "        \n",
    "class Classe3(Classe2):\n",
    "    def metodo3(self):\n",
    "        print('Método da classe 3')\n",
    "        \n",
    "class Classe4(Classe3):\n",
    "    def metodo4(self):\n",
    "        print('Método da classe 4')"
   ]
  },
  {
   "cell_type": "code",
   "execution_count": 48,
   "id": "8dfbd9d8",
   "metadata": {},
   "outputs": [],
   "source": [
    "c4 = Classe4()"
   ]
  },
  {
   "cell_type": "code",
   "execution_count": 50,
   "id": "1a8a3af8",
   "metadata": {},
   "outputs": [
    {
     "name": "stdout",
     "output_type": "stream",
     "text": [
      "Método da classe 1\n",
      "Método da classe 2\n",
      "Método da classe 3\n",
      "Método da classe 4\n"
     ]
    }
   ],
   "source": [
    "# Exibindo os métodos de todas as classes por meio da Classe4\n",
    "c4.metodo1()\n",
    "c4.metodo2()\n",
    "c4.metodo3()\n",
    "c4.metodo4()"
   ]
  },
  {
   "cell_type": "code",
   "execution_count": null,
   "id": "1d6b1629",
   "metadata": {},
   "outputs": [],
   "source": []
  }
 ],
 "metadata": {
  "kernelspec": {
   "display_name": "Python 3 (ipykernel)",
   "language": "python",
   "name": "python3"
  },
  "language_info": {
   "codemirror_mode": {
    "name": "ipython",
    "version": 3
   },
   "file_extension": ".py",
   "mimetype": "text/x-python",
   "name": "python",
   "nbconvert_exporter": "python",
   "pygments_lexer": "ipython3",
   "version": "3.9.12"
  }
 },
 "nbformat": 4,
 "nbformat_minor": 5
}
