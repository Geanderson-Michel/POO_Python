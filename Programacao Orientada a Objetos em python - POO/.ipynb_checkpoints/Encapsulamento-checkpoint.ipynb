{
 "cells": [
  {
   "cell_type": "markdown",
   "id": "804336f3",
   "metadata": {},
   "source": [
    "## Encapsulamento"
   ]
  },
  {
   "cell_type": "markdown",
   "id": "7f39d4d0",
   "metadata": {},
   "source": [
    "**Definição**: É uma determinada permissão de acesso a um determinado recurso da classe. Há 3 tipos de permissões: Permissão pública, protegida e privada."
   ]
  },
  {
   "cell_type": "markdown",
   "id": "0cc8d1ed",
   "metadata": {},
   "source": [
    "### Encapsulamento Público"
   ]
  },
  {
   "cell_type": "markdown",
   "id": "05e6c539",
   "metadata": {},
   "source": [
    "**Definição**: Permite que um determinado recurso público da classe seja acessado de qualquer ponto do nosso arquivo de código"
   ]
  },
  {
   "cell_type": "code",
   "execution_count": 1,
   "id": "6be80f80",
   "metadata": {},
   "outputs": [],
   "source": [
    "# Exemplo 1\n",
    "class Classe:\n",
    "    atributo_publico = 'Atributo público'\n",
    "    \n",
    "    def metodo_publico(self):\n",
    "        print(\"Método público\")\n",
    "    \n",
    "    def funcao_publica(self):\n",
    "        return 'Função pública'"
   ]
  },
  {
   "cell_type": "code",
   "execution_count": 2,
   "id": "f5a00767",
   "metadata": {},
   "outputs": [],
   "source": [
    "# Definindo objeto c para instanciação da classe Classe\n",
    "c = Classe()"
   ]
  },
  {
   "cell_type": "code",
   "execution_count": 4,
   "id": "c5a6d263",
   "metadata": {},
   "outputs": [
    {
     "name": "stdout",
     "output_type": "stream",
     "text": [
      "Atributo público\n",
      "Método público\n",
      "Função pública\n"
     ]
    }
   ],
   "source": [
    "# Exibe o resultado do atributo, metodo e função públicas\n",
    "print(c.atributo_publico)\n",
    "c.metodo_publico()\n",
    "print(c.funcao_publica())"
   ]
  },
  {
   "cell_type": "markdown",
   "id": "203c6c39",
   "metadata": {},
   "source": [
    "### Encapsulamento Protegido ou Fracamente Privado"
   ]
  },
  {
   "cell_type": "markdown",
   "id": "b4f126aa",
   "metadata": {},
   "source": [
    "**Definição**: Permite que recursos sejam acessados por meio de classes filhas que herdam os recursos das classes pai."
   ]
  },
  {
   "cell_type": "code",
   "execution_count": 23,
   "id": "d306fb61",
   "metadata": {},
   "outputs": [],
   "source": [
    "# Exemplo 2 - Forma incorreta de acessar atributos protegidos\n",
    "class Classe:\n",
    "    _atributo_protegido = 'Atributo protegido' # Qualquer atributo protegido deve iniciar sua variável por \"underscore\"\n",
    "    \n",
    "    def _metodo_protegido(self): # Qualquer método protegido deve iniciar sua chamada por \"underscore\"\n",
    "        print(\"Método protegido\")\n",
    "    \n",
    "    def _funcao_protegida(self): # Qualquer função protegida deve iniciar sua chamada por \"underscore\"\n",
    "        return 'Função protegida'"
   ]
  },
  {
   "cell_type": "code",
   "execution_count": 24,
   "id": "44fcd8e0",
   "metadata": {},
   "outputs": [],
   "source": [
    "c = Classe()"
   ]
  },
  {
   "cell_type": "code",
   "execution_count": 25,
   "id": "5057308c",
   "metadata": {},
   "outputs": [
    {
     "name": "stdout",
     "output_type": "stream",
     "text": [
      "Atributo protegido\n",
      "Método protegido\n",
      "Função protegida\n"
     ]
    }
   ],
   "source": [
    "# Exibe o resultado do atributo, metodo e função protegidos\n",
    "print(c._atributo_protegido)\n",
    "c._metodo_protegido()\n",
    "print(c._funcao_protegida())"
   ]
  },
  {
   "cell_type": "markdown",
   "id": "1792d62f",
   "metadata": {},
   "source": [
    "#### Obs.: O acesso aos recursos protegidos não deve ser feito da forma acima, como quando se acessa recursos públicos, de acordo com as boas prátias de POO."
   ]
  },
  {
   "cell_type": "markdown",
   "id": "4257f42b",
   "metadata": {},
   "source": [
    "### Forma correta de acesso de acordo com as boas práticas de programação"
   ]
  },
  {
   "cell_type": "code",
   "execution_count": 27,
   "id": "c19767e0",
   "metadata": {},
   "outputs": [],
   "source": [
    "# Exemplo 3 - Forma correta de acessar atributos protegidos\n",
    "class Base:\n",
    "    _atributo_protegido = 'Atributo protegido' # Qualquer atributo protegido deve iniciar sua variável por \"underline\"\n",
    "    \n",
    "    def _metodo_protegido(self): # Qualquer método protegido deve iniciar sua chamada por \"underline\"\n",
    "        print(\"Método protegido\")\n",
    "    \n",
    "    def _funcao_protegida(self): # Qualquer função protegida deve iniciar sua chamada por \"underline\"\n",
    "        return 'Função protegida'\n",
    "\n",
    "class Secundaria(Base):\n",
    "    atributo_publico = Base._atributo_protegido\n",
    "    \n",
    "    def metodo_publico(self):\n",
    "        self._metodo_protegido()\n",
    "    \n",
    "    def funcao_publica(self):\n",
    "        return self._funcao_protegida()"
   ]
  },
  {
   "cell_type": "code",
   "execution_count": 28,
   "id": "30c2ea24",
   "metadata": {},
   "outputs": [],
   "source": [
    "s = Secundaria()"
   ]
  },
  {
   "cell_type": "code",
   "execution_count": 29,
   "id": "14b7f321",
   "metadata": {},
   "outputs": [
    {
     "name": "stdout",
     "output_type": "stream",
     "text": [
      "Atributo protegido\n",
      "Método protegido\n",
      "Função protegida\n"
     ]
    }
   ],
   "source": [
    "# Exibe o resultado do atributo, metodo e função públicas\n",
    "print(s.atributo_publico)\n",
    "s.metodo_publico()\n",
    "print(s.funcao_publica())"
   ]
  },
  {
   "cell_type": "markdown",
   "id": "62575bf4",
   "metadata": {},
   "source": [
    "### Encapsulamento Privado ou Fortemente Privado"
   ]
  },
  {
   "cell_type": "markdown",
   "id": "0763a6b4",
   "metadata": {},
   "source": [
    "**Definição**: Nesse encapsulamento, o próprio interpretador do Python irá impedir que os recursos que estiverem com esse tipo de encapsulamento sejam acessados do lado de fora da classe que os declarou, seja esse acesso por meio de um objeto ou por meio de uma classe filha."
   ]
  },
  {
   "cell_type": "code",
   "execution_count": 37,
   "id": "1ae1d9c6",
   "metadata": {},
   "outputs": [],
   "source": [
    "# Exemplo 4\n",
    "class Classe:\n",
    "    __atributo_privado = 'Atributo privado'\n",
    "    \n",
    "    def __metodo_privado(self):\n",
    "        print(\"Método privado\")\n",
    "    \n",
    "    def __funcao_privada(self):\n",
    "        return 'Função privada'"
   ]
  },
  {
   "cell_type": "code",
   "execution_count": 38,
   "id": "a608e3f4",
   "metadata": {},
   "outputs": [],
   "source": [
    "c = Classe()"
   ]
  },
  {
   "cell_type": "code",
   "execution_count": 41,
   "id": "7fbad9b4",
   "metadata": {},
   "outputs": [
    {
     "ename": "AttributeError",
     "evalue": "'Classe' object has no attribute '__atributo_privado'",
     "output_type": "error",
     "traceback": [
      "\u001b[1;31m---------------------------------------------------------------------------\u001b[0m",
      "\u001b[1;31mAttributeError\u001b[0m                            Traceback (most recent call last)",
      "Input \u001b[1;32mIn [41]\u001b[0m, in \u001b[0;36m<cell line: 2>\u001b[1;34m()\u001b[0m\n\u001b[0;32m      1\u001b[0m \u001b[38;5;66;03m# Devido ao impedimento do interpretador do Python de exibir recursos privados, ele retorna um erro.\u001b[39;00m\n\u001b[1;32m----> 2\u001b[0m \u001b[38;5;28mprint\u001b[39m(\u001b[43mc\u001b[49m\u001b[38;5;241;43m.\u001b[39;49m\u001b[43m__atributo_privado\u001b[49m)\n\u001b[0;32m      3\u001b[0m c\u001b[38;5;241m.\u001b[39m__metodo_privado()\n\u001b[0;32m      4\u001b[0m \u001b[38;5;28mprint\u001b[39m(c\u001b[38;5;241m.\u001b[39m__funcao_privada())\n",
      "\u001b[1;31mAttributeError\u001b[0m: 'Classe' object has no attribute '__atributo_privado'"
     ]
    }
   ],
   "source": [
    "# Devido ao impedimento do interpretador do Python de exibir recursos privados, ele retorna um erro.\n",
    "print(c.__atributo_privado)\n",
    "c.__metodo_privado()\n",
    "print(c.__funcao_privada())"
   ]
  },
  {
   "cell_type": "code",
   "execution_count": 45,
   "id": "55620c60",
   "metadata": {},
   "outputs": [],
   "source": [
    "# Exemplo 5 - Forma de acessar atributos privados\n",
    "class Classe:\n",
    "    __atributo_privado = 'Atributo privado'\n",
    "    atributo_publico = __atributo_privado\n",
    "    \n",
    "    def __metodo_privado(self):\n",
    "        print(\"Método privado\")\n",
    "        \n",
    "    def metodo_publico(self): # Metodo que acessa os recursos do metodo privado\n",
    "        self.__metodo_privado()\n",
    "    \n",
    "    def __funcao_privada(self):\n",
    "        return 'Função privada'\n",
    "    \n",
    "    def funcao_publica(self): # Função que acessa os recursos do função privada\n",
    "        return self.__funcao_privada()"
   ]
  },
  {
   "cell_type": "code",
   "execution_count": 46,
   "id": "d19c05a7",
   "metadata": {},
   "outputs": [],
   "source": [
    "c = Classe()"
   ]
  },
  {
   "cell_type": "code",
   "execution_count": 47,
   "id": "65157496",
   "metadata": {},
   "outputs": [
    {
     "name": "stdout",
     "output_type": "stream",
     "text": [
      "Atributo privado\n",
      "Método privado\n",
      "Função privada\n"
     ]
    }
   ],
   "source": [
    "# Exibe o resultado do atributo, metodo e função públicas\n",
    "print(c.atributo_publico)\n",
    "c.metodo_publico()\n",
    "print(c.funcao_publica())"
   ]
  },
  {
   "cell_type": "code",
   "execution_count": 57,
   "id": "21237a7b",
   "metadata": {},
   "outputs": [
    {
     "ename": "AttributeError",
     "evalue": "type object 'Mae' has no attribute '_Filha__atributo_privado'",
     "output_type": "error",
     "traceback": [
      "\u001b[1;31m---------------------------------------------------------------------------\u001b[0m",
      "\u001b[1;31mAttributeError\u001b[0m                            Traceback (most recent call last)",
      "Input \u001b[1;32mIn [57]\u001b[0m, in \u001b[0;36m<cell line: 11>\u001b[1;34m()\u001b[0m\n\u001b[0;32m      8\u001b[0m     \u001b[38;5;28;01mdef\u001b[39;00m \u001b[38;5;21m__funcao_privada\u001b[39m(\u001b[38;5;28mself\u001b[39m):\n\u001b[0;32m      9\u001b[0m         \u001b[38;5;28;01mreturn\u001b[39;00m \u001b[38;5;124m'\u001b[39m\u001b[38;5;124mFunção privada\u001b[39m\u001b[38;5;124m'\u001b[39m\n\u001b[1;32m---> 11\u001b[0m \u001b[38;5;28;01mclass\u001b[39;00m \u001b[38;5;21;01mFilha\u001b[39;00m:\n\u001b[0;32m     12\u001b[0m     atributo_publico \u001b[38;5;241m=\u001b[39m Mae\u001b[38;5;241m.\u001b[39m__atributo_privado\n\u001b[0;32m     14\u001b[0m     \u001b[38;5;28;01mdef\u001b[39;00m \u001b[38;5;21mmetodo_publico\u001b[39m(\u001b[38;5;28mself\u001b[39m):\n",
      "Input \u001b[1;32mIn [57]\u001b[0m, in \u001b[0;36mFilha\u001b[1;34m()\u001b[0m\n\u001b[0;32m     11\u001b[0m \u001b[38;5;28;01mclass\u001b[39;00m \u001b[38;5;21;01mFilha\u001b[39;00m:\n\u001b[1;32m---> 12\u001b[0m     atributo_publico \u001b[38;5;241m=\u001b[39m \u001b[43mMae\u001b[49m\u001b[38;5;241;43m.\u001b[39;49m\u001b[43m__atributo_privado\u001b[49m\n\u001b[0;32m     14\u001b[0m     \u001b[38;5;28;01mdef\u001b[39;00m \u001b[38;5;21mmetodo_publico\u001b[39m(\u001b[38;5;28mself\u001b[39m):\n\u001b[0;32m     15\u001b[0m         \u001b[38;5;28mself\u001b[39m\u001b[38;5;241m.\u001b[39m__metodo_privado()\n",
      "\u001b[1;31mAttributeError\u001b[0m: type object 'Mae' has no attribute '_Filha__atributo_privado'"
     ]
    }
   ],
   "source": [
    "# Exemplo 6 - O interpretador exibirá um erro, mostrando que não é possível uma classe filha herdar recursos de uma classe mãe\n",
    "class Mae:\n",
    "    __atributo_privado = 'Atributo privado'\n",
    "    \n",
    "    def __metodo_privado(self):\n",
    "        print(\"Método privado\")\n",
    "    \n",
    "    def __funcao_privada(self):\n",
    "        return 'Função privada'\n",
    "\n",
    "class Filha:\n",
    "    atributo_publico = Mae.__atributo_privado\n",
    "    \n",
    "    def metodo_publico(self):\n",
    "        self.__metodo_privado()\n",
    "    \n",
    "    def funcao_publica(self):\n",
    "        return self.__funcao_privada()"
   ]
  },
  {
   "cell_type": "code",
   "execution_count": 64,
   "id": "d5868bd8",
   "metadata": {},
   "outputs": [],
   "source": [
    "# Exemplo 7 - Forma de fazer com que a classe filha herde recursos privados da classe mãe\n",
    "class Mae:\n",
    "    __atributo_privado = 'Atributo privado'\n",
    "    atributo_publico_mae = __atributo_privado\n",
    "    \n",
    "    def __metodo_privado(self):\n",
    "        print(\"Método privado\")\n",
    "        \n",
    "    def metodo_publico_mae(self): # Metodo que acessa os recursos do metodo privado\n",
    "        self.__metodo_privado()\n",
    "    \n",
    "    def __funcao_privada(self):\n",
    "        return 'Função privada'\n",
    "    \n",
    "    def funcao_publica_mae(self): # Função que acessa os recursos do função privada\n",
    "        return self.__funcao_privada()\n",
    "    \n",
    "class Filha(Mae):\n",
    "    atributo_publico = Mae.atributo_publico_mae\n",
    "    \n",
    "    def metodo_publico(self):\n",
    "        self.metodo_publico_mae()\n",
    "    \n",
    "    def funcao_publica(self):\n",
    "        return self.funcao_publica_mae()"
   ]
  },
  {
   "cell_type": "code",
   "execution_count": 65,
   "id": "d02adb5f",
   "metadata": {},
   "outputs": [],
   "source": [
    "f = Filha()"
   ]
  },
  {
   "cell_type": "code",
   "execution_count": 66,
   "id": "5a3fefde",
   "metadata": {},
   "outputs": [
    {
     "name": "stdout",
     "output_type": "stream",
     "text": [
      "Atributo privado\n",
      "Método privado\n",
      "Função privada\n"
     ]
    }
   ],
   "source": [
    "print(f.atributo_publico)\n",
    "f.metodo_publico()\n",
    "print(f.funcao_publica())"
   ]
  },
  {
   "cell_type": "code",
   "execution_count": 73,
   "id": "3bcae3bd",
   "metadata": {},
   "outputs": [],
   "source": [
    "# Exemplo 7 - Outra forma de fazer com que a classe filha herde recursos privados da classe mãe\n",
    "class Mae:\n",
    "    __atributo_privado = 'Atributo privado'\n",
    "    _atributo_protegido_mae = __atributo_privado # Criação de atributo protegido\n",
    "    \n",
    "    def __metodo_privado(self):\n",
    "        print(\"Método privado\")\n",
    "        \n",
    "    def _metodo_protegido_mae(self): # Metodo protegido que acessa os recursos do metodo privado\n",
    "        self.__metodo_privado()\n",
    "    \n",
    "    def __funcao_privada(self):\n",
    "        return 'Função privada'\n",
    "    \n",
    "    def _funcao_protegida_mae(self): # Função protegida que acessa os recursos do função privada\n",
    "        return self.__funcao_privada()\n",
    "    \n",
    "class Filha(Mae):\n",
    "    atributo_publico = Mae._atributo_protegido_mae\n",
    "    \n",
    "    def metodo_publico(self):\n",
    "        self._metodo_protegido_mae()\n",
    "    \n",
    "    def funcao_publica(self):\n",
    "        return self._funcao_protegida_mae()"
   ]
  },
  {
   "cell_type": "code",
   "execution_count": 74,
   "id": "b0b9477e",
   "metadata": {},
   "outputs": [],
   "source": [
    "f = Filha()"
   ]
  },
  {
   "cell_type": "code",
   "execution_count": 75,
   "id": "0ffc8f05",
   "metadata": {},
   "outputs": [
    {
     "name": "stdout",
     "output_type": "stream",
     "text": [
      "Atributo privado\n",
      "Método privado\n",
      "Função privada\n"
     ]
    }
   ],
   "source": [
    "print(f.atributo_publico)\n",
    "f.metodo_publico()\n",
    "print(f.funcao_publica())"
   ]
  }
 ],
 "metadata": {
  "kernelspec": {
   "display_name": "Python 3 (ipykernel)",
   "language": "python",
   "name": "python3"
  },
  "language_info": {
   "codemirror_mode": {
    "name": "ipython",
    "version": 3
   },
   "file_extension": ".py",
   "mimetype": "text/x-python",
   "name": "python",
   "nbconvert_exporter": "python",
   "pygments_lexer": "ipython3",
   "version": "3.9.12"
  }
 },
 "nbformat": 4,
 "nbformat_minor": 5
}
