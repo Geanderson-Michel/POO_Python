{
 "cells": [
  {
   "cell_type": "markdown",
   "id": "b7dee8df",
   "metadata": {},
   "source": [
    "## Exceções"
   ]
  },
  {
   "cell_type": "markdown",
   "id": "a8726fad",
   "metadata": {},
   "source": [
    "**Definição**: São mensagens de erro geradas de forma automática durante a execução do algoritmo"
   ]
  },
  {
   "cell_type": "markdown",
   "id": "d43593bd",
   "metadata": {},
   "source": [
    "## Utilizando a estrutura Try - Except"
   ]
  },
  {
   "cell_type": "code",
   "execution_count": 1,
   "id": "b7ab5c8e",
   "metadata": {},
   "outputs": [],
   "source": [
    "# Exemplo 1\n",
    "class Divisao:\n",
    "    \n",
    "    def dividir(self, n1 = 0, n2 = 0):\n",
    "        \n",
    "        # Caso o código dentro do try retornar algum erro, será executado o código contido em except\n",
    "        # Caso não haja qualquer erro na execução do código em try, o except será ignorado\n",
    "        try:\n",
    "            \n",
    "            print(f\"{n1} / {n2} = {n1/n2}\")\n",
    "            \n",
    "        except:\n",
    "            \n",
    "            print('Ocorreu um erro')"
   ]
  },
  {
   "cell_type": "code",
   "execution_count": 2,
   "id": "d88252c5",
   "metadata": {},
   "outputs": [],
   "source": [
    "d = Divisao()"
   ]
  },
  {
   "cell_type": "code",
   "execution_count": 4,
   "id": "5dfa07d7",
   "metadata": {},
   "outputs": [
    {
     "name": "stdout",
     "output_type": "stream",
     "text": [
      "10 / 2 = 5.0\n"
     ]
    }
   ],
   "source": [
    "d.dividir(10, 2) # A linha referente ao except foi simplesmente ignorada"
   ]
  },
  {
   "cell_type": "code",
   "execution_count": 5,
   "id": "01b9c45a",
   "metadata": {},
   "outputs": [
    {
     "name": "stdout",
     "output_type": "stream",
     "text": [
      "Ocorreu um erro\n"
     ]
    }
   ],
   "source": [
    "d.dividir() # A linha referente ao try foi simplesmente ignorada devido a um problema nos cálculos (zero/zero)"
   ]
  },
  {
   "cell_type": "code",
   "execution_count": 9,
   "id": "107dd92e",
   "metadata": {},
   "outputs": [],
   "source": [
    "# Exemplo 2\n",
    "class Divisao:\n",
    "    \n",
    "    def dividir(self, n1 = 0, n2 = 0):\n",
    "        \n",
    "        # Caso o código dentro do try retornar algum erro, será executado o código contido em except\n",
    "        # Caso não haja qualquer erro na execução do código em try, o except será ignorado\n",
    "        try:\n",
    "            \n",
    "            print(f\"{n1} / {n2} = {n1/n2}\")\n",
    "            \n",
    "        except Exception as e: # Servirá para capturar a mensagem de erro exata do bloco de código acima que não foi executado\n",
    "            \n",
    "            print(e)"
   ]
  },
  {
   "cell_type": "code",
   "execution_count": 10,
   "id": "a32cf915",
   "metadata": {},
   "outputs": [],
   "source": [
    "d = Divisao()"
   ]
  },
  {
   "cell_type": "code",
   "execution_count": 12,
   "id": "741ef7c0",
   "metadata": {},
   "outputs": [
    {
     "name": "stdout",
     "output_type": "stream",
     "text": [
      "division by zero\n"
     ]
    }
   ],
   "source": [
    "d.dividir() # Mensagem exata do erro ocorrido"
   ]
  },
  {
   "cell_type": "markdown",
   "id": "ec6725ef",
   "metadata": {},
   "source": [
    "## Controle de fluxo com Else - Finally"
   ]
  },
  {
   "cell_type": "code",
   "execution_count": 15,
   "id": "a07e80ef",
   "metadata": {},
   "outputs": [],
   "source": [
    "# Exemplo 3\n",
    "class Divisao:\n",
    "    \n",
    "    def dividir(self, n1 = 0, n2 = 0):\n",
    "        \n",
    "        # Caso o código dentro do try retornar algum erro, será executado o código contido em except\n",
    "        # Caso não haja qualquer erro na execução do código em try, o except será ignorado\n",
    "        try:\n",
    "            \n",
    "            print(f\"{n1} / {n2} = {n1/n2}\")\n",
    "            \n",
    "        except Exception as e: # Servirá para capturar a mensagem de erro exata do bloco de código acima que não foi executado\n",
    "            \n",
    "            print(e)\n",
    "            \n",
    "        else:# Só será executado se o except não for executado, ou seja, após a execução do try, o else é executado também\n",
    "            \n",
    "            print('Sem erro')"
   ]
  },
  {
   "cell_type": "code",
   "execution_count": 16,
   "id": "0e79e71f",
   "metadata": {},
   "outputs": [],
   "source": [
    "d = Divisao()"
   ]
  },
  {
   "cell_type": "code",
   "execution_count": 17,
   "id": "b9bb7acc",
   "metadata": {},
   "outputs": [
    {
     "name": "stdout",
     "output_type": "stream",
     "text": [
      "10 / 2 = 5.0\n",
      "Sem erro\n"
     ]
    }
   ],
   "source": [
    "d.dividir(10, 2) # Nesta situação, o try será executado e o else também"
   ]
  },
  {
   "cell_type": "code",
   "execution_count": 18,
   "id": "3faea235",
   "metadata": {},
   "outputs": [
    {
     "name": "stdout",
     "output_type": "stream",
     "text": [
      "division by zero\n"
     ]
    }
   ],
   "source": [
    "d.dividir() # O try não será executado e, por conta disso, o else também não será executado. Apenas o except será executado."
   ]
  },
  {
   "cell_type": "code",
   "execution_count": 23,
   "id": "63f64f53",
   "metadata": {},
   "outputs": [],
   "source": [
    "# Exemplo 4\n",
    "class Divisao:\n",
    "    \n",
    "    def dividir(self, n1 = 0, n2 = 0):\n",
    "        \n",
    "        # Caso o código dentro do try retornar algum erro, será executado o código contido em except\n",
    "        # Caso não haja qualquer erro na execução do código em try, o except será ignorado\n",
    "        try:\n",
    "            \n",
    "            print(f\"{n1} / {n2} = {n1/n2}\")\n",
    "            \n",
    "        except Exception as e: # Servirá para capturar a mensagem de erro exata do bloco de código acima que não foi executado\n",
    "            \n",
    "            print(e)\n",
    "            \n",
    "        else:# Só será executado se o except não for executado, ou seja, após a execução do try, o else é executado também\n",
    "            \n",
    "            print('Sem erro')\n",
    "            \n",
    "        finally: # Sempre será executado, independente se existirá ou não algum erro na execução do código em try\n",
    "            \n",
    "            print('Executado de qualquer forma')"
   ]
  },
  {
   "cell_type": "code",
   "execution_count": 24,
   "id": "9e0b75b9",
   "metadata": {},
   "outputs": [],
   "source": [
    "d = Divisao()"
   ]
  },
  {
   "cell_type": "code",
   "execution_count": 25,
   "id": "11e17f67",
   "metadata": {},
   "outputs": [
    {
     "name": "stdout",
     "output_type": "stream",
     "text": [
      "10 / 2 = 5.0\n",
      "Sem erro\n",
      "Executado de qualquer forma\n"
     ]
    }
   ],
   "source": [
    "d.dividir(10, 2) #Try, else e finally executados"
   ]
  },
  {
   "cell_type": "code",
   "execution_count": 27,
   "id": "b54009d6",
   "metadata": {},
   "outputs": [
    {
     "name": "stdout",
     "output_type": "stream",
     "text": [
      "division by zero\n",
      "Executado de qualquer forma\n"
     ]
    }
   ],
   "source": [
    "d.dividir() #Except e finally executados"
   ]
  },
  {
   "cell_type": "markdown",
   "id": "8e0c9bbc",
   "metadata": {},
   "source": [
    "## Entendendo Raise - Pass"
   ]
  },
  {
   "cell_type": "code",
   "execution_count": 28,
   "id": "f0914f28",
   "metadata": {},
   "outputs": [],
   "source": [
    "# Exemplo 5\n",
    "class Divisao:\n",
    "    \n",
    "    def dividir(self, n1 = 0, n2 = 0):\n",
    "        \n",
    "        # Caso o código dentro do try retornar algum erro, será executado o código contido em except\n",
    "        # Caso não haja qualquer erro na execução do código em try, o except será ignorado\n",
    "        try:\n",
    "            \n",
    "            # Com essa condição, o try sempre será executado, mesmo quando houver erro devido a divisão por zero\n",
    "            if n2 == 0:\n",
    "                \n",
    "                raise Exception('Divisao por zero') # Configuração da mensagem que deverá ser exibida como exceção\n",
    "            \n",
    "            print(f\"{n1} / {n2} = {n1/n2}\")\n",
    "            \n",
    "        except Exception as e: # Servirá para capturar a mensagem de erro exata do bloco de código acima que não foi executado\n",
    "            \n",
    "            print(e)\n",
    "            \n",
    "        else:# Só será executado se o except não for executado, ou seja, após a execução do try, o else é executado também\n",
    "            \n",
    "            print('Sem erro')\n",
    "            \n",
    "        finally: # Sempre será executado, independente se existirá ou não algum erro na execução do código em try\n",
    "            \n",
    "            print('Executado de qualquer forma')"
   ]
  },
  {
   "cell_type": "code",
   "execution_count": 29,
   "id": "80096ccc",
   "metadata": {},
   "outputs": [],
   "source": [
    "d = Divisao()"
   ]
  },
  {
   "cell_type": "code",
   "execution_count": 30,
   "id": "2669dfba",
   "metadata": {},
   "outputs": [
    {
     "name": "stdout",
     "output_type": "stream",
     "text": [
      "Divisao por zero\n",
      "Executado de qualquer forma\n"
     ]
    }
   ],
   "source": [
    "d.dividir()"
   ]
  },
  {
   "cell_type": "code",
   "execution_count": 34,
   "id": "2991e89c",
   "metadata": {},
   "outputs": [],
   "source": [
    "# Exemplo 6\n",
    "class Divisao:\n",
    "    \n",
    "    def dividir(self, n1 = 0, n2 = 0):\n",
    "        \n",
    "        # Caso o código dentro do try retornar algum erro, será executado o código contido em except\n",
    "        # Caso não haja qualquer erro na execução do código em try, o except será ignorado\n",
    "        try:\n",
    "            \n",
    "            print(f\"{n1} / {n2} = {n1/n2}\")\n",
    "            \n",
    "        except: # Servirá para capturar a mensagem de erro exata do bloco de código acima que não foi executado\n",
    "            \n",
    "            pass # Ao entrar em except, o python não fará nada devido ao comando pass\n",
    "            \n",
    "        else:# Só será executado se o except não for executado, ou seja, após a execução do try, o else é executado também\n",
    "            \n",
    "            print('Sem erro')\n",
    "            \n",
    "        finally: # Sempre será executado, independente se existirá ou não algum erro na execução do código em try\n",
    "            \n",
    "            print('Executado de qualquer forma')"
   ]
  },
  {
   "cell_type": "code",
   "execution_count": 35,
   "id": "f2ea6a88",
   "metadata": {},
   "outputs": [],
   "source": [
    "d = Divisao()"
   ]
  },
  {
   "cell_type": "code",
   "execution_count": 38,
   "id": "92057f2d",
   "metadata": {},
   "outputs": [
    {
     "name": "stdout",
     "output_type": "stream",
     "text": [
      "Executado de qualquer forma\n"
     ]
    }
   ],
   "source": [
    "d.dividir() # Apenas o finally foi executado"
   ]
  },
  {
   "cell_type": "code",
   "execution_count": 39,
   "id": "0b3dec11",
   "metadata": {},
   "outputs": [],
   "source": [
    "# Exemplo 7\n",
    "class Divisao:\n",
    "    \n",
    "    def dividir(self, n1 = 0, n2 = 0):\n",
    "        \n",
    "        # Caso o código dentro do try retornar algum erro, será executado o código contido em except\n",
    "        # Caso não haja qualquer erro na execução do código em try, o except será ignorado\n",
    "        try:\n",
    "            \n",
    "            print(f\"{n1} / {n2} = {n1/n2}\")\n",
    "            \n",
    "        except: # Servirá para capturar a mensagem de erro exata do bloco de código acima que não foi executado\n",
    "            \n",
    "            pass # Ao entrar em except, o python não fará nada devido ao comando pass"
   ]
  },
  {
   "cell_type": "code",
   "execution_count": 40,
   "id": "38b0077d",
   "metadata": {},
   "outputs": [],
   "source": [
    "d = Divisao()"
   ]
  },
  {
   "cell_type": "code",
   "execution_count": 42,
   "id": "1e406d89",
   "metadata": {},
   "outputs": [],
   "source": [
    "d.dividir() # Devido a existencia somente do comando pass dentro de except, nada será exibido na tela"
   ]
  }
 ],
 "metadata": {
  "kernelspec": {
   "display_name": "Python 3 (ipykernel)",
   "language": "python",
   "name": "python3"
  },
  "language_info": {
   "codemirror_mode": {
    "name": "ipython",
    "version": 3
   },
   "file_extension": ".py",
   "mimetype": "text/x-python",
   "name": "python",
   "nbconvert_exporter": "python",
   "pygments_lexer": "ipython3",
   "version": "3.9.12"
  }
 },
 "nbformat": 4,
 "nbformat_minor": 5
}
