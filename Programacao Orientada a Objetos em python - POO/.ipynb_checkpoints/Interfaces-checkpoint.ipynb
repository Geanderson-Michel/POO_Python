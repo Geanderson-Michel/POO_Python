{
 "cells": [
  {
   "cell_type": "markdown",
   "id": "bcac8890",
   "metadata": {},
   "source": [
    "## Interfaces"
   ]
  },
  {
   "cell_type": "markdown",
   "id": "ae29cb76",
   "metadata": {},
   "source": [
    "**Definição**:São estruturas de declaração que serão declaradas por um projetista de software para que, posteriormente, elas sejam implementadas pela equipe de desenvolvimento. Essa equipe irá seguir os comentários das declarações declaradas pelo projetista para poderem, assim, implementar o conteúdo de cada uma das declarações. Logo, as declarações de conteúdo vazio a serem implementadas posteriormente são as interfaces da programação orientada a objetos no Python."
   ]
  },
  {
   "cell_type": "code",
   "execution_count": 1,
   "id": "e0e1f85c",
   "metadata": {},
   "outputs": [],
   "source": [
    "# Exemplo 1\n",
    "class Interface:\n",
    "    \n",
    "    # Declarações feitas por meio de métodos seguindo os comentários feitos pelo projetista\n",
    "    # Os métodos a seguir devem ser desenvolvidos posteriormente, seguindo as instruções (comentários) do projetista\n",
    "    def soma(self, n1 = 0, n2 = 0):\n",
    "        pass # Deverá exibir n1 + n2\n",
    "    \n",
    "    def subtracao(self, n1 = 0, n2 = 0):\n",
    "        pass # Deverá exibir n1 - n2\n",
    "    \n",
    "    def divisao(self, n1 = 0, n2 = 0):\n",
    "        pass # Deverá exibir n1 / n2\n",
    "    \n",
    "    def multiplicacao(self, n1 = 0, n2 = 0):\n",
    "        pass # Deverá exibir n1 * n2\n",
    "    \n",
    "# Implementação de uma classe filha que, posteriormente, será usada para implementar os métodos definidos na classe pai (Interface)\n",
    "class Classe(Interface):\n",
    "    \n",
    "    def metodo(self):\n",
    "        print('Interface em orientacao a objetos')    "
   ]
  },
  {
   "cell_type": "code",
   "execution_count": 2,
   "id": "a89db710",
   "metadata": {},
   "outputs": [],
   "source": [
    "c = Classe() # Declarando o objeto c para instanciar a classe Classe"
   ]
  },
  {
   "cell_type": "code",
   "execution_count": 3,
   "id": "152944f0",
   "metadata": {},
   "outputs": [
    {
     "name": "stdout",
     "output_type": "stream",
     "text": [
      "Interface em orientacao a objetos\n"
     ]
    }
   ],
   "source": [
    "c.metodo() # Exibe a mensagem presente no método da classe"
   ]
  },
  {
   "cell_type": "code",
   "execution_count": 4,
   "id": "ec861514",
   "metadata": {},
   "outputs": [],
   "source": [
    "# Exemplo 2\n",
    "class Interface:\n",
    "    \n",
    "    # Declarações feitas por meio de métodos seguindo os comentários feitos pelo projetista\n",
    "    # Os métodos a seguir devem ser desenvolvidos posteriormente, seguindo as instruções (comentários) do projetista\n",
    "    def soma(self, n1 = 0, n2 = 0):\n",
    "        pass # Deverá exibir n1 + n2\n",
    "    \n",
    "    def subtracao(self, n1 = 0, n2 = 0):\n",
    "        pass # Deverá exibir n1 - n2\n",
    "    \n",
    "    def divisao(self, n1 = 0, n2 = 0):\n",
    "        pass # Deverá exibir n1 / n2\n",
    "    \n",
    "    def multiplicacao(self, n1 = 0, n2 = 0):\n",
    "        pass # Deverá exibir n1 * n2\n",
    "    \n",
    "# Forma correta de trabalhar com interfaces:\n",
    "# Implementa-se o método soma, sobrescevendo o método soma da classe Interface, seguindo os comentários do projetista\n",
    "class Classe(Interface):\n",
    "    \n",
    "    def metodo(self):\n",
    "        print('Interface em orientacao a objetos')\n",
    "        \n",
    "    def soma(self, n1 = 0, n2 = 0):\n",
    "        print(f'n1 + n2 = {n1 + n2}')\n",
    "        \n",
    "    def subtracao(self, n1 = 0, n2 = 0):\n",
    "        print(f'n1 - n2 = {n1 - n2}')\n",
    "        \n",
    "    def divisao(self, n1 = 0, n2 = 0):\n",
    "        print(f'n1 / n2 = {n1 / n2}')\n",
    "        \n",
    "    def multiplicacao(self, n1 = 0, n2 = 0):\n",
    "        print(f'n1 * n2 = {n1 * n2}')"
   ]
  },
  {
   "cell_type": "code",
   "execution_count": 5,
   "id": "4694ebf1",
   "metadata": {},
   "outputs": [],
   "source": [
    "c = Classe() # Declarando o objeto c para instanciar a classe Classe"
   ]
  },
  {
   "cell_type": "code",
   "execution_count": 7,
   "id": "c2c1f98c",
   "metadata": {},
   "outputs": [
    {
     "name": "stdout",
     "output_type": "stream",
     "text": [
      "Interface em orientacao a objetos\n",
      "n1 + n2 = 9\n",
      "n1 - n2 = 3\n",
      "n1 / n2 = 2.0\n",
      "n1 * n2 = 18\n"
     ]
    }
   ],
   "source": [
    "c.metodo() # Exibe a mensagem presente no método da classe filha\n",
    "c.soma(6, 3) # Exibe o resultado do cálculo gerado pelo método da classe filha\n",
    "c.subtracao(6, 3) # Exibe o resultado do cálculo gerado pelo método da classe filha\n",
    "c.divisao(6, 3) # Exibe o resultado do cálculo gerado pelo método da classe filha\n",
    "c.multiplicacao(6, 3) # Exibe o resultado do cálculo gerado pelo método da classe filha"
   ]
  },
  {
   "cell_type": "markdown",
   "id": "144a2b4f",
   "metadata": {},
   "source": [
    "## Métodos Abstratos e Funções Abstratas"
   ]
  },
  {
   "cell_type": "markdown",
   "id": "ef8e993e",
   "metadata": {},
   "source": [
    "**Definição**: São métodos e funções que deverão ser, obrigatoriamente, implementados na classe herdeira por meio de declarações na classe pai.Dessa forma, o projetista obriga a equipe de desenvolvimento a implementar os conteúdos das interfaces declaradas. Caso a equipe não faça como o projetista estabeleceu, o código não será executado de forma correta. A execução de forma incorreta retorna um erro gerado pelo próprio interpretador do Python."
   ]
  },
  {
   "cell_type": "code",
   "execution_count": 8,
   "id": "a1eb3e09",
   "metadata": {},
   "outputs": [],
   "source": [
    "# Exemplo 3\n",
    "import abc # Importa um pacote nativo do Python chamado abc, que significa abstract (abstração, em português)\n",
    "\n",
    "# Criação de estruturas abstratas nas declarações\n",
    "class Interface(abc.ABC): # Herança do recurso ABC do pacote abc por meio da classe pai\n",
    "    \n",
    "    # Recurso definido, por meio de uma diretiva, para implementação de métodos e funções abstratas\n",
    "    @abc.abstractmethod # Obriga que o método a seguir (soma) seja implementado na classe filha\n",
    "    \n",
    "    # Declarações feitas por meio de métodos seguindo os comentários feitos pelo projetista\n",
    "    # Os métodos a seguir devem ser desenvolvidos posteriormente, seguindo as instruções (comentários) do projetista\n",
    "    def soma(self, n1 = 0, n2 = 0):\n",
    "        pass # Deverá exibir n1 + n2\n",
    "    \n",
    "    def subtracao(self, n1 = 0, n2 = 0):\n",
    "        pass # Deverá exibir n1 - n2\n",
    "    \n",
    "    def divisao(self, n1 = 0, n2 = 0):\n",
    "        pass # Deverá exibir n1 / n2\n",
    "    \n",
    "    def multiplicacao(self, n1 = 0, n2 = 0):\n",
    "        pass # Deverá exibir n1 * n2\n",
    "    \n",
    "# Implementação de uma classe filha que, posteriormente, será usada para implementar os métodos definidos na classe pai (Interface)\n",
    "class Classe(Interface):\n",
    "    \n",
    "    def metodo(self):\n",
    "        print('Interface em orientacao a objetos')"
   ]
  },
  {
   "cell_type": "code",
   "execution_count": 10,
   "id": "86a5e298",
   "metadata": {},
   "outputs": [
    {
     "ename": "TypeError",
     "evalue": "Can't instantiate abstract class Classe with abstract method soma",
     "output_type": "error",
     "traceback": [
      "\u001b[1;31m---------------------------------------------------------------------------\u001b[0m",
      "\u001b[1;31mTypeError\u001b[0m                                 Traceback (most recent call last)",
      "Input \u001b[1;32mIn [10]\u001b[0m, in \u001b[0;36m<cell line: 1>\u001b[1;34m()\u001b[0m\n\u001b[1;32m----> 1\u001b[0m c \u001b[38;5;241m=\u001b[39m \u001b[43mClasse\u001b[49m\u001b[43m(\u001b[49m\u001b[43m)\u001b[49m\n",
      "\u001b[1;31mTypeError\u001b[0m: Can't instantiate abstract class Classe with abstract method soma"
     ]
    }
   ],
   "source": [
    "c = Classe() # Definindo o objeto c para instanciação da classe"
   ]
  },
  {
   "cell_type": "markdown",
   "id": "422a5b6c",
   "metadata": {},
   "source": [
    "Obs.: Perceba que um erro foi retornado pelo interpretador do Python devido a não-implementação do método soma na classe filha"
   ]
  },
  {
   "cell_type": "code",
   "execution_count": 11,
   "id": "eddb28a5",
   "metadata": {},
   "outputs": [],
   "source": [
    "# Exemplo 4 - Continuação do exemplo 3\n",
    "import abc # Importa um pacote nativo do Python chamado abc, que significa abstract (abstração, em português)\n",
    "\n",
    "# Criação de estruturas abstratas nas declarações\n",
    "class Interface(abc.ABC): # Herança do recurso ABC do pacote abc por meio da classe pai\n",
    "    \n",
    "    # Recurso definido, por meio de uma diretiva, para implementação de métodos e funções abstratas\n",
    "    @abc.abstractmethod # Obriga que o método a seguir (soma) seja implementado na classe filha\n",
    "    \n",
    "    # Declarações feitas por meio de métodos seguindo os comentários feitos pelo projetista\n",
    "    # Os métodos a seguir devem ser desenvolvidos posteriormente, seguindo as instruções (comentários) do projetista\n",
    "    def soma(self, n1 = 0, n2 = 0):\n",
    "        pass # Deverá exibir n1 + n2\n",
    "    \n",
    "    def subtracao(self, n1 = 0, n2 = 0):\n",
    "        pass # Deverá exibir n1 - n2\n",
    "    \n",
    "    def divisao(self, n1 = 0, n2 = 0):\n",
    "        pass # Deverá exibir n1 / n2\n",
    "    \n",
    "    def multiplicacao(self, n1 = 0, n2 = 0):\n",
    "        pass # Deverá exibir n1 * n2\n",
    "    \n",
    "# Implementação de uma classe filha que, posteriormente, será usada para implementar os métodos definidos na classe pai (Interface)\n",
    "class Classe(Interface):\n",
    "    \n",
    "    def metodo(self):\n",
    "        print('Interface em orientacao a objetos')\n",
    "        \n",
    "    def soma(self, n1 = 0, n2 = 0):\n",
    "        print(f'n1 + n2 = {n1 + n2}')"
   ]
  },
  {
   "cell_type": "code",
   "execution_count": 12,
   "id": "0138b506",
   "metadata": {},
   "outputs": [],
   "source": [
    "c = Classe() # Definindo o objeto c para instanciação da classe"
   ]
  },
  {
   "cell_type": "code",
   "execution_count": 14,
   "id": "daf84582",
   "metadata": {},
   "outputs": [
    {
     "name": "stdout",
     "output_type": "stream",
     "text": [
      "Interface em orientacao a objetos\n"
     ]
    }
   ],
   "source": [
    "c.metodo() # Nenhum erro foi retornado porque o método soma foi declarado (sobrescrito) na classe filha"
   ]
  },
  {
   "cell_type": "code",
   "execution_count": 15,
   "id": "99c5d6a8",
   "metadata": {},
   "outputs": [],
   "source": [
    "# Exemplo 5 - Continuação do exemplo 4 --> Declaração de mais diretivas para os métodos subtração, divisão e multiplicação\n",
    "\n",
    "import abc # Importa um pacote nativo do Python chamado abc, que significa abstract (abstração, em português)\n",
    "\n",
    "# Criação de estruturas abstratas nas declarações\n",
    "class Interface(abc.ABC): # Herança do recurso ABC do pacote abc por meio da classe pai\n",
    "    \n",
    "    # Recurso definido, por meio de uma diretiva, para implementação de métodos e funções abstratas\n",
    "    @abc.abstractmethod # Obriga que o método a seguir (soma) seja implementado na classe filha\n",
    "    \n",
    "    # Declarações feitas por meio de métodos seguindo os comentários feitos pelo projetista\n",
    "    # Os métodos a seguir devem ser desenvolvidos posteriormente, seguindo as instruções (comentários) do projetista\n",
    "    def soma(self, n1 = 0, n2 = 0):\n",
    "        pass # Deverá exibir n1 + n2\n",
    "    \n",
    "    @abc.abstractmethod # Obriga que o método a seguir (subtração) seja implementado na classe filha\n",
    "    \n",
    "    def subtracao(self, n1 = 0, n2 = 0):\n",
    "        pass # Deverá exibir n1 - n2\n",
    "    \n",
    "    @abc.abstractmethod # Obriga que o método a seguir (divisão) seja implementado na classe filha\n",
    "    \n",
    "    def divisao(self, n1 = 0, n2 = 0):\n",
    "        pass # Deverá exibir n1 / n2\n",
    "    \n",
    "    @abc.abstractmethod # Obriga que o método a seguir (multiplicação) seja implementado na classe filha\n",
    "    \n",
    "    def multiplicacao(self, n1 = 0, n2 = 0):\n",
    "        pass # Deverá exibir n1 * n2\n",
    "    \n",
    "# Implementação de uma classe filha que, posteriormente, será usada para implementar os métodos definidos na classe pai (Interface)\n",
    "class Classe(Interface):\n",
    "    \n",
    "    def metodo(self):\n",
    "        print('Interface em orientacao a objetos')\n",
    "        \n",
    "    def soma(self, n1 = 0, n2 = 0):\n",
    "        print(f'n1 + n2 = {n1 + n2}')"
   ]
  },
  {
   "cell_type": "code",
   "execution_count": 16,
   "id": "8f1f817f",
   "metadata": {},
   "outputs": [
    {
     "ename": "TypeError",
     "evalue": "Can't instantiate abstract class Classe with abstract methods divisao, multiplicacao, subtracao",
     "output_type": "error",
     "traceback": [
      "\u001b[1;31m---------------------------------------------------------------------------\u001b[0m",
      "\u001b[1;31mTypeError\u001b[0m                                 Traceback (most recent call last)",
      "Input \u001b[1;32mIn [16]\u001b[0m, in \u001b[0;36m<cell line: 2>\u001b[1;34m()\u001b[0m\n\u001b[0;32m      1\u001b[0m \u001b[38;5;66;03m# Tentativa de execução dos códigos a seguir, mas sem sucesso, dessa vez, por conta de metodos não declarados na classe filha\u001b[39;00m\n\u001b[1;32m----> 2\u001b[0m c \u001b[38;5;241m=\u001b[39m \u001b[43mClasse\u001b[49m\u001b[43m(\u001b[49m\u001b[43m)\u001b[49m\n\u001b[0;32m      3\u001b[0m c\u001b[38;5;241m.\u001b[39mmetodo()\n",
      "\u001b[1;31mTypeError\u001b[0m: Can't instantiate abstract class Classe with abstract methods divisao, multiplicacao, subtracao"
     ]
    }
   ],
   "source": [
    "# Tentativa de execução dos códigos a seguir, mas sem sucesso, dessa vez, por conta de metodos não declarados na classe filha\n",
    "c = Classe()\n",
    "c.metodo()"
   ]
  },
  {
   "cell_type": "code",
   "execution_count": 17,
   "id": "e1f0bc0e",
   "metadata": {},
   "outputs": [],
   "source": [
    "# Exemplo 6 - Continuação do exemplo 5 --> Implementação dos métodos subtração, divisão e multiplicação na classe filha\n",
    "\n",
    "import abc # Importa um pacote nativo do Python chamado abc, que significa abstract (abstração, em português)\n",
    "\n",
    "# Criação de estruturas abstratas nas declarações\n",
    "class Interface(abc.ABC): # Herança do recurso ABC do pacote abc por meio da classe pai\n",
    "    \n",
    "    # Recurso definido, por meio de uma diretiva, para implementação de métodos e funções abstratas\n",
    "    @abc.abstractmethod # Obriga que o método a seguir (soma) seja implementado na classe filha\n",
    "    \n",
    "    # Declarações feitas por meio de métodos seguindo os comentários feitos pelo projetista\n",
    "    # Os métodos a seguir devem ser desenvolvidos posteriormente, seguindo as instruções (comentários) do projetista\n",
    "    def soma(self, n1 = 0, n2 = 0):\n",
    "        pass # Deverá exibir n1 + n2\n",
    "    \n",
    "    @abc.abstractmethod # Obriga que o método a seguir (subtração) seja implementado na classe filha\n",
    "    \n",
    "    def subtracao(self, n1 = 0, n2 = 0):\n",
    "        pass # Deverá exibir n1 - n2\n",
    "    \n",
    "    @abc.abstractmethod # Obriga que o método a seguir (divisão) seja implementado na classe filha\n",
    "    \n",
    "    def divisao(self, n1 = 0, n2 = 0):\n",
    "        pass # Deverá exibir n1 / n2\n",
    "    \n",
    "    @abc.abstractmethod # Obriga que o método a seguir (multiplicação) seja implementado na classe filha\n",
    "    \n",
    "    def multiplicacao(self, n1 = 0, n2 = 0):\n",
    "        pass # Deverá exibir n1 * n2\n",
    "    \n",
    "# Implementação de uma classe filha que, posteriormente, será usada para implementar os métodos definidos na classe pai (Interface)\n",
    "class Classe(Interface):\n",
    "    \n",
    "    def metodo(self):\n",
    "        print('Interface em orientacao a objetos')\n",
    "        \n",
    "    def soma(self, n1 = 0, n2 = 0):\n",
    "        print(f'n1 + n2 = {n1 + n2}')\n",
    "        \n",
    "    def subtracao(self, n1 = 0, n2 = 0):\n",
    "        print(f'n1 - n2 = {n1 - n2}')\n",
    "        \n",
    "    def divisao(self, n1 = 0, n2 = 0):\n",
    "        print(f'n1 / n2 = {n1 / n2}')\n",
    "        \n",
    "    def multiplicacao(self, n1 = 0, n2 = 0):\n",
    "        print(f'n1 * n2 = {n1 * n2}')"
   ]
  },
  {
   "cell_type": "code",
   "execution_count": 18,
   "id": "d837bf44",
   "metadata": {},
   "outputs": [
    {
     "name": "stdout",
     "output_type": "stream",
     "text": [
      "Interface em orientacao a objetos\n",
      "n1 + n2 = 9\n",
      "n1 - n2 = 3\n",
      "n1 / n2 = 2.0\n",
      "n1 * n2 = 18\n"
     ]
    }
   ],
   "source": [
    "c = Classe() # Declaração do objeto c para instanciar a classe filha\n",
    "c.metodo() # Exibe a mensagem presente no método da classe filha\n",
    "c.soma(6, 3) # Exibe o resultado do cálculo gerado pelo método da classe filha\n",
    "c.subtracao(6, 3) # Exibe o resultado do cálculo gerado pelo método da classe filha\n",
    "c.divisao(6, 3) # Exibe o resultado do cálculo gerado pelo método da classe filha\n",
    "c.multiplicacao(6, 3) # Exibe o resultado do cálculo gerado pelo método da classe filha"
   ]
  },
  {
   "cell_type": "code",
   "execution_count": 1,
   "id": "fda41c28",
   "metadata": {},
   "outputs": [],
   "source": [
    "# Exemplo 6 - Continuação do exemplo 5 --> Implementação dos funções adição, subtração, divisão e multiplicação na classe filha\n",
    "\n",
    "import abc # Importa um pacote nativo do Python chamado abc, que significa abstract (abstração, em português)\n",
    "\n",
    "# Criação de estruturas abstratas nas declarações\n",
    "class Interface(abc.ABC): # Herança do recurso ABC do pacote abc por meio da classe pai\n",
    "    \n",
    "    # Recurso definido, por meio de uma diretiva, para implementação de métodos e funções abstratas\n",
    "    @abc.abstractmethod # Obriga que o método a seguir (soma) seja implementado na classe filha\n",
    "    \n",
    "    # Declarações feitas por meio de métodos seguindo os comentários feitos pelo projetista\n",
    "    # Os métodos a seguir devem ser desenvolvidos posteriormente, seguindo as instruções (comentários) do projetista\n",
    "    def soma(self, n1 = 0, n2 = 0):\n",
    "        pass # Deverá exibir n1 + n2\n",
    "    \n",
    "    @abc.abstractmethod # Obriga que o método a seguir (subtração) seja implementado na classe filha\n",
    "    \n",
    "    def subtracao(self, n1 = 0, n2 = 0):\n",
    "        pass # Deverá exibir n1 - n2\n",
    "    \n",
    "    @abc.abstractmethod # Obriga que o método a seguir (divisão) seja implementado na classe filha\n",
    "    \n",
    "    def divisao(self, n1 = 0, n2 = 0):\n",
    "        pass # Deverá exibir n1 / n2\n",
    "    \n",
    "    @abc.abstractmethod # Obriga que o método a seguir (multiplicação) seja implementado na classe filha\n",
    "    \n",
    "    def multiplicacao(self, n1 = 0, n2 = 0):\n",
    "        pass # Deverá exibir n1 * n2\n",
    "    \n",
    "# Implementação de uma classe filha que, posteriormente, será usada para implementar os métodos definidos na classe pai (Interface)\n",
    "class Classe(Interface):\n",
    "    \n",
    "    def metodo(self):\n",
    "        print('Interface em orientacao a objetos')\n",
    "        \n",
    "    def soma(self, n1 = 0, n2 = 0):\n",
    "        return f'n1 + n2 = {n1 + n2}'\n",
    "        \n",
    "    def subtracao(self, n1 = 0, n2 = 0):\n",
    "        return f'n1 - n2 = {n1 - n2}'\n",
    "        \n",
    "    def divisao(self, n1 = 0, n2 = 0):\n",
    "        return f'n1 / n2 = {n1 / n2}'\n",
    "        \n",
    "    def multiplicacao(self, n1 = 0, n2 = 0):\n",
    "        return f'n1 * n2 = {n1 * n2}'"
   ]
  },
  {
   "cell_type": "code",
   "execution_count": 3,
   "id": "f2bf8f89",
   "metadata": {},
   "outputs": [
    {
     "name": "stdout",
     "output_type": "stream",
     "text": [
      "Interface em orientacao a objetos\n",
      "n1 + n2 = 9\n",
      "n1 - n2 = 3\n",
      "n1 / n2 = 2.0\n",
      "n1 * n2 = 18\n"
     ]
    }
   ],
   "source": [
    "c = Classe() # Declaração do objeto c para instanciar a classe filha\n",
    "c.metodo() # Exibe a mensagem presente no método da classe filha\n",
    "print(c.soma(6, 3)) # Exibe o resultado do cálculo gerado pela função da classe filha\n",
    "print(c.subtracao(6, 3)) # Exibe o resultado do cálculo gerado pela função da classe filha\n",
    "print(c.divisao(6, 3)) # Exibe o resultado do cálculo gerado pela função da classe filha\n",
    "print(c.multiplicacao(6, 3)) # Exibe o resultado do cálculo gerado pela função da classe filha"
   ]
  },
  {
   "cell_type": "markdown",
   "id": "d9fa6b8f",
   "metadata": {},
   "source": [
    "## Interface Nativa de String"
   ]
  },
  {
   "cell_type": "code",
   "execution_count": 4,
   "id": "ece66425",
   "metadata": {},
   "outputs": [],
   "source": [
    "# Exemplo 7\n",
    "class Texto:\n",
    "    def __str__(self): # Função que retorna a string texto\n",
    "        return 'texto'"
   ]
  },
  {
   "cell_type": "code",
   "execution_count": 5,
   "id": "b2879c52",
   "metadata": {},
   "outputs": [],
   "source": [
    "t = Texto()"
   ]
  },
  {
   "cell_type": "code",
   "execution_count": 6,
   "id": "77ff9446",
   "metadata": {},
   "outputs": [
    {
     "name": "stdout",
     "output_type": "stream",
     "text": [
      "texto\n"
     ]
    }
   ],
   "source": [
    "print(t.__str__())"
   ]
  },
  {
   "cell_type": "code",
   "execution_count": 20,
   "id": "1e83f24b",
   "metadata": {},
   "outputs": [],
   "source": [
    "# Exemplo 8 - Continuação do exemplo 7\n",
    "class Texto:\n",
    "    def __str__(self): # Função especial str que retorna como valor padrão a string 'texto'\n",
    "        return 'texto'"
   ]
  },
  {
   "cell_type": "code",
   "execution_count": 21,
   "id": "2f5fd8c7",
   "metadata": {},
   "outputs": [],
   "source": [
    "t = Texto() # Definição do objeto t que instancia a classe Texto"
   ]
  },
  {
   "cell_type": "code",
   "execution_count": 24,
   "id": "1ac0bfdf",
   "metadata": {},
   "outputs": [
    {
     "name": "stdout",
     "output_type": "stream",
     "text": [
      "texto\n"
     ]
    }
   ],
   "source": [
    "print(t) # Retornará direto o valor retornado pela função especial __str__(), sem a necessidade de escrever t.__str__()"
   ]
  },
  {
   "cell_type": "code",
   "execution_count": 25,
   "id": "d560cd93",
   "metadata": {},
   "outputs": [],
   "source": [
    "# Contra-exemplo 8 - Continuação do exemplo 8\n",
    "class Texto:\n",
    "    def __str__(self): # Função especial str que retorna como valor padrão a string 'texto'\n",
    "        return 5 # O retorno não é uma string, mas um inteiro"
   ]
  },
  {
   "cell_type": "code",
   "execution_count": 26,
   "id": "190a86fe",
   "metadata": {},
   "outputs": [],
   "source": [
    "t = Texto() # Definição do objeto t que instancia a classe Texto"
   ]
  },
  {
   "cell_type": "code",
   "execution_count": 27,
   "id": "3d4a93d8",
   "metadata": {},
   "outputs": [
    {
     "ename": "TypeError",
     "evalue": "__str__ returned non-string (type int)",
     "output_type": "error",
     "traceback": [
      "\u001b[1;31m---------------------------------------------------------------------------\u001b[0m",
      "\u001b[1;31mTypeError\u001b[0m                                 Traceback (most recent call last)",
      "Input \u001b[1;32mIn [27]\u001b[0m, in \u001b[0;36m<cell line: 1>\u001b[1;34m()\u001b[0m\n\u001b[1;32m----> 1\u001b[0m \u001b[38;5;28;43mprint\u001b[39;49m\u001b[43m(\u001b[49m\u001b[43mt\u001b[49m\u001b[43m)\u001b[49m\n",
      "\u001b[1;31mTypeError\u001b[0m: __str__ returned non-string (type int)"
     ]
    }
   ],
   "source": [
    "print(t) # Retorna um erro porque o valor retornado pela função especial __str__() não é uma string"
   ]
  },
  {
   "cell_type": "code",
   "execution_count": 29,
   "id": "c84f690e",
   "metadata": {},
   "outputs": [],
   "source": [
    "# Exemplo 9\n",
    "class Texto:\n",
    "    atributo = 'Atributo'\n",
    "    \n",
    "    def __str__(self): # Função especial str que retorna como valor padrão a string 'texto'\n",
    "        return 'texto'\n",
    "    \n",
    "    def metodo(self):\n",
    "        print('Método')\n",
    "        \n",
    "    def funcao(self):\n",
    "        return 'Função'"
   ]
  },
  {
   "cell_type": "code",
   "execution_count": 30,
   "id": "1c8293df",
   "metadata": {},
   "outputs": [],
   "source": [
    "t = Texto()"
   ]
  },
  {
   "cell_type": "code",
   "execution_count": 31,
   "id": "a81dbc89",
   "metadata": {},
   "outputs": [
    {
     "name": "stdout",
     "output_type": "stream",
     "text": [
      "texto\n"
     ]
    }
   ],
   "source": [
    "print(t)"
   ]
  },
  {
   "cell_type": "code",
   "execution_count": 34,
   "id": "238623ab",
   "metadata": {},
   "outputs": [
    {
     "name": "stdout",
     "output_type": "stream",
     "text": [
      "Atributo\n",
      "Método\n",
      "Função\n"
     ]
    }
   ],
   "source": [
    "print(t.atributo) # Exibe o valor do atributo\n",
    "t.metodo() # Exibe o valor do método\n",
    "print(t.funcao()) # Exibe o valor do retorno da função"
   ]
  }
 ],
 "metadata": {
  "kernelspec": {
   "display_name": "Python 3 (ipykernel)",
   "language": "python",
   "name": "python3"
  },
  "language_info": {
   "codemirror_mode": {
    "name": "ipython",
    "version": 3
   },
   "file_extension": ".py",
   "mimetype": "text/x-python",
   "name": "python",
   "nbconvert_exporter": "python",
   "pygments_lexer": "ipython3",
   "version": "3.9.12"
  }
 },
 "nbformat": 4,
 "nbformat_minor": 5
}
