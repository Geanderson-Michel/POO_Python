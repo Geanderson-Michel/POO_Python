{
 "cells": [
  {
   "cell_type": "markdown",
   "id": "e04e0be4",
   "metadata": {},
   "source": [
    "## Mensagens"
   ]
  },
  {
   "cell_type": "markdown",
   "id": "7730bede",
   "metadata": {},
   "source": [
    "**Definição**: São chamadas a métodos ou funções de uma classe por meio de um objeto."
   ]
  },
  {
   "cell_type": "code",
   "execution_count": 1,
   "id": "11fcdab4",
   "metadata": {},
   "outputs": [],
   "source": [
    "# Exemplo 1\n",
    "class Mensagens:\n",
    "    \n",
    "    def metodo(self):\n",
    "        print('Método chamado')\n",
    "    \n",
    "    def funcao(self):\n",
    "        return 'Função chamada'"
   ]
  },
  {
   "cell_type": "code",
   "execution_count": 2,
   "id": "ee4b7fa4",
   "metadata": {},
   "outputs": [],
   "source": [
    "# Criando um objeto m para instanciar a classe Mensagens\n",
    "m = Mensagens()"
   ]
  },
  {
   "cell_type": "code",
   "execution_count": 3,
   "id": "407d6c2d",
   "metadata": {},
   "outputs": [
    {
     "name": "stdout",
     "output_type": "stream",
     "text": [
      "Método chamado\n"
     ]
    }
   ],
   "source": [
    "# Enviando a mensagem (método) por meio do objeto m para a instância (Mensagens) da classe\n",
    "m.metodo()"
   ]
  },
  {
   "cell_type": "code",
   "execution_count": 4,
   "id": "3c05f92b",
   "metadata": {},
   "outputs": [
    {
     "data": {
      "text/plain": [
       "'Função chamada'"
      ]
     },
     "execution_count": 4,
     "metadata": {},
     "output_type": "execute_result"
    }
   ],
   "source": [
    "# Enviando a mensagem (função) por meio do objeto m para a instância (Mensagens) da classe\n",
    "m.funcao()"
   ]
  },
  {
   "cell_type": "markdown",
   "id": "5cac3a24",
   "metadata": {},
   "source": [
    "## Mensagens com exceção"
   ]
  },
  {
   "cell_type": "code",
   "execution_count": 27,
   "id": "cccc58b7",
   "metadata": {},
   "outputs": [],
   "source": [
    "# Exemplo 2\n",
    "class Divisao:\n",
    "    \n",
    "    def dividir1(self, n1 = 0, n2 = 0):\n",
    "        \n",
    "        try:\n",
    "            # if n2 == 0:                \n",
    "               # raise Exception('Não é possível dividir por zero')\n",
    "                \n",
    "            print(f'{n1} / {n2} = {n1 / n2}')\n",
    "        \n",
    "        except Exception as erro:\n",
    "            \n",
    "            print(erro)\n",
    "            \n",
    "    def dividir2(self, n1 = 0, n2 = 0):\n",
    "        \n",
    "        try:\n",
    "           # if n2 == 0:                \n",
    "                # raise Exception('Não é possível dividir por zero')\n",
    "                \n",
    "            return f'{n1} / {n2} = {n1 / n2}'\n",
    "        \n",
    "        except Exception as erro:\n",
    "            \n",
    "            print(erro)"
   ]
  },
  {
   "cell_type": "code",
   "execution_count": 28,
   "id": "b119a103",
   "metadata": {},
   "outputs": [],
   "source": [
    "# Declarando um objeto d para a instância Divisao\n",
    "d = Divisao()"
   ]
  },
  {
   "cell_type": "code",
   "execution_count": 29,
   "id": "b7381442",
   "metadata": {},
   "outputs": [],
   "source": [
    "# Definindo n1 e n2\n",
    "n1 = 10\n",
    "n2 = 2"
   ]
  },
  {
   "cell_type": "code",
   "execution_count": 30,
   "id": "c3155835",
   "metadata": {},
   "outputs": [
    {
     "name": "stdout",
     "output_type": "stream",
     "text": [
      "10 / 2 = 5.0\n"
     ]
    }
   ],
   "source": [
    "# Enviando a mensagem (nome do método) dividir1 para exibir o resultado do método dividir1 com os parâmetros n1 e n2 passados\n",
    "d.dividir1(n1, n2)"
   ]
  },
  {
   "cell_type": "code",
   "execution_count": 31,
   "id": "1bb6b3e0",
   "metadata": {},
   "outputs": [
    {
     "name": "stdout",
     "output_type": "stream",
     "text": [
      "10 / 2 = 5.0\n"
     ]
    }
   ],
   "source": [
    "# Enviando a mensagem (nome da função) dividir2 para exibir o resultado da funcao dividir2 com os parâmetros n1 e n2 passados\n",
    "print(d.dividir2(n1, n2))"
   ]
  },
  {
   "cell_type": "code",
   "execution_count": 32,
   "id": "cde3e14e",
   "metadata": {},
   "outputs": [],
   "source": [
    "# Induzindo o código ao erro\n",
    "n1 = 10\n",
    "n2 = 0"
   ]
  },
  {
   "cell_type": "code",
   "execution_count": 33,
   "id": "f40cc659",
   "metadata": {},
   "outputs": [
    {
     "name": "stdout",
     "output_type": "stream",
     "text": [
      "division by zero\n"
     ]
    }
   ],
   "source": [
    "d.dividir1(n1, n2)"
   ]
  },
  {
   "cell_type": "code",
   "execution_count": 34,
   "id": "ec798e5c",
   "metadata": {},
   "outputs": [
    {
     "name": "stdout",
     "output_type": "stream",
     "text": [
      "division by zero\n"
     ]
    }
   ],
   "source": [
    "d.dividir2(n1, n2)"
   ]
  }
 ],
 "metadata": {
  "kernelspec": {
   "display_name": "Python 3 (ipykernel)",
   "language": "python",
   "name": "python3"
  },
  "language_info": {
   "codemirror_mode": {
    "name": "ipython",
    "version": 3
   },
   "file_extension": ".py",
   "mimetype": "text/x-python",
   "name": "python",
   "nbconvert_exporter": "python",
   "pygments_lexer": "ipython3",
   "version": "3.9.12"
  }
 },
 "nbformat": 4,
 "nbformat_minor": 5
}
