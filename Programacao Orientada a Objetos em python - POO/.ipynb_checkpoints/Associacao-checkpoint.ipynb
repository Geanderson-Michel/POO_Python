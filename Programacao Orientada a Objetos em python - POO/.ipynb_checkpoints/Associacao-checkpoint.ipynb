{
 "cells": [
  {
   "cell_type": "markdown",
   "id": "a089f564",
   "metadata": {},
   "source": [
    "## Associação"
   ]
  },
  {
   "cell_type": "markdown",
   "id": "b4c3073b",
   "metadata": {},
   "source": [
    "**Definição**: É a capacidade de associarmos uma classe a outra. Para isso, uma das classes precisará possuir um atributo que irá receber como valor a instanciação da outra classe. Isso faz com que uma classe faça parte da outra."
   ]
  },
  {
   "cell_type": "code",
   "execution_count": 1,
   "id": "fa1a7fb2",
   "metadata": {},
   "outputs": [],
   "source": [
    "# Exemplo 1\n",
    "class Filhos:\n",
    "    nomes = ['Ana', 'Beatriz', 'Carolina']\n",
    "    \n",
    "class Pessoa:\n",
    "    nome = 'Daniel'\n",
    "    idade = 40\n",
    "    salario = 5200.55\n",
    "    filhos = Filhos() # O atributo filho recebe a instância da classe Filhos. Esse é o conceito de associação da POO no Python"
   ]
  },
  {
   "cell_type": "code",
   "execution_count": 2,
   "id": "02bd69cd",
   "metadata": {},
   "outputs": [],
   "source": [
    "# Definindo um objeto p que instancia a classe Pessoa\n",
    "p = Pessoa()"
   ]
  },
  {
   "cell_type": "code",
   "execution_count": 4,
   "id": "bc198534",
   "metadata": {},
   "outputs": [],
   "source": [
    "# O objeto nome recebe o atributo nome da classe Pessoa\n",
    "nome = p.nome"
   ]
  },
  {
   "cell_type": "code",
   "execution_count": 6,
   "id": "6e52f504",
   "metadata": {},
   "outputs": [],
   "source": [
    "# O objeto idade recebe o atributo idade da classe Pessoa\n",
    "idade = p.idade"
   ]
  },
  {
   "cell_type": "code",
   "execution_count": 7,
   "id": "9ea5b5c4",
   "metadata": {},
   "outputs": [],
   "source": [
    "# O objeto salario recebe o atributo salario da classe Pessoa\n",
    "salario = p.salario"
   ]
  },
  {
   "cell_type": "code",
   "execution_count": 8,
   "id": "3048eea6",
   "metadata": {},
   "outputs": [],
   "source": [
    "# O objeto filhos recebe o atributo filhos da classe Pessoa que, por sua vez, acessa os dados do atributo nomes da classe Filhos\n",
    "filhos = p.filhos.nomes"
   ]
  },
  {
   "cell_type": "code",
   "execution_count": 24,
   "id": "a4f5ebdc",
   "metadata": {},
   "outputs": [
    {
     "name": "stdout",
     "output_type": "stream",
     "text": [
      "Daniel\n",
      "40\n",
      "5200.55\n",
      "['Ana', 'Beatriz', 'Carolina']\n"
     ]
    }
   ],
   "source": [
    "# Exibe os valores instanciados nos objetos listados a seguir\n",
    "print(nome)\n",
    "print(idade)\n",
    "print(salario)\n",
    "print(filhos)"
   ]
  },
  {
   "cell_type": "code",
   "execution_count": 25,
   "id": "c89435f5",
   "metadata": {},
   "outputs": [],
   "source": [
    "# Exemplo 2\n",
    "class Linguagens:\n",
    "    nomes = ['C', 'C++', 'Java', 'JavaScript', 'Python', 'Ruby']\n",
    "    \n",
    "class Profissional:\n",
    "    nome = 'Amanda'\n",
    "    idade = 32\n",
    "    salario = 7400.59\n",
    "    sexo = 'F'\n",
    "    habilidades = Linguagens()"
   ]
  },
  {
   "cell_type": "code",
   "execution_count": 26,
   "id": "79351d45",
   "metadata": {},
   "outputs": [],
   "source": [
    "# Definindo um objeto p para instanciar a classe profissional\n",
    "p = Profissional()"
   ]
  },
  {
   "cell_type": "code",
   "execution_count": 29,
   "id": "786471a6",
   "metadata": {},
   "outputs": [],
   "source": [
    "# Os objetos a seguir recebem os atributos referentes da classe Profissional\n",
    "nome = p.nome\n",
    "idade = p.idade\n",
    "salario = p.salario\n",
    "sexo = p.sexo\n",
    "habilidades = p.habilidades.nomes # Atributo nomes pertence à classe Linguagens que foi instanciada no atributo habilidades "
   ]
  },
  {
   "cell_type": "code",
   "execution_count": 30,
   "id": "2bf06674",
   "metadata": {},
   "outputs": [
    {
     "name": "stdout",
     "output_type": "stream",
     "text": [
      "Amanda\n",
      "32\n",
      "7400.59\n",
      "F\n",
      "['C', 'C++', 'Java', 'JavaScript', 'Python', 'Ruby']\n"
     ]
    }
   ],
   "source": [
    "# Exibe os valores instanciados nos objetos listados a seguir\n",
    "print(nome)\n",
    "print(idade)\n",
    "print(salario)\n",
    "print(sexo)\n",
    "print(habilidades)"
   ]
  },
  {
   "cell_type": "code",
   "execution_count": null,
   "id": "49b95223",
   "metadata": {},
   "outputs": [],
   "source": []
  }
 ],
 "metadata": {
  "kernelspec": {
   "display_name": "Python 3 (ipykernel)",
   "language": "python",
   "name": "python3"
  },
  "language_info": {
   "codemirror_mode": {
    "name": "ipython",
    "version": 3
   },
   "file_extension": ".py",
   "mimetype": "text/x-python",
   "name": "python",
   "nbconvert_exporter": "python",
   "pygments_lexer": "ipython3",
   "version": "3.9.12"
  }
 },
 "nbformat": 4,
 "nbformat_minor": 5
}
