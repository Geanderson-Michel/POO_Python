{
 "cells": [
  {
   "cell_type": "markdown",
   "id": "18a67bbf",
   "metadata": {},
   "source": [
    "## Recursividade"
   ]
  },
  {
   "cell_type": "markdown",
   "id": "fe87b5fa",
   "metadata": {},
   "source": [
    "**Definição**: É a capacidade de um método de chamar ele mesmo."
   ]
  },
  {
   "cell_type": "code",
   "execution_count": 9,
   "id": "1179896e",
   "metadata": {},
   "outputs": [],
   "source": [
    "# Exemplo 1\n",
    "class Laco:\n",
    "    \n",
    "    def repetir(self, inicio = 0, fim = 0, incremento = 1):\n",
    "        \n",
    "        if inicio <= fim:\n",
    "            print(inicio)\n",
    "            inicio += incremento\n",
    "            \n",
    "            # Chama o método repetir com os valores de inicio, fim e incremento atualizados\n",
    "            # O efeito final é de uma execução do método repetir em looping onde só será parado quando inicio > fim\n",
    "            self.repetir(inicio, fim, incremento)  "
   ]
  },
  {
   "cell_type": "code",
   "execution_count": 10,
   "id": "94852bfa",
   "metadata": {},
   "outputs": [],
   "source": [
    "# Definindo um objeto laco para instanciar a classe Laco\n",
    "laco = Laco()"
   ]
  },
  {
   "cell_type": "code",
   "execution_count": 11,
   "id": "64507196",
   "metadata": {},
   "outputs": [
    {
     "name": "stdout",
     "output_type": "stream",
     "text": [
      "0\n",
      "1\n",
      "2\n",
      "3\n",
      "4\n",
      "5\n",
      "6\n",
      "7\n",
      "8\n",
      "9\n"
     ]
    }
   ],
   "source": [
    "# Enviando a mensagem (nome do metodo) repetir para a execucao do metodo repetir\n",
    "laco.repetir(0, 9, 1)"
   ]
  },
  {
   "cell_type": "code",
   "execution_count": 13,
   "id": "631c687c",
   "metadata": {},
   "outputs": [
    {
     "name": "stdout",
     "output_type": "stream",
     "text": [
      "0\n",
      "1\n",
      "2\n",
      "3\n",
      "4\n",
      "5\n",
      "6\n",
      "7\n",
      "8\n",
      "9\n"
     ]
    }
   ],
   "source": [
    "# Outra forma de executar a linha anterior\n",
    "laco.repetir(fim = 9)"
   ]
  }
 ],
 "metadata": {
  "kernelspec": {
   "display_name": "Python 3 (ipykernel)",
   "language": "python",
   "name": "python3"
  },
  "language_info": {
   "codemirror_mode": {
    "name": "ipython",
    "version": 3
   },
   "file_extension": ".py",
   "mimetype": "text/x-python",
   "name": "python",
   "nbconvert_exporter": "python",
   "pygments_lexer": "ipython3",
   "version": "3.9.12"
  }
 },
 "nbformat": 4,
 "nbformat_minor": 5
}
