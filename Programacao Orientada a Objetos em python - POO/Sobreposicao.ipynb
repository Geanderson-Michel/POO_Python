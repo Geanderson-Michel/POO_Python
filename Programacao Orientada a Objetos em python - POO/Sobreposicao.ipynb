{
 "cells": [
  {
   "cell_type": "markdown",
   "id": "16c93e35",
   "metadata": {},
   "source": [
    "## Sobreposicao"
   ]
  },
  {
   "cell_type": "markdown",
   "id": "afeb85fc",
   "metadata": {},
   "source": [
    "**Definição**: É a capacidade de sobrescrever declarações de mesmo nome que tenham sido declaradas anteriormente no nosso código."
   ]
  },
  {
   "cell_type": "code",
   "execution_count": 2,
   "id": "d296f5ca",
   "metadata": {},
   "outputs": [],
   "source": [
    "# Exemplo 1\n",
    "variavel = 'Valor'\n",
    "variavel = 'Valor Atualizado' # O Python vai sobrescrever (atualizar) o valor anterior com o valor atualizado"
   ]
  },
  {
   "cell_type": "markdown",
   "id": "995d084f",
   "metadata": {},
   "source": [
    "Obs.: Em linguagens de programação estruturadas, ou seja, não orientadas a objetos, teríamos um erro se tentássemos declarar duas variáveis com o mesmo nome"
   ]
  },
  {
   "cell_type": "code",
   "execution_count": 3,
   "id": "818dc021",
   "metadata": {},
   "outputs": [
    {
     "name": "stdout",
     "output_type": "stream",
     "text": [
      "Valor Atualizado\n"
     ]
    }
   ],
   "source": [
    "print(variavel)"
   ]
  },
  {
   "cell_type": "code",
   "execution_count": 5,
   "id": "4d5719cd",
   "metadata": {},
   "outputs": [],
   "source": [
    "# Exemplo 2\n",
    "variavel = 'Valor'\n",
    "variavel = 'Valor Atualizado'\n",
    "\n",
    "# Declarando uma função sem pertencer a uma classe\n",
    "# Métodos declarados fora de uma classe é chamado de função também. A diferenciação só ocorre dentro de classes.\n",
    "def chamada01():\n",
    "    print('Chamada 01')\n",
    "    \n",
    "def chamada01(): # Sobrescevendo a função chamada01\n",
    "    print('Chamada 01 atualizada')\n",
    "    \n",
    "def chamada02():\n",
    "    return 'Chamada 02'\n",
    "\n",
    "def chamada02(): # Sobrescevendo a função chamada02\n",
    "    return 'Chamada 02 atualizada'"
   ]
  },
  {
   "cell_type": "code",
   "execution_count": 8,
   "id": "f35d912d",
   "metadata": {},
   "outputs": [
    {
     "name": "stdout",
     "output_type": "stream",
     "text": [
      "Valor Atualizado\n",
      "Chamada 01 atualizada\n",
      "Chamada 02 atualizada\n"
     ]
    }
   ],
   "source": [
    "print(variavel) # Exibirá a variável com valor sobrescrito\n",
    "chamada01() # Exibirá a função chamada01 com valor sobrescrito\n",
    "print(chamada02()) # Exibirá a função chamada02 com valor sobrescrito"
   ]
  },
  {
   "cell_type": "code",
   "execution_count": 9,
   "id": "3031467c",
   "metadata": {},
   "outputs": [],
   "source": [
    "# Exemplo 3\n",
    "class Classe:\n",
    "    \n",
    "    def metodo(self):\n",
    "        print('Método 1')\n",
    "        \n",
    "class Classe:\n",
    "    \n",
    "    def metodo(self):\n",
    "        print('Método 2')"
   ]
  },
  {
   "cell_type": "code",
   "execution_count": 10,
   "id": "316de863",
   "metadata": {},
   "outputs": [],
   "source": [
    "# Definindo um objeto para instanciar a classe Classe\n",
    "c = Classe()"
   ]
  },
  {
   "cell_type": "code",
   "execution_count": 13,
   "id": "f950bdcd",
   "metadata": {},
   "outputs": [
    {
     "name": "stdout",
     "output_type": "stream",
     "text": [
      "Método 2\n"
     ]
    }
   ],
   "source": [
    "# Exibe o valor atualizado gerado pelo método \n",
    "c.metodo()"
   ]
  },
  {
   "cell_type": "code",
   "execution_count": 29,
   "id": "43519d07",
   "metadata": {},
   "outputs": [],
   "source": [
    "# Exemplo 4\n",
    "class Classe:\n",
    "    atributo = 'atributo original'\n",
    "    atributo = 'atributo atualizado'\n",
    "    \n",
    "    def __init__(self): # Método construtor\n",
    "        print('Construção original')\n",
    "        \n",
    "    def __init__(self): # Método construtor atualizado\n",
    "        print('construção atualizada')\n",
    "        \n",
    "    def metodo(self):\n",
    "        print('Método original')\n",
    "    \n",
    "    def metodo(self):\n",
    "        print('Método atualizado')\n",
    "        \n",
    "    def funcao(self):\n",
    "        return 'Função original'\n",
    "    \n",
    "    def funcao(self):\n",
    "        return 'Função atualizada'\n",
    "    \n",
    "    def __del__(self): # Método destrutor\n",
    "        print('Destruição original')\n",
    "        \n",
    "    def __del__(self): # Método destrutor atualizado\n",
    "        print('Destruição atualizada')"
   ]
  },
  {
   "cell_type": "code",
   "execution_count": 30,
   "id": "d63cf85b",
   "metadata": {},
   "outputs": [
    {
     "name": "stdout",
     "output_type": "stream",
     "text": [
      "construção atualizada\n"
     ]
    }
   ],
   "source": [
    "# Definindo um objeto para instanciar a classe Classe\n",
    "c = Classe()"
   ]
  },
  {
   "cell_type": "code",
   "execution_count": 31,
   "id": "14c95fd3",
   "metadata": {},
   "outputs": [
    {
     "name": "stdout",
     "output_type": "stream",
     "text": [
      "atributo atualizado\n",
      "Método atualizado\n",
      "Função atualizada\n",
      "Destruição atualizada\n"
     ]
    }
   ],
   "source": [
    "print(c.atributo) # Exibirá o atributo com valor sobrescrito\n",
    "c.metodo() # Exibirá o metodo com valor sobrescrito\n",
    "print(c.funcao()) # Exibirá a função com valor sobrescrito\n",
    "del c # Deletará o objeto c e exibirá o valor sobrescrito para o método destrutor"
   ]
  },
  {
   "cell_type": "code",
   "execution_count": 35,
   "id": "d3bb5e2e",
   "metadata": {},
   "outputs": [],
   "source": [
    "# Exemplo 5\n",
    "class Primaria: # Classe Pai\n",
    "    atributo = 'Atributo da Pai'\n",
    "    \n",
    "    def __init__(self):\n",
    "        print('Construcao da Pai')\n",
    "        \n",
    "    def metodo(self):\n",
    "        print('Metodo da Pai')\n",
    "        \n",
    "    def funcao(self):\n",
    "        return 'Funcao da Pai'\n",
    "    \n",
    "    def __del__(self):\n",
    "        \n",
    "        print('Destruicao da Pai')\n",
    "        \n",
    "class Secundaria(Primaria): # Classe Filha\n",
    "    atributo = 'Atributo da Filha'\n",
    "    \n",
    "    def __init__(self):\n",
    "        print('Construcao da Filha')\n",
    "        \n",
    "    def metodo(self):\n",
    "        print('Metodo da Filha')\n",
    "        \n",
    "    def funcao(self):\n",
    "        return 'Funcao da Filha'\n",
    "    \n",
    "    def __del__(self):\n",
    "        \n",
    "        print('Destruicao da Filha')"
   ]
  },
  {
   "cell_type": "code",
   "execution_count": 36,
   "id": "4dd3e311",
   "metadata": {},
   "outputs": [
    {
     "name": "stdout",
     "output_type": "stream",
     "text": [
      "Construcao da Filha\n"
     ]
    }
   ],
   "source": [
    "s = Secundaria()"
   ]
  },
  {
   "cell_type": "code",
   "execution_count": 37,
   "id": "03eec7d5",
   "metadata": {},
   "outputs": [
    {
     "name": "stdout",
     "output_type": "stream",
     "text": [
      "Atributo da Filha\n",
      "Metodo da Filha\n",
      "Funcao da Filha\n",
      "Destruicao da Filha\n"
     ]
    }
   ],
   "source": [
    "print(s.atributo) # Exibirá o atributo com valor sobrescrito da Filha\n",
    "s.metodo() # Exibirá o metodo com valor sobrescrito da Filha\n",
    "print(s.funcao()) # Exibirá a função com valor sobrescrito da Filha\n",
    "del s # Deletará o objeto s e exibirá o valor sobrescrito para o método destrutor"
   ]
  }
 ],
 "metadata": {
  "kernelspec": {
   "display_name": "Python 3 (ipykernel)",
   "language": "python",
   "name": "python3"
  },
  "language_info": {
   "codemirror_mode": {
    "name": "ipython",
    "version": 3
   },
   "file_extension": ".py",
   "mimetype": "text/x-python",
   "name": "python",
   "nbconvert_exporter": "python",
   "pygments_lexer": "ipython3",
   "version": "3.9.12"
  }
 },
 "nbformat": 4,
 "nbformat_minor": 5
}
