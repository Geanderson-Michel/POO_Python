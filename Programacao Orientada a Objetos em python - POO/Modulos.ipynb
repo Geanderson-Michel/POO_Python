{
 "cells": [
  {
   "cell_type": "markdown",
   "id": "3b5aa1af",
   "metadata": {},
   "source": [
    "## Módulos"
   ]
  },
  {
   "cell_type": "markdown",
   "id": "4d84266e",
   "metadata": {},
   "source": [
    "**Definição**: São arquivos com extensão .py usados para codificar os algoritmos. Esses módulos, previamente construídos, são importados para o ambiente de desenvolvimento dos códigos e auxiliam no trabalho a ser desenvolvido pelo programador."
   ]
  },
  {
   "cell_type": "code",
   "execution_count": 1,
   "id": "22177956",
   "metadata": {},
   "outputs": [],
   "source": [
    "# Dentro de Modulo_criado01 tem apenas um print com a mensagem Módulo exemplo 01 executado. Veja a seguir.\n",
    "# print('Módulo exemplo 01 executado')"
   ]
  },
  {
   "cell_type": "code",
   "execution_count": 2,
   "id": "f8ba0fc0",
   "metadata": {},
   "outputs": [
    {
     "name": "stdout",
     "output_type": "stream",
     "text": [
      "Módulo exemplo 01 executado\n"
     ]
    }
   ],
   "source": [
    "# Ao importar o módulo, a mensagem será exibida. Esse módulo tem execução direta por só haver um print a ser executado.\n",
    "import Modulo_criado01"
   ]
  },
  {
   "cell_type": "code",
   "execution_count": 3,
   "id": "7f22d4be",
   "metadata": {},
   "outputs": [],
   "source": [
    "# Dentro de Modulo_criado02 tem o seguinte código abaixo\n",
    "\n",
    "#class Classe:\n",
    "#\tdef metodo(self):\n",
    "#\t\tprint('Módulo exemplo 02 executado')"
   ]
  },
  {
   "cell_type": "code",
   "execution_count": 4,
   "id": "02fc57d0",
   "metadata": {},
   "outputs": [],
   "source": [
    "# Para a execução do método dentro da classe (comentado na linha anterior), importa-se, primeiro, a classe da seguinte maneira\n",
    "from Modulo_criado02 import Classe"
   ]
  },
  {
   "cell_type": "code",
   "execution_count": 5,
   "id": "d5667375",
   "metadata": {},
   "outputs": [
    {
     "name": "stdout",
     "output_type": "stream",
     "text": [
      "Módulo exemplo 02 executado\n"
     ]
    }
   ],
   "source": [
    "c = Classe() # Definindo um objeto c para instanciar a classe\n",
    "c.metodo() # Executando o método"
   ]
  },
  {
   "cell_type": "code",
   "execution_count": 6,
   "id": "6218d0e9",
   "metadata": {},
   "outputs": [],
   "source": [
    "# Dentro de Modulo_criado03 tem o seguinte código abaixo\n",
    "\n",
    "#class Execucao:\n",
    "#\tdef executar(self):\n",
    "#\t\tprint('Método do módulo 3 executado')\n",
    "\n",
    "#e = Execucao() # Instanciação da classe\n",
    "#e.executar() # Execução do método"
   ]
  },
  {
   "cell_type": "code",
   "execution_count": 7,
   "id": "0af03def",
   "metadata": {},
   "outputs": [
    {
     "name": "stdout",
     "output_type": "stream",
     "text": [
      "Método do módulo 3 executado\n"
     ]
    }
   ],
   "source": [
    "# Devido a forma como o Modulo_criado03 foi construído, a execução nesse caso também é direta após a importação do módulo\n",
    "import Modulo_criado03"
   ]
  },
  {
   "cell_type": "markdown",
   "id": "3dcf9818",
   "metadata": {},
   "source": [
    "## Execução de módulos com a variável nativa name e main"
   ]
  },
  {
   "cell_type": "code",
   "execution_count": 8,
   "id": "0a73c858",
   "metadata": {},
   "outputs": [],
   "source": [
    "# Dentro de Modulo_criado04 tem o seguinte código abaixo\n",
    "\n",
    "#class Execucao:\n",
    "#\tdef executar(self):\n",
    "#\t\tprint('Método do módulo 3 executado')\n",
    "\n",
    "# O bloco abaixo funciona da seguinte forma:\n",
    "# 1) Caso esse módulo (script) esteja sendo executado de forma direta (ex. pelo terminal ou pressionando build - CTRL + B), o bloco dentro da condição será executado\n",
    "# 2) Caso o módulo esteja sendo importado por outro arquivo de código para ser utilizado (executado), o bloco dentro da condição if não será executado\n",
    "\n",
    "#if __name__ == '__main__':\n",
    "\n",
    "#\te = Execucao() # Instanciação da classe\n",
    "#\te.executar() # Execução do método"
   ]
  },
  {
   "cell_type": "code",
   "execution_count": 9,
   "id": "e4dd5be2",
   "metadata": {},
   "outputs": [],
   "source": [
    "# Importação da classe Execucao\n",
    "from Modulo_criado04 import Execucao"
   ]
  },
  {
   "cell_type": "code",
   "execution_count": 10,
   "id": "6dc8d4ec",
   "metadata": {},
   "outputs": [],
   "source": [
    "e = Execucao() # Instanciação da classe Execucao"
   ]
  },
  {
   "cell_type": "code",
   "execution_count": 11,
   "id": "d743aeed",
   "metadata": {},
   "outputs": [
    {
     "name": "stdout",
     "output_type": "stream",
     "text": [
      "Método do módulo 4 executado\n"
     ]
    }
   ],
   "source": [
    "e.executar() # Instanciação do módulo executar"
   ]
  },
  {
   "cell_type": "code",
   "execution_count": null,
   "id": "64100a92",
   "metadata": {},
   "outputs": [],
   "source": [
    "# Dentro de Modulo_criado05 tem o seguinte código abaixo\n",
    "\n",
    "#class Classe1:\n",
    "\n",
    "#\tdef metodo1(self):\n",
    "#\t\tprint('Método da Classe1')\n",
    "\n",
    "#class Classe2:\n",
    "\n",
    "#\tdef metodo2(self):\n",
    "#\t\tprint('Método da Classe2')\n",
    "\n",
    "#class Classe3:\n",
    "\n",
    "#\tdef metodo3(self):\n",
    "#\t\tprint('Método da Classe3')"
   ]
  },
  {
   "cell_type": "code",
   "execution_count": 12,
   "id": "148dd3b7",
   "metadata": {},
   "outputs": [],
   "source": [
    "# Uma maneira de importar as classes de dentro do módulo Modulo_criado05\n",
    "from Modulo_criado05 import Classe1, Classe2, Classe3"
   ]
  },
  {
   "cell_type": "code",
   "execution_count": 14,
   "id": "0e6658a3",
   "metadata": {},
   "outputs": [],
   "source": [
    "# Declarando os objetos c1, c2 e c3 para instanciação das classes Classe1, Classe2 e Classe3 respectivamente\n",
    "c1 = Classe1()\n",
    "c2 = Classe2()\n",
    "c3 = Classe3()"
   ]
  },
  {
   "cell_type": "code",
   "execution_count": 15,
   "id": "2606ddf7",
   "metadata": {},
   "outputs": [
    {
     "name": "stdout",
     "output_type": "stream",
     "text": [
      "Método da Classe1\n",
      "Método da Classe2\n",
      "Método da Classe3\n"
     ]
    }
   ],
   "source": [
    "# Exibe os valores gerados pelos métodos metodo1, metodo2 e metodo3\n",
    "c1.metodo1()\n",
    "c2.metodo2()\n",
    "c3.metodo3()"
   ]
  },
  {
   "cell_type": "code",
   "execution_count": 16,
   "id": "b4ce4a99",
   "metadata": {},
   "outputs": [],
   "source": [
    "# Outra maneira de importar as classes de dentro do módulo Modulo_criado05\n",
    "from Modulo_criado05 import *"
   ]
  },
  {
   "cell_type": "code",
   "execution_count": 17,
   "id": "6020b8b2",
   "metadata": {},
   "outputs": [],
   "source": [
    "# Declarando os objetos c1, c2 e c3 para instanciação das classes Classe1, Classe2 e Classe3 respectivamente\n",
    "c1 = Classe1()\n",
    "c2 = Classe2()\n",
    "c3 = Classe3()"
   ]
  },
  {
   "cell_type": "code",
   "execution_count": 24,
   "id": "29b60b8a",
   "metadata": {},
   "outputs": [
    {
     "name": "stdout",
     "output_type": "stream",
     "text": [
      "Método da Classe1\n",
      "Método da Classe2\n",
      "Método da Classe3\n"
     ]
    }
   ],
   "source": [
    "# Exibe os valores gerados pelos métodos metodo1, metodo2 e metodo3\n",
    "c1.metodo1()\n",
    "c2.metodo2()\n",
    "c3.metodo3()"
   ]
  },
  {
   "cell_type": "markdown",
   "id": "ed874062",
   "metadata": {},
   "source": [
    "## Importando somente as classes necessárias"
   ]
  },
  {
   "cell_type": "code",
   "execution_count": 26,
   "id": "c18e4240",
   "metadata": {},
   "outputs": [],
   "source": [
    "# É importante evitar as importações desnecessárias para evitar a lentidão no processamento do código ou, até mesmo, seu travamento.\n",
    "# Nesse exemplo, a Classe2 não é utilizada para o desenvolvimento do código, logo, não deve ser feita a sua importação.\n",
    "from Modulo_criado05 import Classe1, Classe3"
   ]
  },
  {
   "cell_type": "code",
   "execution_count": 27,
   "id": "82306c20",
   "metadata": {},
   "outputs": [],
   "source": [
    "# Declarando os objetos c1 e c3 para instanciação das classes Classe1 e Classe3 respectivamente\n",
    "c1 = Classe1()\n",
    "c3 = Classe3()"
   ]
  },
  {
   "cell_type": "code",
   "execution_count": 28,
   "id": "18e9c529",
   "metadata": {},
   "outputs": [
    {
     "name": "stdout",
     "output_type": "stream",
     "text": [
      "Método da Classe1\n",
      "Método da Classe3\n"
     ]
    }
   ],
   "source": [
    "# Exibe os valores gerados pelos métodos metodo1 e metodo3\n",
    "c1.metodo1()\n",
    "c3.metodo3()"
   ]
  },
  {
   "cell_type": "markdown",
   "id": "9e8c597a",
   "metadata": {},
   "source": [
    "## Renomeando as classes no momento da sua importação"
   ]
  },
  {
   "cell_type": "code",
   "execution_count": 1,
   "id": "21695d11",
   "metadata": {},
   "outputs": [],
   "source": [
    "# Renomeando apenas a Classe1\n",
    "from Modulo_criado05 import Classe1 as C1 # Renomeando a Classe1 para um nome mais curto: C1"
   ]
  },
  {
   "cell_type": "code",
   "execution_count": 2,
   "id": "db9566e0",
   "metadata": {},
   "outputs": [],
   "source": [
    "c1 = C1()"
   ]
  },
  {
   "cell_type": "code",
   "execution_count": 3,
   "id": "48c01f25",
   "metadata": {},
   "outputs": [
    {
     "name": "stdout",
     "output_type": "stream",
     "text": [
      "Método da Classe1\n"
     ]
    }
   ],
   "source": [
    "c1.metodo1()"
   ]
  },
  {
   "cell_type": "code",
   "execution_count": 4,
   "id": "059f6369",
   "metadata": {},
   "outputs": [],
   "source": [
    "# Renomeando as classes Classe1 e Classe3\n",
    "from Modulo_criado05 import Classe1 as C1, Classe3 as C3 # Renomeando as classes Classe1 e Classe3 para nomes mais curtos: C1 e C3"
   ]
  },
  {
   "cell_type": "code",
   "execution_count": 5,
   "id": "9864d27e",
   "metadata": {},
   "outputs": [],
   "source": [
    "c1 = C1()\n",
    "c3 = C3()"
   ]
  },
  {
   "cell_type": "code",
   "execution_count": 6,
   "id": "aa2ea550",
   "metadata": {},
   "outputs": [
    {
     "name": "stdout",
     "output_type": "stream",
     "text": [
      "Método da Classe1\n",
      "Método da Classe3\n"
     ]
    }
   ],
   "source": [
    "c1.metodo1()\n",
    "c3.metodo3()"
   ]
  },
  {
   "cell_type": "code",
   "execution_count": null,
   "id": "4a6e7393",
   "metadata": {},
   "outputs": [],
   "source": []
  }
 ],
 "metadata": {
  "kernelspec": {
   "display_name": "Python 3 (ipykernel)",
   "language": "python",
   "name": "python3"
  },
  "language_info": {
   "codemirror_mode": {
    "name": "ipython",
    "version": 3
   },
   "file_extension": ".py",
   "mimetype": "text/x-python",
   "name": "python",
   "nbconvert_exporter": "python",
   "pygments_lexer": "ipython3",
   "version": "3.9.12"
  }
 },
 "nbformat": 4,
 "nbformat_minor": 5
}
