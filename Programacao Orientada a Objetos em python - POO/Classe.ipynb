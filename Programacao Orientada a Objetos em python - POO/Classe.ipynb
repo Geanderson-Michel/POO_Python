{
 "cells": [
  {
   "cell_type": "markdown",
   "id": "0eb6c24b",
   "metadata": {},
   "source": [
    "## Classes"
   ]
  },
  {
   "cell_type": "markdown",
   "id": "a238bc1f",
   "metadata": {},
   "source": [
    "**Definição**: Estrutura que armazena funções, métodos e atributos e os executa por meio de chamadas. As classes, muitas vezes, tornam o algoritmo mais simples de entender e facilita o reuso das funções e métodos."
   ]
  },
  {
   "cell_type": "markdown",
   "id": "de990246",
   "metadata": {},
   "source": [
    "### **Definindo uma classe**"
   ]
  },
  {
   "cell_type": "code",
   "execution_count": 8,
   "id": "1c5dfbc0",
   "metadata": {},
   "outputs": [],
   "source": [
    "# 1° exemplo de classe\n",
    "class Classe_1:    \n",
    "    # O parâmetro self é obrigatório e aparece primeiro como argumento de um método\n",
    "    # Pode haver outros parâmetros (não obrigatórios) como argumento de um método\n",
    "    def metodo_1(self):\n",
    "        print('Mensagem de teste')"
   ]
  },
  {
   "cell_type": "code",
   "execution_count": 9,
   "id": "c27f7e3d",
   "metadata": {},
   "outputs": [
    {
     "name": "stdout",
     "output_type": "stream",
     "text": [
      "Mensagem de teste\n"
     ]
    }
   ],
   "source": [
    "# Instanciamos a classe para acessar o método.\n",
    "Classe_1().metodo_1()"
   ]
  },
  {
   "cell_type": "code",
   "execution_count": 10,
   "id": "346e7645",
   "metadata": {},
   "outputs": [],
   "source": [
    "# 2° Exemplo de Classe\n",
    "class Classe_2:    \n",
    "    def metodo_2(self):\n",
    "        print('Método da classe 2')\n",
    "        \n",
    "class Classe_3:\n",
    "    def metodo_3(self):\n",
    "        print('Método da classe 3')"
   ]
  },
  {
   "cell_type": "code",
   "execution_count": 11,
   "id": "130ceed7",
   "metadata": {},
   "outputs": [
    {
     "name": "stdout",
     "output_type": "stream",
     "text": [
      "Método da classe 2\n"
     ]
    }
   ],
   "source": [
    "Classe_2().metodo_2()"
   ]
  },
  {
   "cell_type": "code",
   "execution_count": 12,
   "id": "5b682d20",
   "metadata": {},
   "outputs": [
    {
     "name": "stdout",
     "output_type": "stream",
     "text": [
      "Método da classe 3\n"
     ]
    }
   ],
   "source": [
    "Classe_3().metodo_3()"
   ]
  },
  {
   "cell_type": "code",
   "execution_count": 13,
   "id": "137ef1f1",
   "metadata": {},
   "outputs": [],
   "source": [
    "# 3° Exemplo de Classe\n",
    "class Mensagens:\n",
    "    def saudacao(self):\n",
    "        print('Seja bem vindo')\n",
    "    \n",
    "    def despedida(self):\n",
    "        print(\"Até logo\")"
   ]
  },
  {
   "cell_type": "code",
   "execution_count": 14,
   "id": "a473c563",
   "metadata": {},
   "outputs": [
    {
     "name": "stdout",
     "output_type": "stream",
     "text": [
      "Seja bem vindo\n"
     ]
    }
   ],
   "source": [
    "Mensagens().saudacao()"
   ]
  },
  {
   "cell_type": "code",
   "execution_count": 35,
   "id": "6460d7b2",
   "metadata": {},
   "outputs": [
    {
     "name": "stdout",
     "output_type": "stream",
     "text": [
      "Até logo\n"
     ]
    }
   ],
   "source": [
    "Mensagens().despedida()"
   ]
  },
  {
   "cell_type": "markdown",
   "id": "a41ab805",
   "metadata": {},
   "source": [
    "### **Formas de definir uma classe**\n"
   ]
  },
  {
   "cell_type": "code",
   "execution_count": 31,
   "id": "fc7dbc18",
   "metadata": {},
   "outputs": [],
   "source": [
    "# 1a forma de definir uma classe (mais utilizada)\n",
    "class Calculo_1:\n",
    "    def soma(self, a, b):\n",
    "        return a + b\n",
    "\n",
    "# Forma implícita de transformar essa classe em objeto\n",
    "class Calculo_2():\n",
    "    def soma(self, a, b):\n",
    "        return a + b\n",
    "\n",
    "# Forma explícita de transformar essa classe em objeto\n",
    "class Calculo_3(object):\n",
    "    def soma(self, a, b):\n",
    "        return a + b"
   ]
  },
  {
   "cell_type": "code",
   "execution_count": 32,
   "id": "e3669f6f",
   "metadata": {},
   "outputs": [
    {
     "data": {
      "text/plain": [
       "5"
      ]
     },
     "execution_count": 32,
     "metadata": {},
     "output_type": "execute_result"
    }
   ],
   "source": [
    "Calculo_1().soma(2, 3)"
   ]
  },
  {
   "cell_type": "code",
   "execution_count": 33,
   "id": "127693b0",
   "metadata": {},
   "outputs": [
    {
     "data": {
      "text/plain": [
       "5"
      ]
     },
     "execution_count": 33,
     "metadata": {},
     "output_type": "execute_result"
    }
   ],
   "source": [
    "Calculo_2().soma(2, 3)"
   ]
  },
  {
   "cell_type": "code",
   "execution_count": 34,
   "id": "d0ea35cc",
   "metadata": {},
   "outputs": [
    {
     "data": {
      "text/plain": [
       "5"
      ]
     },
     "execution_count": 34,
     "metadata": {},
     "output_type": "execute_result"
    }
   ],
   "source": [
    "Calculo_3().soma(2, 3)"
   ]
  },
  {
   "cell_type": "markdown",
   "id": "e59125b3",
   "metadata": {},
   "source": [
    "### **Método Construtor**"
   ]
  },
  {
   "cell_type": "markdown",
   "id": "e5ccd3ae",
   "metadata": {},
   "source": [
    "O método construtor será acionado sempre que a classe for carregada na memória. Quando declaramos uma classe dentro do algoritmo, ela é armazenada em memória pelo interpretador. Após isso, a classe só será carregada quando houver uma referência a ela. Toda vez que a classe for carregada, ela irá acionar automaticamente o **método construtor**."
   ]
  },
  {
   "cell_type": "code",
   "execution_count": 39,
   "id": "0c4cfbf3",
   "metadata": {},
   "outputs": [],
   "source": [
    "# Exemplo 1\n",
    "class Classe:\n",
    "    # O método construtor é um método interno de uma classe e vem logo no início de sua classe\n",
    "    def __init__(self):\n",
    "        print(\"Classe carregada em memória\")"
   ]
  },
  {
   "cell_type": "code",
   "execution_count": 41,
   "id": "ce424532",
   "metadata": {},
   "outputs": [
    {
     "name": "stdout",
     "output_type": "stream",
     "text": [
      "Classe carregada em memória\n"
     ]
    }
   ],
   "source": [
    "# Ao instanciar a classe, veja o resultado\n",
    "Classe();"
   ]
  },
  {
   "cell_type": "code",
   "execution_count": 44,
   "id": "3bdf7196",
   "metadata": {},
   "outputs": [],
   "source": [
    "# Exemplo 2\n",
    "class Classe:\n",
    "    def __init__(self, msg):\n",
    "        print(msg)\n",
    "        \n",
    "    def metodo(self):\n",
    "        print(\"Método acionado\")"
   ]
  },
  {
   "cell_type": "code",
   "execution_count": 46,
   "id": "90eb61bf",
   "metadata": {},
   "outputs": [
    {
     "name": "stdout",
     "output_type": "stream",
     "text": [
      "Classe carregada em memória\n",
      "Método acionado\n"
     ]
    }
   ],
   "source": [
    "# O parâmetro msg presente como argumento do construtor é passado dentro do argumento da classe\n",
    "Classe(\"Classe carregada em memória\").metodo()"
   ]
  },
  {
   "cell_type": "markdown",
   "id": "8b2f27a4",
   "metadata": {},
   "source": [
    "### **Método Destrutor**"
   ]
  },
  {
   "cell_type": "markdown",
   "id": "68430657",
   "metadata": {},
   "source": [
    "O método destrutor é o oposto ao método construtor. O método destrutor será acionado sempre que a classe for descarregada da memória. "
   ]
  },
  {
   "cell_type": "code",
   "execution_count": 188,
   "id": "dc3c1b01",
   "metadata": {},
   "outputs": [],
   "source": [
    "# Exemplo 1\n",
    "class Classe:\n",
    "    \n",
    "    def metodo(self):\n",
    "        print('Método executado')\n",
    "    \n",
    "    # O método destrutor é um método interno de uma classe e vem no final de sua classe\n",
    "    def __del__(self):\n",
    "        print(\"Classe descarregada da memória\")"
   ]
  },
  {
   "cell_type": "code",
   "execution_count": 189,
   "id": "5bfa8475",
   "metadata": {},
   "outputs": [],
   "source": [
    "# Instanciando a Classe\n",
    "c = Classe()"
   ]
  },
  {
   "cell_type": "code",
   "execution_count": 190,
   "id": "a48f1555",
   "metadata": {},
   "outputs": [
    {
     "name": "stdout",
     "output_type": "stream",
     "text": [
      "Método executado\n"
     ]
    }
   ],
   "source": [
    "# Executando o método\n",
    "c.metodo()"
   ]
  },
  {
   "cell_type": "code",
   "execution_count": 191,
   "id": "7021000e",
   "metadata": {},
   "outputs": [
    {
     "name": "stdout",
     "output_type": "stream",
     "text": [
      "Classe descarregada da memória\n"
     ]
    }
   ],
   "source": [
    "# Após deletar a variável c, o método destrutor é acionado\n",
    "del c"
   ]
  },
  {
   "cell_type": "code",
   "execution_count": 224,
   "id": "61714917",
   "metadata": {},
   "outputs": [],
   "source": [
    "# Exemplo 2\n",
    "class Classe:\n",
    "    \n",
    "    def __init__(self):\n",
    "        print('Classe carregada na memória')\n",
    "    \n",
    "    def metodo(self):\n",
    "        print('Método executado')\n",
    "    \n",
    "    # O método destrutor é um método interno de uma classe e vem no final de sua classe\n",
    "    def __del__(self):\n",
    "        print(\"Classe descarregada da memória\")"
   ]
  },
  {
   "cell_type": "code",
   "execution_count": 225,
   "id": "35f5ccde",
   "metadata": {},
   "outputs": [
    {
     "name": "stdout",
     "output_type": "stream",
     "text": [
      "Classe carregada na memória\n"
     ]
    }
   ],
   "source": [
    "# Instanciando a Classe e o método construtor é acionado automaticamente\n",
    "c = Classe()"
   ]
  },
  {
   "cell_type": "code",
   "execution_count": 226,
   "id": "ae14b55e",
   "metadata": {},
   "outputs": [
    {
     "name": "stdout",
     "output_type": "stream",
     "text": [
      "Classe carregada na memória\n"
     ]
    }
   ],
   "source": [
    "# Método construtor é acionado manualmente\n",
    "c.__init__()"
   ]
  },
  {
   "cell_type": "code",
   "execution_count": 227,
   "id": "1ecf6725",
   "metadata": {},
   "outputs": [
    {
     "name": "stdout",
     "output_type": "stream",
     "text": [
      "Método executado\n"
     ]
    }
   ],
   "source": [
    "c.metodo()"
   ]
  },
  {
   "cell_type": "code",
   "execution_count": 228,
   "id": "3b2f4d35",
   "metadata": {},
   "outputs": [
    {
     "name": "stdout",
     "output_type": "stream",
     "text": [
      "Classe descarregada da memória\n"
     ]
    }
   ],
   "source": [
    "# Método destrutor é acionado manualmente\n",
    "c.__del__()"
   ]
  },
  {
   "cell_type": "code",
   "execution_count": 229,
   "id": "58cee068",
   "metadata": {},
   "outputs": [
    {
     "name": "stdout",
     "output_type": "stream",
     "text": [
      "Classe descarregada da memória\n"
     ]
    }
   ],
   "source": [
    "# Deletamos a Classe e o método destrutor é acionado\n",
    "del c"
   ]
  }
 ],
 "metadata": {
  "kernelspec": {
   "display_name": "Python 3 (ipykernel)",
   "language": "python",
   "name": "python3"
  },
  "language_info": {
   "codemirror_mode": {
    "name": "ipython",
    "version": 3
   },
   "file_extension": ".py",
   "mimetype": "text/x-python",
   "name": "python",
   "nbconvert_exporter": "python",
   "pygments_lexer": "ipython3",
   "version": "3.9.12"
  }
 },
 "nbformat": 4,
 "nbformat_minor": 5
}
